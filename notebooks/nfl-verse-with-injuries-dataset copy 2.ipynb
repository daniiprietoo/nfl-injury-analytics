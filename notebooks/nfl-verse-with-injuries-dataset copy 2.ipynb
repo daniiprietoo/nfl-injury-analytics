{
 "cells": [
  {
   "cell_type": "markdown",
   "metadata": {},
   "source": [
    "# NFL Verse Analysis\n",
    "This notebook was created to analyze injuries on the NFL Verse datasets. Multiple datasets were used to analyze the injuries of players in the NFL. The datasets include:\n",
    "- injuries data\n",
    "- play-by-play data\n",
    "- schedule data"
   ]
  },
  {
   "cell_type": "markdown",
   "metadata": {},
   "source": [
    "This first section is amied to load the datasets for the first time from the NFL Verse API. We used the nflverse python package to load the datasets."
   ]
  },
  {
   "cell_type": "code",
   "execution_count": 568,
   "metadata": {},
   "outputs": [],
   "source": [
    "import pandas as pd\n",
    "import numpy as np\n",
    "import matplotlib.pyplot as plt\n",
    "import nfl_data_py as nfl\n",
    "import seaborn as sns"
   ]
  },
  {
   "cell_type": "code",
   "execution_count": 569,
   "metadata": {},
   "outputs": [],
   "source": [
    "# # Run only once to download the data then commment out.\n",
    "# years = range(2010, 2024)\n",
    "\n",
    "# # Get the injury data\n",
    "# injuries = nfl.import_injuries(years)"
   ]
  },
  {
   "cell_type": "code",
   "execution_count": 570,
   "metadata": {},
   "outputs": [],
   "source": [
    "# injuries.head()"
   ]
  },
  {
   "cell_type": "markdown",
   "metadata": {},
   "source": [
    "Get more datatets to combine with injuries."
   ]
  },
  {
   "cell_type": "code",
   "execution_count": 571,
   "metadata": {},
   "outputs": [],
   "source": [
    "# # Get the play-by-play data\n",
    "# pbp = nfl.import_pbp_data(years, downcast=True, cache=False, alt_path=None)\n",
    "\n",
    "# # Schedule\n",
    "# s = nfl.import_schedules(years)"
   ]
  },
  {
   "cell_type": "markdown",
   "metadata": {},
   "source": [
    "Store the data for future reference, and not have to re-download it."
   ]
  },
  {
   "cell_type": "code",
   "execution_count": 572,
   "metadata": {},
   "outputs": [],
   "source": [
    "# injuries.to_csv('../data/raw/NFL_verse_injuries.csv', index=False)\n",
    "# pbp.to_csv('../data/raw/NFL_verse_pbp.csv', index=False)\n",
    "# s.to_csv('../data/raw/NFL_verse_schedule.csv', index=False)"
   ]
  },
  {
   "cell_type": "markdown",
   "metadata": {},
   "source": [
    "RUN ONLY IF DATA ALREADY EXISTS"
   ]
  },
  {
   "cell_type": "code",
   "execution_count": 573,
   "metadata": {},
   "outputs": [
    {
     "name": "stderr",
     "output_type": "stream",
     "text": [
      "/var/folders/fv/6ssdmf5n3cs0c8kp8swwnx280000gn/T/ipykernel_39999/1951509686.py:2: DtypeWarning: Columns (45,179,180,182,183,189,190,193,194,195,196,197,198,203,204,205,206,209,210,213,214,218,219,220,222,224,226,233,234,235,236,237,238,243,244,245,248,249,253,254,255,260,262,263,266,267,268,269,277,283,284,302,332,372,373,374,375,377,379,380,381,386,387,388,389) have mixed types. Specify dtype option on import or set low_memory=False.\n",
      "  pbp = pd.read_csv('../data/raw/NFL_verse_pbp_data.csv')\n"
     ]
    }
   ],
   "source": [
    "injuries = pd.read_csv('../data/raw/NFL_verse_injuries.csv')\n",
    "pbp = pd.read_csv('../data/raw/NFL_verse_pbp_data.csv')\n",
    "s = pd.read_csv('../data/raw/NFL_verse_schedules.csv')"
   ]
  },
  {
   "cell_type": "code",
   "execution_count": 574,
   "metadata": {},
   "outputs": [
    {
     "name": "stdout",
     "output_type": "stream",
     "text": [
      "Injuries has 79863 rows and 16 columns\n",
      "PBP has 672072 rows and 390 columns\n",
      "Schedule has 3793 rows and 46 columns\n"
     ]
    }
   ],
   "source": [
    "print(f\"Injuries has {injuries.shape[0]} rows and {injuries.shape[1]} columns\")\n",
    "print(f\"PBP has {pbp.shape[0]} rows and {pbp.shape[1]} columns\")\n",
    "print(f\"Schedule has {s.shape[0]} rows and {s.shape[1]} columns\")"
   ]
  },
  {
   "cell_type": "markdown",
   "metadata": {},
   "source": [
    "Create a dict of schedule to create the game_id in the injuries data."
   ]
  },
  {
   "cell_type": "code",
   "execution_count": 575,
   "metadata": {},
   "outputs": [
    {
     "data": {
      "text/html": [
       "<div>\n",
       "<style scoped>\n",
       "    .dataframe tbody tr th:only-of-type {\n",
       "        vertical-align: middle;\n",
       "    }\n",
       "\n",
       "    .dataframe tbody tr th {\n",
       "        vertical-align: top;\n",
       "    }\n",
       "\n",
       "    .dataframe thead th {\n",
       "        text-align: right;\n",
       "    }\n",
       "</style>\n",
       "<table border=\"1\" class=\"dataframe\">\n",
       "  <thead>\n",
       "    <tr style=\"text-align: right;\">\n",
       "      <th></th>\n",
       "      <th>season</th>\n",
       "      <th>week</th>\n",
       "      <th>home_team</th>\n",
       "      <th>away_team</th>\n",
       "      <th>game_id</th>\n",
       "    </tr>\n",
       "  </thead>\n",
       "  <tbody>\n",
       "    <tr>\n",
       "      <th>0</th>\n",
       "      <td>2010</td>\n",
       "      <td>1</td>\n",
       "      <td>NO</td>\n",
       "      <td>MIN</td>\n",
       "      <td>2010_01_MIN_NO</td>\n",
       "    </tr>\n",
       "    <tr>\n",
       "      <th>1</th>\n",
       "      <td>2010</td>\n",
       "      <td>1</td>\n",
       "      <td>BUF</td>\n",
       "      <td>MIA</td>\n",
       "      <td>2010_01_MIA_BUF</td>\n",
       "    </tr>\n",
       "    <tr>\n",
       "      <th>2</th>\n",
       "      <td>2010</td>\n",
       "      <td>1</td>\n",
       "      <td>CHI</td>\n",
       "      <td>DET</td>\n",
       "      <td>2010_01_DET_CHI</td>\n",
       "    </tr>\n",
       "    <tr>\n",
       "      <th>3</th>\n",
       "      <td>2010</td>\n",
       "      <td>1</td>\n",
       "      <td>HOU</td>\n",
       "      <td>IND</td>\n",
       "      <td>2010_01_IND_HOU</td>\n",
       "    </tr>\n",
       "    <tr>\n",
       "      <th>4</th>\n",
       "      <td>2010</td>\n",
       "      <td>1</td>\n",
       "      <td>JAX</td>\n",
       "      <td>DEN</td>\n",
       "      <td>2010_01_DEN_JAX</td>\n",
       "    </tr>\n",
       "  </tbody>\n",
       "</table>\n",
       "</div>"
      ],
      "text/plain": [
       "   season  week home_team away_team          game_id\n",
       "0    2010     1        NO       MIN   2010_01_MIN_NO\n",
       "1    2010     1       BUF       MIA  2010_01_MIA_BUF\n",
       "2    2010     1       CHI       DET  2010_01_DET_CHI\n",
       "3    2010     1       HOU       IND  2010_01_IND_HOU\n",
       "4    2010     1       JAX       DEN  2010_01_DEN_JAX"
      ]
     },
     "execution_count": 575,
     "metadata": {},
     "output_type": "execute_result"
    }
   ],
   "source": [
    "s[['season', 'week', 'home_team', 'away_team', 'game_id']].head()"
   ]
  },
  {
   "cell_type": "markdown",
   "metadata": {},
   "source": [
    "Run only once to get the game_id for each injury"
   ]
  },
  {
   "cell_type": "code",
   "execution_count": 576,
   "metadata": {},
   "outputs": [],
   "source": [
    "# # Create a dict of schedule to create the game_id in the injuries data, get the year, week, home and away team\n",
    "# schedule_dict = {}\n",
    "\n",
    "# for index, row in s.iterrows():\n",
    "#   schedule_dict[row['game_id']] = {\n",
    "#     'season': row['season'],\n",
    "#     'week': row['week'],\n",
    "#     'home_team': row['home_team'],\n",
    "#     'away_team': row['away_team']\n",
    "#   }\n",
    "\n",
    "# # The injury data does not have game_id, so we need to create it using the schedule data\n",
    "# # It only has season, week, and the team that the player played for\n",
    "# injuries['game_id'] = 'unknown'  # Initialize game_id column\n",
    "\n",
    "# for index, row in injuries.iterrows():\n",
    "#   for game_id, game_info in schedule_dict.items():\n",
    "#     if (game_info['season'] == row['season'] and\n",
    "#       game_info['week'] == row['week'] and\n",
    "#       (game_info['home_team'] == row['team'] or game_info['away_team'] == row['team'])):\n",
    "#       row['game_id'] = game_id\n",
    "#       break  # Stop searching once a match is found\n",
    "#   injuries.loc[index, 'game_id'] = row['game_id']\n"
   ]
  },
  {
   "cell_type": "code",
   "execution_count": 577,
   "metadata": {},
   "outputs": [],
   "source": [
    "# injuries.to_csv('../data/processed/NFL_verse_injuries_with_game_id.csv', index=False)"
   ]
  },
  {
   "cell_type": "markdown",
   "metadata": {},
   "source": [
    "ONLY AFTER RUNNING THE ABOVE CODE ONCE"
   ]
  },
  {
   "cell_type": "code",
   "execution_count": 578,
   "metadata": {},
   "outputs": [],
   "source": [
    "injuries = pd.read_csv('../data/processed/NFL_verse_injuries_with_game_id.csv', low_memory=False)"
   ]
  },
  {
   "cell_type": "code",
   "execution_count": 579,
   "metadata": {},
   "outputs": [
    {
     "data": {
      "text/plain": [
       "epa\n",
       "-0.000000    62681\n",
       " 0.067573     7362\n",
       " 0.017961     3597\n",
       " 0.051172     1650\n",
       " 0.068571     1635\n",
       "             ...  \n",
       "-6.767765        1\n",
       "-1.589286        1\n",
       "-0.784045        1\n",
       " 0.777927        1\n",
       " 3.102806        1\n",
       "Name: count, Length: 574989, dtype: int64"
      ]
     },
     "execution_count": 579,
     "metadata": {},
     "output_type": "execute_result"
    }
   ],
   "source": [
    "pbp['epa'].value_counts()"
   ]
  },
  {
   "cell_type": "markdown",
   "metadata": {},
   "source": [
    "## Cleaning the data"
   ]
  },
  {
   "cell_type": "markdown",
   "metadata": {},
   "source": [
    "### Clean the injuries data"
   ]
  },
  {
   "cell_type": "markdown",
   "metadata": {},
   "source": [
    "Rename columns and select only the columns we need."
   ]
  },
  {
   "cell_type": "code",
   "execution_count": 580,
   "metadata": {},
   "outputs": [
    {
     "data": {
      "text/plain": [
       "79863"
      ]
     },
     "execution_count": 580,
     "metadata": {},
     "output_type": "execute_result"
    }
   ],
   "source": [
    "injuries_renamed = injuries.rename(columns={\n",
    "    'gsis_id': 'player_id',\n",
    "    'report_primary_injury': 'injury_body_part',\n",
    "    'report_status': 'severity'\n",
    "})[['game_id', 'player_id', 'injury_body_part', 'severity', 'position']]\n",
    "\n",
    "injuries_renamed['injury_body_part'] = injuries_renamed['injury_body_part'].str.lower()\n",
    "len(injuries_renamed)"
   ]
  },
  {
   "cell_type": "code",
   "execution_count": 581,
   "metadata": {},
   "outputs": [
    {
     "data": {
      "text/html": [
       "<div>\n",
       "<style scoped>\n",
       "    .dataframe tbody tr th:only-of-type {\n",
       "        vertical-align: middle;\n",
       "    }\n",
       "\n",
       "    .dataframe tbody tr th {\n",
       "        vertical-align: top;\n",
       "    }\n",
       "\n",
       "    .dataframe thead th {\n",
       "        text-align: right;\n",
       "    }\n",
       "</style>\n",
       "<table border=\"1\" class=\"dataframe\">\n",
       "  <thead>\n",
       "    <tr style=\"text-align: right;\">\n",
       "      <th></th>\n",
       "      <th>game_id</th>\n",
       "      <th>player_id</th>\n",
       "      <th>injury_body_part</th>\n",
       "      <th>severity</th>\n",
       "      <th>position</th>\n",
       "    </tr>\n",
       "  </thead>\n",
       "  <tbody>\n",
       "    <tr>\n",
       "      <th>0</th>\n",
       "      <td>2010_01_ARI_STL</td>\n",
       "      <td>00-0013126</td>\n",
       "      <td>back</td>\n",
       "      <td>Probable</td>\n",
       "      <td>LB</td>\n",
       "    </tr>\n",
       "    <tr>\n",
       "      <th>1</th>\n",
       "      <td>2010_01_ARI_STL</td>\n",
       "      <td>00-0022288</td>\n",
       "      <td>toe</td>\n",
       "      <td>Questionable</td>\n",
       "      <td>RB</td>\n",
       "    </tr>\n",
       "    <tr>\n",
       "      <th>2</th>\n",
       "      <td>2010_01_ARI_STL</td>\n",
       "      <td>00-0022921</td>\n",
       "      <td>knee</td>\n",
       "      <td>Probable</td>\n",
       "      <td>WR</td>\n",
       "    </tr>\n",
       "    <tr>\n",
       "      <th>3</th>\n",
       "      <td>2010_01_ARI_STL</td>\n",
       "      <td>00-0023053</td>\n",
       "      <td>knee</td>\n",
       "      <td>Probable</td>\n",
       "      <td>S</td>\n",
       "    </tr>\n",
       "    <tr>\n",
       "      <th>4</th>\n",
       "      <td>2010_01_ARI_STL</td>\n",
       "      <td>00-0025602</td>\n",
       "      <td>knee</td>\n",
       "      <td>Probable</td>\n",
       "      <td>TE</td>\n",
       "    </tr>\n",
       "  </tbody>\n",
       "</table>\n",
       "</div>"
      ],
      "text/plain": [
       "           game_id   player_id injury_body_part      severity position\n",
       "0  2010_01_ARI_STL  00-0013126             back      Probable       LB\n",
       "1  2010_01_ARI_STL  00-0022288              toe  Questionable       RB\n",
       "2  2010_01_ARI_STL  00-0022921             knee      Probable       WR\n",
       "3  2010_01_ARI_STL  00-0023053             knee      Probable        S\n",
       "4  2010_01_ARI_STL  00-0025602             knee      Probable       TE"
      ]
     },
     "execution_count": 581,
     "metadata": {},
     "output_type": "execute_result"
    }
   ],
   "source": [
    "# If there are more than 2 injuries for the same player in the same game, we will keep the first one\n",
    "injuries_renamed_no_dups = injuries_renamed.groupby(['game_id', 'player_id']).first().reset_index()\n",
    "injuries_renamed_no_dups.head()"
   ]
  },
  {
   "cell_type": "code",
   "execution_count": 582,
   "metadata": {},
   "outputs": [
    {
     "name": "stdout",
     "output_type": "stream",
     "text": [
      "injury_body_part\n",
      "knee          9214\n",
      "ankle         7400\n",
      "hamstring     5462\n",
      "shoulder      3768\n",
      "concussion    2606\n",
      "foot          2549\n",
      "groin         2297\n",
      "back          2100\n",
      "calf          1635\n",
      "illness       1544\n",
      "Name: count, dtype: int64\n",
      "injury_body_part\n",
      "knee          9556\n",
      "ankle         7673\n",
      "hamstring     5665\n",
      "shoulder      3864\n",
      "concussion    2693\n",
      "foot          2622\n",
      "groin         2390\n",
      "back          2147\n",
      "calf          1703\n",
      "hip           1426\n",
      "Name: count, dtype: int64\n"
     ]
    }
   ],
   "source": [
    "injuries_value_count = injuries_renamed_no_dups['injury_body_part'].value_counts()\n",
    "print(injuries_value_count.head(10))\n",
    "\n",
    "# Drop where injuries is illness or contains illness\n",
    "injuries_renamed_no_illness = injuries_renamed[~injuries_renamed['injury_body_part'].str.contains('illness', na=False)]\n",
    "injuries_value_count_no_illness = injuries_renamed_no_illness['injury_body_part'].value_counts()\n",
    "print(injuries_value_count_no_illness.head(10))"
   ]
  },
  {
   "cell_type": "code",
   "execution_count": 583,
   "metadata": {},
   "outputs": [
    {
     "data": {
      "text/plain": [
       "array(['knee', 'toe', 'shoulder', 'back', 'hip', 'foot', 'head',\n",
       "       'hamstring', 'chest', 'groin', 'ankle', nan, 'forearm', 'finger',\n",
       "       'abdomen', 'calf', 'eye', 'thumb', 'neck', 'thigh',\n",
       "       'right shoulder', 'kidney', 'not injury related', 'elbow',\n",
       "       'achilles', 'lacerated kidney', 'fibula', 'concussion',\n",
       "       'right thumb', 'hand', 'rib', 'biceps', 'wrist', 'oblique',\n",
       "       'left hamstring', 'quadricep', 'stinger', '(migraines)', 'heel',\n",
       "       'ribs', 'arch', 'right elbow', 'shin', 'migraines', 'pelvis',\n",
       "       'collarbone', 'right hip', 'glute', 'right calf', 'tibia',\n",
       "       'left calf', 'nose', 'left ankle', 'right hamstring',\n",
       "       'right groin', 'right finger', 'left shoulder', 'left forearm',\n",
       "       'triceps', 'qblique', 'quad', 'right ankle', 'pectoral',\n",
       "       'right knee', 'arm', 'left wrist', 'lower leg', 'lf. calf',\n",
       "       'infection', 'knees', 'l. arm', 'tricep', 'flu', 'right foot',\n",
       "       'right wrist', 'feet', 'left foot', 'right hand', 'left finger',\n",
       "       'low back', 'left thumb', 'right thigh', 'leg', 'hips',\n",
       "       'left thigh', 'right quadricep', 'left knee', 'stomach',\n",
       "       'left hand', 'shoulders', 'heat cramps', 'left groin', 'rt. thumb',\n",
       "       'jaw', 'right biceps', 'facial lacerations', 'ear', 'cardiac',\n",
       "       'chest/finger', 'teeth', 'chest/rib/finger', 'tailbone', 'throat',\n",
       "       'abdominal', 'lung contusion', 'other', 'arrhythmia', 'lung',\n",
       "       'chin', 'toes', 'upper arm', 'foot/toe/back', 'ribs/ankle/toe',\n",
       "       'left hip', 'quadriceps', 'tooth', 'hernia', 'rib cage', 'spleen',\n",
       "       'right upper arm', 'buttocks', 'shortness of breath',\n",
       "       'shoulder, finger', 'facial laceration', 'right shin', 'migraine',\n",
       "       'solar plexus', 'knee, hamstring', 'other-stinger', 'both knees',\n",
       "       'left shoulder, left elbow', 'groin, knee, ankle',\n",
       "       'non football injury', 'bicep', 'core muscle', 'lumbar',\n",
       "       'core muscle injury', 'mouth', 'right collarbone', 'trapezius',\n",
       "       'sternoclavicular', 'ankles', 'core', 'hip flexor', 'liver',\n",
       "       'hamstrings', 'not injury related - personal matter', 'adductor',\n",
       "       'hands', 'not injury related - discipline',\n",
       "       'not injury related - resting player', 'covid protocol',\n",
       "       'covid protocols', 'reserve/covid activation', 'covid/reserve',\n",
       "       'covid ramp up', 'knee/shoulder/toe', 'appendicitis', 'appendix',\n",
       "       'ankle, knee, elbow', 'not injury related - did not travel',\n",
       "       'oblique ', 'toe, pec, knee, hip', 'not injury related - other',\n",
       "       'back, ankle, knee', 'face', 'not injury related - team decision',\n",
       "       'not injury related - returning from suspension', 'foot/wrist/hip',\n",
       "       'inactive', 'not injury related - travel',\n",
       "       'returning from suspension', 'left quadricep', 'coaching',\n",
       "       \"coach's decision\", 'gameday concussion protocol evaluation',\n",
       "       'player was ill this morning. fully expected to play. no game status. ',\n",
       "       'trent sherfield sr. did not travel with the team today for personal reasons. he is traveling separately and is expected to be available for sunday’s game.',\n",
       "       'personal matter',\n",
       "       'raym, andrew has cleared concussion protocol and does not have a game status. ',\n",
       "       '-- ', 'ankle [not injury related - personal, thursday only]',\n",
       "       'right forearm', 'coaching decision ',\n",
       "       \"not injury related - coach's decision\"], dtype=object)"
      ]
     },
     "execution_count": 583,
     "metadata": {},
     "output_type": "execute_result"
    }
   ],
   "source": [
    "# Get a dict of injury body parts\n",
    "injuries_renamed_no_illness['injury_body_part'].unique()"
   ]
  },
  {
   "cell_type": "code",
   "execution_count": 584,
   "metadata": {},
   "outputs": [
    {
     "data": {
      "text/plain": [
       "array(['knee', 'toe', 'shoulder', 'back', 'hip', 'foot', 'head',\n",
       "       'hamstring', 'chest', 'groin', 'ankle', nan, 'forearm', 'finger',\n",
       "       'abdomen', 'calf', 'eye', 'thumb', 'neck', 'thigh',\n",
       "       'right shoulder', 'kidney', 'elbow', 'lacerated kidney', 'fibula',\n",
       "       'concussion', 'right thumb', 'hand', 'rib', 'biceps', 'wrist',\n",
       "       'oblique', 'left hamstring', 'quadricep', 'heel', 'ribs', 'arch',\n",
       "       'right elbow', 'shin', 'pelvis', 'collarbone', 'right hip',\n",
       "       'glute', 'right calf', 'tibia', 'left calf', 'nose', 'left ankle',\n",
       "       'right hamstring', 'right groin', 'right finger', 'left shoulder',\n",
       "       'left forearm', 'triceps', 'qblique', 'quad', 'right ankle',\n",
       "       'pectoral', 'right knee', 'arm', 'left wrist', 'lower leg',\n",
       "       'lf. calf', 'knees', 'l. arm', 'tricep', 'right foot',\n",
       "       'right wrist', 'feet', 'left foot', 'right hand', 'left finger',\n",
       "       'low back', 'left thumb', 'right thigh', 'leg', 'hips',\n",
       "       'left thigh', 'right quadricep', 'left knee', 'stomach',\n",
       "       'left hand', 'shoulders', 'heat cramps', 'left groin', 'rt. thumb',\n",
       "       'jaw', 'right biceps', 'facial lacerations', 'ear', 'cardiac',\n",
       "       'teeth', 'tailbone', 'throat', 'abdominal', 'lung contusion',\n",
       "       'arrhythmia', 'lung', 'chin', 'toes', 'upper arm', 'left hip',\n",
       "       'quadriceps', 'tooth', 'rib cage', 'right upper arm', 'buttocks',\n",
       "       'facial laceration', 'right shin', 'solar plexus', 'both knees',\n",
       "       'bicep', 'core muscle', 'lumbar', 'core muscle injury', 'mouth',\n",
       "       'right collarbone', 'trapezius', 'sternoclavicular', 'ankles',\n",
       "       'core', 'hip flexor', 'hamstrings', 'adductor', 'hands',\n",
       "       'oblique ', 'face', 'left quadricep', 'right forearm'],\n",
       "      dtype=object)"
      ]
     },
     "execution_count": 584,
     "metadata": {},
     "output_type": "execute_result"
    }
   ],
   "source": [
    "contains_to_drop = ['not injur', 'returning', 'protocol', 'personal', 'coach', '-', '/', 'ill', ',', 'inactive', 'football', 'covid', 'migraine', 'infection', 'breath', 'append', 'other', 'liver', 'flu', 'stinger', 'spleen', 'hernia']\n",
    "\n",
    "# Drop the values that are in the list\n",
    "for value in contains_to_drop:\n",
    "    injuries_renamed_no_illness = injuries_renamed_no_illness[~injuries_renamed_no_illness['injury_body_part'].str.contains(value, na=False)]\n",
    "\n",
    "injuries_renamed_no_illness['injury_body_part'].unique()"
   ]
  },
  {
   "cell_type": "code",
   "execution_count": 585,
   "metadata": {},
   "outputs": [
    {
     "data": {
      "text/plain": [
       "array(['knee', 'toe', 'shoulder', 'back', 'hip', 'foot', 'head',\n",
       "       'hamstring', 'chest', 'groin', 'ankle', 'unknown', 'forearm',\n",
       "       'finger', 'abdomen', 'calf', 'eye', 'thumb', 'neck', 'thigh',\n",
       "       'kidney', 'elbow', 'fibula', 'concussion', 'hand', 'ribs',\n",
       "       'biceps', 'wrist', 'oblique', 'quadricep', 'heel', 'arch', 'shin',\n",
       "       'pelvis', 'collarbone', 'glute', 'tibia', 'nose', 'triceps',\n",
       "       'quad', 'arm', 'lower leg', 'lower back', 'leg', 'stomach', 'jaw',\n",
       "       'face', 'ear', 'cardiac', 'tooth', 'throat', 'lung', 'chin',\n",
       "       'toes', 'rib', 'core', 'mouth', 'adductor'], dtype=object)"
      ]
     },
     "execution_count": 585,
     "metadata": {},
     "output_type": "execute_result"
    }
   ],
   "source": [
    "# Create a mapping dict for the injury body parts\n",
    "injury_mapping = {\n",
    "    'right shoulder': 'shoulder', 'left shoulder': 'shoulder', 'shoulders': 'shoulder',\n",
    "    'right thumb': 'thumb', 'left thumb': 'thumb',\n",
    "    'right hamstring': 'hamstring', 'left hamstring': 'hamstring', 'hamstrings': 'hamstring',\n",
    "    'right groin': 'groin', 'left groin': 'groin',\n",
    "    'right knee': 'knee', 'left knee': 'knee', 'knees': 'knee', 'both knees': 'knee',\n",
    "    'right ankle': 'ankle', 'left ankle': 'ankle', 'ankles': 'ankle',\n",
    "    'right foot': 'foot', 'left foot': 'foot', 'feet': 'foot',\n",
    "    'right wrist': 'wrist', 'left wrist': 'wrist',\n",
    "    'right hand': 'hand', 'left hand': 'hand', 'hands': 'hand',\n",
    "    'right finger': 'finger', 'left finger': 'finger',\n",
    "    'right elbow': 'elbow', 'left elbow': 'elbow',\n",
    "    'right forearm': 'forearm', 'left forearm': 'forearm',\n",
    "    'right calf': 'calf', 'left calf': 'calf', 'lf. calf': 'calf',\n",
    "    'right quadricep': 'quadricep', 'left quadricep': 'quadricep', 'quadriceps': 'quadricep',\n",
    "    'right thigh': 'thigh', 'left thigh': 'thigh',\n",
    "    'right shin': 'shin',\n",
    "    'right collarbone': 'collarbone',\n",
    "    'right biceps': 'biceps', 'bicep': 'biceps',\n",
    "    'tricep': 'triceps',\n",
    "    'oblique ': 'oblique', 'qblique': 'oblique',\n",
    "    'pectoral': 'chest',\n",
    "    'abdominal': 'abdomen',\n",
    "    'core muscle': 'core', 'core muscle injury': 'core',\n",
    "    'rib cage': 'rib',\n",
    "    'rib': 'ribs',\n",
    "    'lumbar': 'lower back', 'low back': 'lower back',\n",
    "    'heat cramps': 'unknown',\n",
    "    'facial laceration': 'face', 'facial lacerations': 'face',\n",
    "    'teeth': 'tooth',\n",
    "    'lung contusion': 'lung',\n",
    "    'arrhythmia': 'cardiac',\n",
    "    'sternoclavicular': 'collarbone',\n",
    "    'hip flexor': 'hip', 'left hip': 'hip', 'right hip':'hip', 'hips': 'hip', 'buttocks': 'hip',\n",
    "    'solar plexus': 'abdomen',\n",
    "    'tailbone': 'lower back',\n",
    "    'trapezius': 'shoulder',\n",
    "    'lacerated kidney': 'kidney',\n",
    "    'rt. thumb': 'thumb',\n",
    "    'l. arm': 'arm',\n",
    "    'lacerated kidney': 'kidney',\n",
    "    'lower back': 'back',\n",
    "    'right upper arm': 'arm', 'upper arm': 'arm'\n",
    "}\n",
    "\n",
    "# Apply cleaning function\n",
    "def clean_injury(value):\n",
    "    if pd.isna(value):\n",
    "        return \"unknown\"\n",
    "    value = value.strip().lower()  # Remove extra spaces and lowercase\n",
    "    return injury_mapping.get(value, value)  # Replace if in mapping, otherwise keep as is\n",
    "\n",
    "# Apply cleaning\n",
    "injuries_renamed_cleaned = injuries_renamed_no_illness.copy()\n",
    "injuries_renamed_cleaned['injury_body_part'] = injuries_renamed_no_illness['injury_body_part'].apply(clean_injury)\n",
    "injuries_renamed_cleaned['injury_body_part'].unique()"
   ]
  },
  {
   "cell_type": "code",
   "execution_count": 586,
   "metadata": {},
   "outputs": [],
   "source": [
    "# drop where injury body part is unknown\n",
    "injuries_cleaned = injuries_renamed_cleaned[injuries_renamed_cleaned['injury_body_part'] != 'unknown']"
   ]
  },
  {
   "cell_type": "markdown",
   "metadata": {},
   "source": [
    "Relevant columns for pass or rush plays"
   ]
  },
  {
   "cell_type": "code",
   "execution_count": 587,
   "metadata": {},
   "outputs": [],
   "source": [
    "relevant_columns = [\n",
    "    # Play Identification & Context\n",
    "    \"play_id\", \"game_id\", \"week\", \"season\", \"away_team\", \"home_team\",\n",
    "    \"quarter_seconds_remaining\", \"half_seconds_remaining\", \"game_seconds_remaining\",\n",
    "    \"qtr\", \"down\", \"ydstogo\", \"yardline_100\", \"score_differential\",\n",
    "\n",
    "    # Play Type & Execution\n",
    "    \"play_type\", \"rush_attempt\", \"pass_attempt\", \"sack\", \n",
    "    \"incomplete_pass\", \"qb_scramble\", \"shotgun\", \"no_huddle\",\n",
    "\n",
    "    # Passing Attributes\n",
    "    \"qb_dropback\", \"pass_length\", \"pass_location\", \"air_yards\", \n",
    "    \"yards_after_catch\", \"passing_yards\", \"passer_player_id\", \"passer_player_name\",\n",
    "    \"receiver_player_id\", \"receiver_player_name\", \"complete_pass\",\n",
    "\n",
    "    # Rushing Attributes\n",
    "    \"run_location\", \"run_gap\", \"rushing_yards\", \"rusher_player_id\", \"rusher_player_name\",\n",
    "\n",
    "    # Outcome Metrics\n",
    "    \"yards_gained\", \"epa\", \"air_epa\", \"yac_epa\",\n",
    "    \"rush_touchdown\", \"pass_touchdown\", \"first_down_rush\", \"first_down_pass\"\n",
    "]\n",
    "\n",
    "pbp_relevant = pbp[relevant_columns]\n"
   ]
  },
  {
   "cell_type": "code",
   "execution_count": 588,
   "metadata": {},
   "outputs": [],
   "source": [
    "pbp_relevant = pbp_relevant[(pbp_relevant['play_type'].isin(['run','pass']))]"
   ]
  },
  {
   "cell_type": "markdown",
   "metadata": {},
   "source": [
    "Now we need to merge the dataframes to get the stats for each game such as weather and field type"
   ]
  },
  {
   "cell_type": "code",
   "execution_count": 589,
   "metadata": {},
   "outputs": [],
   "source": [
    "# Step 2: Reshape `pbp` to match `injuries` structure\n",
    "pbp_long = pbp_relevant.melt(\n",
    "    id_vars=['game_id'], \n",
    "    value_vars=['passer_player_id', 'receiver_player_id', 'rusher_player_id'], \n",
    "    var_name='role', \n",
    "    value_name='player_id'\n",
    ")\n",
    "\n",
    "# Step 3: Merge injuries with play-by-play data\n",
    "pbp_long = pbp_long.merge(injuries_cleaned, on=['game_id', 'player_id'], how='left')\n",
    "\n",
    "# Step 4: Fill missing injury data\n",
    "pbp_long['injury'] = pbp_long['injury_body_part'].notna()\n",
    "pbp_long.fillna({'injury_body_part': 'No injury', 'severity': 'No injury'}, inplace=True)\n",
    "\n",
    "# Step 5: Pivot back to wide format\n",
    "pbp_pivot = pbp_long.pivot_table(\n",
    "    index=['game_id'], \n",
    "    columns='role', \n",
    "    values=['injury_body_part', 'severity'], \n",
    "    aggfunc='first'  # Take the first non-null injury entry\n",
    ")\n",
    "pbp_pivot.columns = ['_'.join(col).replace('_player_id', '') for col in pbp_pivot.columns]  # Flatten column names\n",
    "pbp_pivot.reset_index(inplace=True)\n",
    "\n",
    "# Step 6: Merge back into `pbp`\n",
    "pbp_relevant = pbp_relevant.merge(pbp_pivot, on='game_id', how='left')\n",
    "\n",
    "# Step 7: Create a final injury flag\n",
    "pbp_relevant['injury'] = pbp_relevant[['injury_body_part_passer', 'injury_body_part_receiver', 'injury_body_part_rusher']].apply(\n",
    "    lambda row: any(x != 'No injury' for x in row), axis=1\n",
    ")\n",
    "\n",
    "# Step 8: Leave only one injury part for each play\n",
    "pbp_relevant['final_injury_part'] = pbp_relevant[['injury_body_part_passer', 'injury_body_part_receiver', 'injury_body_part_rusher']].bfill(axis=1).iloc[:, 0]\n",
    "pbp_relevant['severity'] = pbp_relevant[['severity_passer', 'severity_receiver', 'severity_rusher']].bfill(axis=1).iloc[:, 0]"
   ]
  },
  {
   "cell_type": "code",
   "execution_count": 590,
   "metadata": {},
   "outputs": [
    {
     "name": "stdout",
     "output_type": "stream",
     "text": [
      "0\n"
     ]
    }
   ],
   "source": [
    "print(pbp_relevant['away_team'].isnull().sum())"
   ]
  },
  {
   "cell_type": "code",
   "execution_count": 591,
   "metadata": {},
   "outputs": [
    {
     "name": "stdout",
     "output_type": "stream",
     "text": [
      "final_injury_part\n",
      "No injury     462300\n",
      "shoulder        3175\n",
      "knee            1630\n",
      "ankle           1470\n",
      "foot            1178\n",
      "elbow           1038\n",
      "finger          1009\n",
      "back             766\n",
      "quadricep        736\n",
      "hand             644\n",
      "thumb            636\n",
      "hamstring        523\n",
      "chest            490\n",
      "ribs             484\n",
      "calf             389\n",
      "wrist            271\n",
      "abdomen          263\n",
      "groin            257\n",
      "concussion       247\n",
      "thigh            244\n",
      "head             129\n",
      "toe              124\n",
      "hip              118\n",
      "Name: count, dtype: int64 \n",
      "\n",
      "injury\n",
      "False    408875\n",
      "True      69246\n",
      "Name: count, dtype: int64\n"
     ]
    }
   ],
   "source": [
    "print(pbp_relevant['final_injury_part'].value_counts(), '\\n')\n",
    "print(pbp_relevant['injury'].value_counts())"
   ]
  },
  {
   "cell_type": "markdown",
   "metadata": {},
   "source": [
    "### Clean the schedule data before merging"
   ]
  },
  {
   "cell_type": "code",
   "execution_count": 592,
   "metadata": {},
   "outputs": [
    {
     "data": {
      "text/html": [
       "<div>\n",
       "<style scoped>\n",
       "    .dataframe tbody tr th:only-of-type {\n",
       "        vertical-align: middle;\n",
       "    }\n",
       "\n",
       "    .dataframe tbody tr th {\n",
       "        vertical-align: top;\n",
       "    }\n",
       "\n",
       "    .dataframe thead th {\n",
       "        text-align: right;\n",
       "    }\n",
       "</style>\n",
       "<table border=\"1\" class=\"dataframe\">\n",
       "  <thead>\n",
       "    <tr style=\"text-align: right;\">\n",
       "      <th></th>\n",
       "      <th>game_id</th>\n",
       "      <th>season</th>\n",
       "      <th>game_type</th>\n",
       "      <th>week</th>\n",
       "      <th>gameday</th>\n",
       "      <th>weekday</th>\n",
       "      <th>gametime</th>\n",
       "      <th>away_team</th>\n",
       "      <th>away_score</th>\n",
       "      <th>home_team</th>\n",
       "      <th>...</th>\n",
       "      <th>wind</th>\n",
       "      <th>away_qb_id</th>\n",
       "      <th>home_qb_id</th>\n",
       "      <th>away_qb_name</th>\n",
       "      <th>home_qb_name</th>\n",
       "      <th>away_coach</th>\n",
       "      <th>home_coach</th>\n",
       "      <th>referee</th>\n",
       "      <th>stadium_id</th>\n",
       "      <th>stadium</th>\n",
       "    </tr>\n",
       "  </thead>\n",
       "  <tbody>\n",
       "    <tr>\n",
       "      <th>0</th>\n",
       "      <td>2010_01_MIN_NO</td>\n",
       "      <td>2010</td>\n",
       "      <td>REG</td>\n",
       "      <td>1</td>\n",
       "      <td>2010-09-09</td>\n",
       "      <td>Thursday</td>\n",
       "      <td>20:30</td>\n",
       "      <td>MIN</td>\n",
       "      <td>9</td>\n",
       "      <td>NO</td>\n",
       "      <td>...</td>\n",
       "      <td>NaN</td>\n",
       "      <td>00-0005106</td>\n",
       "      <td>00-0020531</td>\n",
       "      <td>Brett Favre</td>\n",
       "      <td>Drew Brees</td>\n",
       "      <td>Brad Childress</td>\n",
       "      <td>Sean Payton</td>\n",
       "      <td>Terry McAulay</td>\n",
       "      <td>NOR00</td>\n",
       "      <td>Louisiana Superdome</td>\n",
       "    </tr>\n",
       "    <tr>\n",
       "      <th>1</th>\n",
       "      <td>2010_01_MIA_BUF</td>\n",
       "      <td>2010</td>\n",
       "      <td>REG</td>\n",
       "      <td>1</td>\n",
       "      <td>2010-09-12</td>\n",
       "      <td>Sunday</td>\n",
       "      <td>13:00</td>\n",
       "      <td>MIA</td>\n",
       "      <td>15</td>\n",
       "      <td>BUF</td>\n",
       "      <td>...</td>\n",
       "      <td>7.0</td>\n",
       "      <td>00-0026197</td>\n",
       "      <td>00-0025479</td>\n",
       "      <td>Chad Henne</td>\n",
       "      <td>Trent Edwards</td>\n",
       "      <td>Tony Sparano</td>\n",
       "      <td>Chan Gailey</td>\n",
       "      <td>Clete Blakeman</td>\n",
       "      <td>BUF00</td>\n",
       "      <td>Ralph Wilson Stadium</td>\n",
       "    </tr>\n",
       "    <tr>\n",
       "      <th>2</th>\n",
       "      <td>2010_01_DET_CHI</td>\n",
       "      <td>2010</td>\n",
       "      <td>REG</td>\n",
       "      <td>1</td>\n",
       "      <td>2010-09-12</td>\n",
       "      <td>Sunday</td>\n",
       "      <td>13:00</td>\n",
       "      <td>DET</td>\n",
       "      <td>14</td>\n",
       "      <td>CHI</td>\n",
       "      <td>...</td>\n",
       "      <td>10.0</td>\n",
       "      <td>00-0026498</td>\n",
       "      <td>00-0024226</td>\n",
       "      <td>Matthew Stafford</td>\n",
       "      <td>Jay Cutler</td>\n",
       "      <td>Jim Schwartz</td>\n",
       "      <td>Lovie Smith</td>\n",
       "      <td>Gene Steratore</td>\n",
       "      <td>CHI98</td>\n",
       "      <td>Soldier Field</td>\n",
       "    </tr>\n",
       "    <tr>\n",
       "      <th>3</th>\n",
       "      <td>2010_01_IND_HOU</td>\n",
       "      <td>2010</td>\n",
       "      <td>REG</td>\n",
       "      <td>1</td>\n",
       "      <td>2010-09-12</td>\n",
       "      <td>Sunday</td>\n",
       "      <td>13:00</td>\n",
       "      <td>IND</td>\n",
       "      <td>24</td>\n",
       "      <td>HOU</td>\n",
       "      <td>...</td>\n",
       "      <td>NaN</td>\n",
       "      <td>00-0010346</td>\n",
       "      <td>00-0022787</td>\n",
       "      <td>Peyton Manning</td>\n",
       "      <td>Matt Schaub</td>\n",
       "      <td>Jim Caldwell</td>\n",
       "      <td>Gary Kubiak</td>\n",
       "      <td>Ed Hochuli</td>\n",
       "      <td>HOU00</td>\n",
       "      <td>Reliant Stadium</td>\n",
       "    </tr>\n",
       "    <tr>\n",
       "      <th>4</th>\n",
       "      <td>2010_01_DEN_JAX</td>\n",
       "      <td>2010</td>\n",
       "      <td>REG</td>\n",
       "      <td>1</td>\n",
       "      <td>2010-09-12</td>\n",
       "      <td>Sunday</td>\n",
       "      <td>13:00</td>\n",
       "      <td>DEN</td>\n",
       "      <td>17</td>\n",
       "      <td>JAX</td>\n",
       "      <td>...</td>\n",
       "      <td>10.0</td>\n",
       "      <td>00-0023541</td>\n",
       "      <td>00-0021231</td>\n",
       "      <td>Kyle Orton</td>\n",
       "      <td>David Garrard</td>\n",
       "      <td>Josh McDaniels</td>\n",
       "      <td>Jack Del Rio</td>\n",
       "      <td>Walt Coleman</td>\n",
       "      <td>JAX00</td>\n",
       "      <td>EverBank Field</td>\n",
       "    </tr>\n",
       "    <tr>\n",
       "      <th>5</th>\n",
       "      <td>2010_01_CIN_NE</td>\n",
       "      <td>2010</td>\n",
       "      <td>REG</td>\n",
       "      <td>1</td>\n",
       "      <td>2010-09-12</td>\n",
       "      <td>Sunday</td>\n",
       "      <td>13:00</td>\n",
       "      <td>CIN</td>\n",
       "      <td>24</td>\n",
       "      <td>NE</td>\n",
       "      <td>...</td>\n",
       "      <td>10.0</td>\n",
       "      <td>00-0021429</td>\n",
       "      <td>00-0019596</td>\n",
       "      <td>Carson Palmer</td>\n",
       "      <td>Tom Brady</td>\n",
       "      <td>Marvin Lewis</td>\n",
       "      <td>Bill Belichick</td>\n",
       "      <td>Carl Cheffers</td>\n",
       "      <td>BOS00</td>\n",
       "      <td>Gillette Stadium</td>\n",
       "    </tr>\n",
       "    <tr>\n",
       "      <th>6</th>\n",
       "      <td>2010_01_CAR_NYG</td>\n",
       "      <td>2010</td>\n",
       "      <td>REG</td>\n",
       "      <td>1</td>\n",
       "      <td>2010-09-12</td>\n",
       "      <td>Sunday</td>\n",
       "      <td>13:00</td>\n",
       "      <td>CAR</td>\n",
       "      <td>18</td>\n",
       "      <td>NYG</td>\n",
       "      <td>...</td>\n",
       "      <td>10.0</td>\n",
       "      <td>00-0025708</td>\n",
       "      <td>00-0022803</td>\n",
       "      <td>Matt Moore</td>\n",
       "      <td>Eli Manning</td>\n",
       "      <td>John Fox</td>\n",
       "      <td>Tom Coughlin</td>\n",
       "      <td>Jerome Boger</td>\n",
       "      <td>NYC01</td>\n",
       "      <td>New Meadowlands Stadium</td>\n",
       "    </tr>\n",
       "    <tr>\n",
       "      <th>7</th>\n",
       "      <td>2010_01_ATL_PIT</td>\n",
       "      <td>2010</td>\n",
       "      <td>REG</td>\n",
       "      <td>1</td>\n",
       "      <td>2010-09-12</td>\n",
       "      <td>Sunday</td>\n",
       "      <td>13:00</td>\n",
       "      <td>ATL</td>\n",
       "      <td>9</td>\n",
       "      <td>PIT</td>\n",
       "      <td>...</td>\n",
       "      <td>9.0</td>\n",
       "      <td>00-0026143</td>\n",
       "      <td>00-0026296</td>\n",
       "      <td>Matt Ryan</td>\n",
       "      <td>Dennis Dixon</td>\n",
       "      <td>Mike Smith</td>\n",
       "      <td>Mike Tomlin</td>\n",
       "      <td>Scott Green</td>\n",
       "      <td>PIT00</td>\n",
       "      <td>Heinz Field</td>\n",
       "    </tr>\n",
       "    <tr>\n",
       "      <th>8</th>\n",
       "      <td>2010_01_CLE_TB</td>\n",
       "      <td>2010</td>\n",
       "      <td>REG</td>\n",
       "      <td>1</td>\n",
       "      <td>2010-09-12</td>\n",
       "      <td>Sunday</td>\n",
       "      <td>13:00</td>\n",
       "      <td>CLE</td>\n",
       "      <td>14</td>\n",
       "      <td>TB</td>\n",
       "      <td>...</td>\n",
       "      <td>6.0</td>\n",
       "      <td>00-0004161</td>\n",
       "      <td>00-0026993</td>\n",
       "      <td>Jake Delhomme</td>\n",
       "      <td>Josh Freeman</td>\n",
       "      <td>Eric Mangini</td>\n",
       "      <td>Raheem Morris</td>\n",
       "      <td>Jeff Triplette</td>\n",
       "      <td>TAM00</td>\n",
       "      <td>Raymond James Stadium</td>\n",
       "    </tr>\n",
       "    <tr>\n",
       "      <th>9</th>\n",
       "      <td>2010_01_OAK_TEN</td>\n",
       "      <td>2010</td>\n",
       "      <td>REG</td>\n",
       "      <td>1</td>\n",
       "      <td>2010-09-12</td>\n",
       "      <td>Sunday</td>\n",
       "      <td>13:00</td>\n",
       "      <td>OAK</td>\n",
       "      <td>13</td>\n",
       "      <td>TEN</td>\n",
       "      <td>...</td>\n",
       "      <td>9.0</td>\n",
       "      <td>00-0023460</td>\n",
       "      <td>00-0024218</td>\n",
       "      <td>Jason Campbell</td>\n",
       "      <td>Vince Young</td>\n",
       "      <td>Tom Cable</td>\n",
       "      <td>Jeff Fisher</td>\n",
       "      <td>Bill Leavy</td>\n",
       "      <td>NAS00</td>\n",
       "      <td>LP Field</td>\n",
       "    </tr>\n",
       "  </tbody>\n",
       "</table>\n",
       "<p>10 rows × 46 columns</p>\n",
       "</div>"
      ],
      "text/plain": [
       "           game_id  season game_type  week     gameday   weekday gametime  \\\n",
       "0   2010_01_MIN_NO    2010       REG     1  2010-09-09  Thursday    20:30   \n",
       "1  2010_01_MIA_BUF    2010       REG     1  2010-09-12    Sunday    13:00   \n",
       "2  2010_01_DET_CHI    2010       REG     1  2010-09-12    Sunday    13:00   \n",
       "3  2010_01_IND_HOU    2010       REG     1  2010-09-12    Sunday    13:00   \n",
       "4  2010_01_DEN_JAX    2010       REG     1  2010-09-12    Sunday    13:00   \n",
       "5   2010_01_CIN_NE    2010       REG     1  2010-09-12    Sunday    13:00   \n",
       "6  2010_01_CAR_NYG    2010       REG     1  2010-09-12    Sunday    13:00   \n",
       "7  2010_01_ATL_PIT    2010       REG     1  2010-09-12    Sunday    13:00   \n",
       "8   2010_01_CLE_TB    2010       REG     1  2010-09-12    Sunday    13:00   \n",
       "9  2010_01_OAK_TEN    2010       REG     1  2010-09-12    Sunday    13:00   \n",
       "\n",
       "  away_team  away_score home_team  ...  wind  away_qb_id  home_qb_id  \\\n",
       "0       MIN           9        NO  ...   NaN  00-0005106  00-0020531   \n",
       "1       MIA          15       BUF  ...   7.0  00-0026197  00-0025479   \n",
       "2       DET          14       CHI  ...  10.0  00-0026498  00-0024226   \n",
       "3       IND          24       HOU  ...   NaN  00-0010346  00-0022787   \n",
       "4       DEN          17       JAX  ...  10.0  00-0023541  00-0021231   \n",
       "5       CIN          24        NE  ...  10.0  00-0021429  00-0019596   \n",
       "6       CAR          18       NYG  ...  10.0  00-0025708  00-0022803   \n",
       "7       ATL           9       PIT  ...   9.0  00-0026143  00-0026296   \n",
       "8       CLE          14        TB  ...   6.0  00-0004161  00-0026993   \n",
       "9       OAK          13       TEN  ...   9.0  00-0023460  00-0024218   \n",
       "\n",
       "       away_qb_name   home_qb_name      away_coach      home_coach  \\\n",
       "0       Brett Favre     Drew Brees  Brad Childress     Sean Payton   \n",
       "1        Chad Henne  Trent Edwards    Tony Sparano     Chan Gailey   \n",
       "2  Matthew Stafford     Jay Cutler    Jim Schwartz     Lovie Smith   \n",
       "3    Peyton Manning    Matt Schaub    Jim Caldwell     Gary Kubiak   \n",
       "4        Kyle Orton  David Garrard  Josh McDaniels    Jack Del Rio   \n",
       "5     Carson Palmer      Tom Brady    Marvin Lewis  Bill Belichick   \n",
       "6        Matt Moore    Eli Manning        John Fox    Tom Coughlin   \n",
       "7         Matt Ryan   Dennis Dixon      Mike Smith     Mike Tomlin   \n",
       "8     Jake Delhomme   Josh Freeman    Eric Mangini   Raheem Morris   \n",
       "9    Jason Campbell    Vince Young       Tom Cable     Jeff Fisher   \n",
       "\n",
       "          referee stadium_id                  stadium  \n",
       "0   Terry McAulay      NOR00      Louisiana Superdome  \n",
       "1  Clete Blakeman      BUF00     Ralph Wilson Stadium  \n",
       "2  Gene Steratore      CHI98            Soldier Field  \n",
       "3      Ed Hochuli      HOU00          Reliant Stadium  \n",
       "4    Walt Coleman      JAX00           EverBank Field  \n",
       "5   Carl Cheffers      BOS00         Gillette Stadium  \n",
       "6    Jerome Boger      NYC01  New Meadowlands Stadium  \n",
       "7     Scott Green      PIT00              Heinz Field  \n",
       "8  Jeff Triplette      TAM00    Raymond James Stadium  \n",
       "9      Bill Leavy      NAS00                 LP Field  \n",
       "\n",
       "[10 rows x 46 columns]"
      ]
     },
     "execution_count": 592,
     "metadata": {},
     "output_type": "execute_result"
    }
   ],
   "source": [
    "s.head(10)"
   ]
  },
  {
   "cell_type": "code",
   "execution_count": 593,
   "metadata": {},
   "outputs": [
    {
     "data": {
      "text/plain": [
       "surface\n",
       "grass         2043\n",
       "fieldturf      964\n",
       "sportturf      236\n",
       "matrixturf     169\n",
       "astroturf      100\n",
       "grass           93\n",
       "a_turf          91\n",
       "astroplay       56\n",
       "Name: count, dtype: int64"
      ]
     },
     "execution_count": 593,
     "metadata": {},
     "output_type": "execute_result"
    }
   ],
   "source": [
    "s['surface'].value_counts()"
   ]
  },
  {
   "cell_type": "code",
   "execution_count": 594,
   "metadata": {},
   "outputs": [
    {
     "name": "stderr",
     "output_type": "stream",
     "text": [
      "/var/folders/fv/6ssdmf5n3cs0c8kp8swwnx280000gn/T/ipykernel_39999/535587010.py:2: FutureWarning: A value is trying to be set on a copy of a DataFrame or Series through chained assignment using an inplace method.\n",
      "The behavior will change in pandas 3.0. This inplace method will never work because the intermediate object on which we are setting values always behaves as a copy.\n",
      "\n",
      "For example, when doing 'df[col].method(value, inplace=True)', try using 'df.method({col: value}, inplace=True)' or df[col] = df[col].method(value) instead, to perform the operation inplace on the original object.\n",
      "\n",
      "\n",
      "  s['surface'].replace('a_turf','fieldturf',inplace=True)\n",
      "/var/folders/fv/6ssdmf5n3cs0c8kp8swwnx280000gn/T/ipykernel_39999/535587010.py:3: FutureWarning: A value is trying to be set on a copy of a DataFrame or Series through chained assignment using an inplace method.\n",
      "The behavior will change in pandas 3.0. This inplace method will never work because the intermediate object on which we are setting values always behaves as a copy.\n",
      "\n",
      "For example, when doing 'df[col].method(value, inplace=True)', try using 'df.method({col: value}, inplace=True)' or df[col] = df[col].method(value) instead, to perform the operation inplace on the original object.\n",
      "\n",
      "\n",
      "  s['surface'].replace('astroplay','fieldturf',inplace=True)\n",
      "/var/folders/fv/6ssdmf5n3cs0c8kp8swwnx280000gn/T/ipykernel_39999/535587010.py:4: FutureWarning: A value is trying to be set on a copy of a DataFrame or Series through chained assignment using an inplace method.\n",
      "The behavior will change in pandas 3.0. This inplace method will never work because the intermediate object on which we are setting values always behaves as a copy.\n",
      "\n",
      "For example, when doing 'df[col].method(value, inplace=True)', try using 'df.method({col: value}, inplace=True)' or df[col] = df[col].method(value) instead, to perform the operation inplace on the original object.\n",
      "\n",
      "\n",
      "  s['surface'].replace('sportturf','fieldturf',inplace=True)\n",
      "/var/folders/fv/6ssdmf5n3cs0c8kp8swwnx280000gn/T/ipykernel_39999/535587010.py:5: FutureWarning: A value is trying to be set on a copy of a DataFrame or Series through chained assignment using an inplace method.\n",
      "The behavior will change in pandas 3.0. This inplace method will never work because the intermediate object on which we are setting values always behaves as a copy.\n",
      "\n",
      "For example, when doing 'df[col].method(value, inplace=True)', try using 'df.method({col: value}, inplace=True)' or df[col] = df[col].method(value) instead, to perform the operation inplace on the original object.\n",
      "\n",
      "\n",
      "  s['surface'].replace('matrixturf','fieldturf',inplace=True)\n",
      "/var/folders/fv/6ssdmf5n3cs0c8kp8swwnx280000gn/T/ipykernel_39999/535587010.py:6: FutureWarning: A value is trying to be set on a copy of a DataFrame or Series through chained assignment using an inplace method.\n",
      "The behavior will change in pandas 3.0. This inplace method will never work because the intermediate object on which we are setting values always behaves as a copy.\n",
      "\n",
      "For example, when doing 'df[col].method(value, inplace=True)', try using 'df.method({col: value}, inplace=True)' or df[col] = df[col].method(value) instead, to perform the operation inplace on the original object.\n",
      "\n",
      "\n",
      "  s['surface'].replace('astroturf','fieldturf',inplace=True)\n",
      "/var/folders/fv/6ssdmf5n3cs0c8kp8swwnx280000gn/T/ipykernel_39999/535587010.py:7: FutureWarning: A value is trying to be set on a copy of a DataFrame or Series through chained assignment using an inplace method.\n",
      "The behavior will change in pandas 3.0. This inplace method will never work because the intermediate object on which we are setting values always behaves as a copy.\n",
      "\n",
      "For example, when doing 'df[col].method(value, inplace=True)', try using 'df.method({col: value}, inplace=True)' or df[col] = df[col].method(value) instead, to perform the operation inplace on the original object.\n",
      "\n",
      "\n",
      "  s['surface'].replace('grass ','grass',inplace=True)\n"
     ]
    },
    {
     "data": {
      "text/plain": [
       "surface\n",
       "grass        2136\n",
       "fieldturf    1616\n",
       "Name: count, dtype: int64"
      ]
     },
     "execution_count": 594,
     "metadata": {},
     "output_type": "execute_result"
    }
   ],
   "source": [
    "# There are too many surfaces, we will combine them into 2 categories either grass or turf\n",
    "s['surface'].replace('a_turf','fieldturf',inplace=True)\n",
    "s['surface'].replace('astroplay','fieldturf',inplace=True)\n",
    "s['surface'].replace('sportturf','fieldturf',inplace=True)\n",
    "s['surface'].replace('matrixturf','fieldturf',inplace=True)\n",
    "s['surface'].replace('astroturf','fieldturf',inplace=True)\n",
    "s['surface'].replace('grass ','grass',inplace=True)\n",
    "s['surface'].value_counts()"
   ]
  },
  {
   "cell_type": "code",
   "execution_count": 595,
   "metadata": {},
   "outputs": [
    {
     "name": "stdout",
     "output_type": "stream",
     "text": [
      "41\n"
     ]
    }
   ],
   "source": [
    "print(s['surface'].isnull().sum())"
   ]
  },
  {
   "cell_type": "code",
   "execution_count": 596,
   "metadata": {},
   "outputs": [
    {
     "name": "stdout",
     "output_type": "stream",
     "text": [
      "Stadium-Surface Mapping: {'Louisiana Superdome': 'fieldturf', 'Ralph Wilson Stadium': 'fieldturf', 'Soldier Field': 'grass', 'Reliant Stadium': 'grass', 'EverBank Field': 'grass', 'Gillette Stadium': 'grass', 'New Meadowlands Stadium': 'fieldturf', 'Heinz Field': 'grass', 'Raymond James Stadium': 'grass', 'LP Field': 'grass', 'Lincoln Financial Field': 'grass', 'Qwest Field': 'fieldturf', 'Edward Jones Dome': 'fieldturf', 'FedExField': 'grass', 'Arrowhead Stadium': 'fieldturf', 'Georgia Dome': 'fieldturf', 'Bank of America Stadium': 'grass', 'Paul Brown Stadium': 'grass', 'Cleveland Browns Stadium': 'grass', 'Cowboys Stadium': 'grass', 'Ford Field': 'fieldturf', 'Lambeau Field': 'grass', 'Mall of America Field': 'fieldturf', 'Invesco Field at Mile High': 'grass', 'Oakland-Alameda County Coliseum': 'grass', 'Qualcomm Stadium': 'grass', 'Lucas Oil Stadium': 'fieldturf', 'Candlestick Park': 'grass', 'M&T Bank Stadium': 'grass', 'University of Phoenix Stadium': 'grass', 'Sun Life Stadium': 'grass', 'Wembley Stadium': 'fieldturf', 'Rogers Centre': 'fieldturf', 'TCF Bank Stadium': 'fieldturf', 'MetLife Stadium': 'fieldturf', 'Sports Authority Field at Mile High': 'grass', 'Mercedes-Benz Superdome': 'fieldturf', 'O.co Coliseum': 'grass', 'CenturyLink Field': 'fieldturf', 'FirstEnergy Stadium': 'grass', 'AT&T Stadium': 'fieldturf', 'NRG Stadium': 'fieldturf', \"Levi's Stadium\": 'grass', 'Nissan Stadium': 'grass', 'New Era Field': 'fieldturf', 'Los Angeles Memorial Coliseum': 'grass', 'U.S. Bank Stadium': 'fieldturf', 'Hard Rock Stadium': 'grass', 'Twickenham Stadium': 'grass', 'Azteca Stadium': 'grass', 'StubHub Center': 'grass', 'Mercedes-Benz Stadium': 'fieldturf', 'State Farm Stadium': 'grass', 'TIAA Bank Stadium': 'grass', 'Ring Central Coliseum': 'grass', 'Empower Field at Mile High': 'grass', 'Tottenham Stadium': 'grass', 'SoFi Stadium': 'fieldturf', 'Allegiant Stadium': 'grass', 'Lumen Field': 'fieldturf', 'GEHA Field at Arrowhead Stadium': 'grass', 'Paycor Stadium': 'fieldturf', 'Acrisure Stadium': 'grass', 'Deutsche Bank Park': 'grass'}\n"
     ]
    }
   ],
   "source": [
    "# There are quite some values, we will cretate a map for the stadiums and their surfaces\n",
    "# Create a dict for the stadiums and their surfaces\n",
    "stadium_surface = s[['stadium', 'surface']].drop_duplicates()\n",
    "stadium_surface = stadium_surface[stadium_surface['surface'].notnull()]\n",
    "stadium_surface = stadium_surface.set_index('stadium')['surface'].to_dict()\n",
    "print(\"Stadium-Surface Mapping:\", stadium_surface)"
   ]
  },
  {
   "cell_type": "code",
   "execution_count": 597,
   "metadata": {},
   "outputs": [
    {
     "name": "stdout",
     "output_type": "stream",
     "text": [
      "1\n"
     ]
    },
    {
     "name": "stderr",
     "output_type": "stream",
     "text": [
      "/var/folders/fv/6ssdmf5n3cs0c8kp8swwnx280000gn/T/ipykernel_39999/983890332.py:2: FutureWarning: A value is trying to be set on a copy of a DataFrame or Series through chained assignment using an inplace method.\n",
      "The behavior will change in pandas 3.0. This inplace method will never work because the intermediate object on which we are setting values always behaves as a copy.\n",
      "\n",
      "For example, when doing 'df[col].method(value, inplace=True)', try using 'df.method({col: value}, inplace=True)' or df[col] = df[col].method(value) instead, to perform the operation inplace on the original object.\n",
      "\n",
      "\n",
      "  s['surface'].fillna(s['stadium'].map(stadium_surface), inplace=True)\n"
     ]
    }
   ],
   "source": [
    "# Now we can use this dict to fill the missing values in the dataset\n",
    "s['surface'].fillna(s['stadium'].map(stadium_surface), inplace=True)\n",
    "# Check if there are any missing values\n",
    "print(s['surface'].isnull().sum())"
   ]
  },
  {
   "cell_type": "code",
   "execution_count": 598,
   "metadata": {},
   "outputs": [
    {
     "name": "stdout",
     "output_type": "stream",
     "text": [
      "1201\n",
      "1201\n"
     ]
    }
   ],
   "source": [
    "print(s['temp'].isnull().sum())\n",
    "print(s['wind'].isnull().sum())"
   ]
  },
  {
   "cell_type": "code",
   "execution_count": 599,
   "metadata": {},
   "outputs": [
    {
     "name": "stdout",
     "output_type": "stream",
     "text": [
      "Stadium-Temp Mapping: {'Acrisure Stadium': 41.583333333333336, 'Arrowhead Stadium': 50.784946236559136, 'Azteca Stadium': 65.33333333333333, 'Bank of America Stadium': 63.44144144144144, 'Candlestick Park': 60.6764705882353, 'CenturyLink Field': 51.97530864197531, 'Cleveland Browns Stadium': 51.75, 'Empower Field at Mile High': 54.888888888888886, 'EverBank Field': 72.68333333333334, 'FedExField': 56.765765765765764, 'FirstEnergy Stadium': 51.79761904761905, 'GEHA Field at Arrowhead Stadium': 45.72, 'Gillette Stadium': 49.59349593495935, 'Hard Rock Stadium': 80.55737704918033, 'Heinz Field': 50.592233009708735, 'Invesco Field at Mile High': 61.5, 'LP Field': 58.7, 'Lambeau Field': 42.779661016949156, \"Levi's Stadium\": 65.1951219512195, 'Lincoln Financial Field': 54.666666666666664, 'Los Angeles Memorial Coliseum': 72.19354838709677, 'Lumen Field': 47.0, 'M&T Bank Stadium': 56.00869565217391, 'MetLife Stadium': 54.8128078817734, 'New Era Field': 46.67164179104478, 'New Meadowlands Stadium': 55.5, 'Nissan Stadium': 59.83098591549296, 'O.co Coliseum': 64.8974358974359, 'Oakland-Alameda County Coliseum': 64.03448275862068, 'Paul Brown Stadium': 53.92929292929293, 'Paycor Stadium': 50.53846153846154, 'Qualcomm Stadium': 71.46428571428571, 'Qwest Field': 49.55555555555556, 'Ralph Wilson Stadium': 51.2093023255814, 'Raymond James Stadium': 77.37272727272727, 'Ring Central Coliseum': 65.28571428571429, 'Soldier Field': 49.517857142857146, 'Sports Authority Field at Mile High': 56.80281690140845, 'StubHub Center': 74.80952380952381, 'Sun Life Stadium': 79.76595744680851, 'TCF Bank Stadium': 40.611111111111114, 'TIAA Bank Stadium': 72.41463414634147, 'Tottenham Stadium': 61.5, 'Twickenham Stadium': 55.0, 'Wembley Stadium': 56.6}\n"
     ]
    },
    {
     "name": "stderr",
     "output_type": "stream",
     "text": [
      "/var/folders/fv/6ssdmf5n3cs0c8kp8swwnx280000gn/T/ipykernel_39999/3013380753.py:10: FutureWarning: A value is trying to be set on a copy of a DataFrame or Series through chained assignment using an inplace method.\n",
      "The behavior will change in pandas 3.0. This inplace method will never work because the intermediate object on which we are setting values always behaves as a copy.\n",
      "\n",
      "For example, when doing 'df[col].method(value, inplace=True)', try using 'df.method({col: value}, inplace=True)' or df[col] = df[col].method(value) instead, to perform the operation inplace on the original object.\n",
      "\n",
      "\n",
      "  s['temp'].fillna(s['stadium'].map(stadium_temp), inplace=True)\n"
     ]
    },
    {
     "data": {
      "text/plain": [
       "np.int64(1087)"
      ]
     },
     "execution_count": 599,
     "metadata": {},
     "output_type": "execute_result"
    }
   ],
   "source": [
    "# Now do the same for temp and wind but with for that we calculate the average temp and wind for each stadium\n",
    "# Get the values from the dataset\n",
    "stadium_temp = s[['stadium', 'temp']]\n",
    "stadium_temp = stadium_temp[stadium_temp['temp'].notnull()]\n",
    "stadium_temp = stadium_temp.groupby('stadium').mean().reset_index()\n",
    "stadium_temp = stadium_temp.set_index('stadium')['temp'].to_dict()\n",
    "\n",
    "print(\"Stadium-Temp Mapping:\", stadium_temp)\n",
    "# Now we can use this dict to fill the missing values in the dataset\n",
    "s['temp'].fillna(s['stadium'].map(stadium_temp), inplace=True)\n",
    "s['temp'].isnull().sum()"
   ]
  },
  {
   "cell_type": "code",
   "execution_count": 600,
   "metadata": {},
   "outputs": [
    {
     "name": "stderr",
     "output_type": "stream",
     "text": [
      "/var/folders/fv/6ssdmf5n3cs0c8kp8swwnx280000gn/T/ipykernel_39999/974466111.py:3: FutureWarning: A value is trying to be set on a copy of a DataFrame or Series through chained assignment using an inplace method.\n",
      "The behavior will change in pandas 3.0. This inplace method will never work because the intermediate object on which we are setting values always behaves as a copy.\n",
      "\n",
      "For example, when doing 'df[col].method(value, inplace=True)', try using 'df.method({col: value}, inplace=True)' or df[col] = df[col].method(value) instead, to perform the operation inplace on the original object.\n",
      "\n",
      "\n",
      "  s['temp'].fillna(mean_temp, inplace=True)\n"
     ]
    }
   ],
   "source": [
    "# Since there are too many use the mean of the dataset\n",
    "mean_temp = s['temp'].mean()\n",
    "s['temp'].fillna(mean_temp, inplace=True)"
   ]
  },
  {
   "cell_type": "code",
   "execution_count": 601,
   "metadata": {},
   "outputs": [
    {
     "name": "stdout",
     "output_type": "stream",
     "text": [
      "Stadium-Wind Mapping: {'Acrisure Stadium': 9.583333333333334, 'Arrowhead Stadium': 9.161290322580646, 'Azteca Stadium': 4.333333333333333, 'Bank of America Stadium': 6.792792792792793, 'Candlestick Park': 7.823529411764706, 'CenturyLink Field': 6.37037037037037, 'Cleveland Browns Stadium': 14.708333333333334, 'Empower Field at Mile High': 7.916666666666667, 'EverBank Field': 8.15, 'FedExField': 6.504504504504505, 'FirstEnergy Stadium': 12.964285714285714, 'GEHA Field at Arrowhead Stadium': 10.4, 'Gillette Stadium': 8.414634146341463, 'Hard Rock Stadium': 10.737704918032787, 'Heinz Field': 8.757281553398059, 'Invesco Field at Mile High': 7.125, 'LP Field': 7.6, 'Lambeau Field': 9.372881355932204, \"Levi's Stadium\": 7.487804878048781, 'Lincoln Financial Field': 9.885964912280702, 'Los Angeles Memorial Coliseum': 2.2580645161290325, 'Lumen Field': 5.375, 'M&T Bank Stadium': 7.573913043478261, 'MetLife Stadium': 8.078817733990148, 'New Era Field': 10.626865671641792, 'New Meadowlands Stadium': 8.4375, 'Nissan Stadium': 6.591549295774648, 'O.co Coliseum': 8.897435897435898, 'Oakland-Alameda County Coliseum': 7.689655172413793, 'Paul Brown Stadium': 7.595959595959596, 'Paycor Stadium': 7.6923076923076925, 'Qualcomm Stadium': 7.321428571428571, 'Qwest Field': 7.666666666666667, 'Ralph Wilson Stadium': 10.767441860465116, 'Raymond James Stadium': 7.6, 'Ring Central Coliseum': 9.714285714285714, 'Soldier Field': 9.714285714285714, 'Sports Authority Field at Mile High': 6.746478873239437, 'StubHub Center': 6.714285714285714, 'Sun Life Stadium': 11.361702127659575, 'TCF Bank Stadium': 7.277777777777778, 'TIAA Bank Stadium': 9.21951219512195, 'Tottenham Stadium': 12.0, 'Twickenham Stadium': 11.0, 'Wembley Stadium': 7.8}\n"
     ]
    },
    {
     "name": "stderr",
     "output_type": "stream",
     "text": [
      "/var/folders/fv/6ssdmf5n3cs0c8kp8swwnx280000gn/T/ipykernel_39999/519639566.py:9: FutureWarning: A value is trying to be set on a copy of a DataFrame or Series through chained assignment using an inplace method.\n",
      "The behavior will change in pandas 3.0. This inplace method will never work because the intermediate object on which we are setting values always behaves as a copy.\n",
      "\n",
      "For example, when doing 'df[col].method(value, inplace=True)', try using 'df.method({col: value}, inplace=True)' or df[col] = df[col].method(value) instead, to perform the operation inplace on the original object.\n",
      "\n",
      "\n",
      "  s['wind'].fillna(s['stadium'].map(stadium_wind), inplace=True)\n"
     ]
    }
   ],
   "source": [
    "# Now do the same for wind\n",
    "stadium_wind = s[['stadium', 'wind']]\n",
    "stadium_wind = stadium_wind[stadium_wind['wind'].notnull()]\n",
    "stadium_wind = stadium_wind.groupby('stadium').mean().reset_index()\n",
    "stadium_wind = stadium_wind.set_index('stadium')['wind'].to_dict()\n",
    "\n",
    "print(\"Stadium-Wind Mapping:\", stadium_wind)\n",
    "# Now we can use this dict to fill the missing values in the dataset\n",
    "s['wind'].fillna(s['stadium'].map(stadium_wind), inplace=True)"
   ]
  },
  {
   "cell_type": "code",
   "execution_count": 602,
   "metadata": {},
   "outputs": [
    {
     "data": {
      "text/plain": [
       "np.int64(1087)"
      ]
     },
     "execution_count": 602,
     "metadata": {},
     "output_type": "execute_result"
    }
   ],
   "source": [
    "s['wind'].isnull().sum()"
   ]
  },
  {
   "cell_type": "code",
   "execution_count": 603,
   "metadata": {},
   "outputs": [
    {
     "name": "stderr",
     "output_type": "stream",
     "text": [
      "/var/folders/fv/6ssdmf5n3cs0c8kp8swwnx280000gn/T/ipykernel_39999/3227003744.py:3: FutureWarning: A value is trying to be set on a copy of a DataFrame or Series through chained assignment using an inplace method.\n",
      "The behavior will change in pandas 3.0. This inplace method will never work because the intermediate object on which we are setting values always behaves as a copy.\n",
      "\n",
      "For example, when doing 'df[col].method(value, inplace=True)', try using 'df.method({col: value}, inplace=True)' or df[col] = df[col].method(value) instead, to perform the operation inplace on the original object.\n",
      "\n",
      "\n",
      "  s['wind'].fillna(mean_wind, inplace=True)\n"
     ]
    }
   ],
   "source": [
    "# Since they are too many use the mean of the dataset\n",
    "mean_wind = s['wind'].mean()\n",
    "s['wind'].fillna(mean_wind, inplace=True)"
   ]
  },
  {
   "cell_type": "code",
   "execution_count": 604,
   "metadata": {},
   "outputs": [],
   "source": [
    "s = s[['game_id', 'weekday', 'surface', 'temp', 'wind', 'stadium', 'div_game', 'roof']]"
   ]
  },
  {
   "cell_type": "code",
   "execution_count": 605,
   "metadata": {},
   "outputs": [],
   "source": [
    "combined_data = pd.merge(pbp_relevant,s,on=['game_id'],how='left')"
   ]
  },
  {
   "cell_type": "code",
   "execution_count": 606,
   "metadata": {},
   "outputs": [
    {
     "name": "stdout",
     "output_type": "stream",
     "text": [
      "{'play_id': 0, 'game_id': 0, 'week': 0, 'season': 0, 'away_team': 0, 'home_team': 0, 'quarter_seconds_remaining': 0, 'half_seconds_remaining': 0, 'game_seconds_remaining': 0, 'qtr': 0, 'down': 1388, 'ydstogo': 0, 'yardline_100': 0, 'score_differential': 0, 'play_type': 0, 'rush_attempt': 0, 'pass_attempt': 0, 'sack': 0, 'incomplete_pass': 0, 'qb_scramble': 0, 'shotgun': 0, 'no_huddle': 0, 'qb_dropback': 0, 'pass_length': 216490, 'pass_location': 216490, 'air_yards': 216321, 'yards_after_catch': 312786, 'passing_yards': 312755, 'passer_player_id': 197390, 'passer_player_name': 197390, 'receiver_player_id': 220882, 'receiver_player_name': 220880, 'complete_pass': 0, 'run_location': 282762, 'run_gap': 335850, 'rushing_yards': 281119, 'rusher_player_id': 280731, 'rusher_player_name': 280731, 'yards_gained': 0, 'epa': 3, 'air_epa': 216335, 'yac_epa': 216336, 'rush_touchdown': 0, 'pass_touchdown': 0, 'first_down_rush': 0, 'first_down_pass': 0, 'injury_body_part_passer': 0, 'injury_body_part_receiver': 0, 'injury_body_part_rusher': 0, 'severity_passer': 0, 'severity_receiver': 0, 'severity_rusher': 0, 'injury': 0, 'final_injury_part': 0, 'severity': 0, 'weekday': 0, 'surface': 119, 'temp': 0, 'wind': 0, 'stadium': 0, 'div_game': 0, 'roof': 0}\n"
     ]
    }
   ],
   "source": [
    "print(combined_data.isnull().sum().to_dict())"
   ]
  },
  {
   "cell_type": "code",
   "execution_count": 607,
   "metadata": {},
   "outputs": [
    {
     "name": "stdout",
     "output_type": "stream",
     "text": [
      "Index(['play_id', 'game_id', 'week', 'season', 'away_team', 'home_team',\n",
      "       'quarter_seconds_remaining', 'half_seconds_remaining',\n",
      "       'game_seconds_remaining', 'qtr', 'down', 'ydstogo', 'yardline_100',\n",
      "       'score_differential', 'play_type', 'rush_attempt', 'pass_attempt',\n",
      "       'sack', 'incomplete_pass', 'qb_scramble', 'shotgun', 'no_huddle',\n",
      "       'qb_dropback', 'pass_length', 'pass_location', 'air_yards',\n",
      "       'yards_after_catch', 'passing_yards', 'passer_player_id',\n",
      "       'passer_player_name', 'receiver_player_id', 'receiver_player_name',\n",
      "       'complete_pass', 'run_location', 'run_gap', 'rushing_yards',\n",
      "       'rusher_player_id', 'rusher_player_name', 'yards_gained', 'epa',\n",
      "       'air_epa', 'yac_epa', 'rush_touchdown', 'pass_touchdown',\n",
      "       'first_down_rush', 'first_down_pass', 'injury_body_part_passer',\n",
      "       'injury_body_part_receiver', 'injury_body_part_rusher',\n",
      "       'severity_passer', 'severity_receiver', 'severity_rusher', 'injury',\n",
      "       'final_injury_part', 'severity', 'weekday', 'surface', 'temp', 'wind',\n",
      "       'stadium', 'div_game', 'roof'],\n",
      "      dtype='object')\n"
     ]
    }
   ],
   "source": [
    "# Print the columns to decide which ones to keep\n",
    "print(combined_data.columns)"
   ]
  },
  {
   "cell_type": "markdown",
   "metadata": {},
   "source": [
    "## Plotting the data"
   ]
  },
  {
   "cell_type": "code",
   "execution_count": 608,
   "metadata": {},
   "outputs": [
    {
     "name": "stderr",
     "output_type": "stream",
     "text": [
      "/var/folders/fv/6ssdmf5n3cs0c8kp8swwnx280000gn/T/ipykernel_39999/672084391.py:4: FutureWarning: \n",
      "\n",
      "Passing `palette` without assigning `hue` is deprecated and will be removed in v0.14.0. Assign the `x` variable to `hue` and set `legend=False` for the same effect.\n",
      "\n",
      "  sns.barplot(x=injuries_total.index, y=injuries_total.values, palette='viridis')\n"
     ]
    },
    {
     "data": {
      "image/png": "[encoded data removed]",
      "text/plain": [
       "<Figure size 1200x800 with 1 Axes>"
      ]
     },
     "metadata": {},
     "output_type": "display_data"
    }
   ],
   "source": [
    "# Injuries vs no injuries\n",
    "injuries_total = combined_data['injury'].value_counts()\n",
    "plt.figure(figsize=(12, 8))\n",
    "sns.barplot(x=injuries_total.index, y=injuries_total.values, palette='viridis')\n",
    "plt.title('Number of Injuries (2010-2023) in Pass and Run Plays')\n",
    "plt.xlabel('Injury')\n",
    "plt.ylabel('Total Injuries')\n",
    "plt.savefig('../visualizations/injuries_total.png')\n",
    "plt.show()"
   ]
  },
  {
   "cell_type": "code",
   "execution_count": 609,
   "metadata": {},
   "outputs": [
    {
     "name": "stderr",
     "output_type": "stream",
     "text": [
      "/var/folders/fv/6ssdmf5n3cs0c8kp8swwnx280000gn/T/ipykernel_39999/2833448565.py:5: FutureWarning: \n",
      "\n",
      "Passing `palette` without assigning `hue` is deprecated and will be removed in v0.14.0. Assign the `x` variable to `hue` and set `legend=False` for the same effect.\n",
      "\n",
      "  sns.barplot(x=injuries_by_year.index, y=injuries_by_year.values, palette='viridis')\n"
     ]
    },
    {
     "data": {
      "image/png": "[encoded data removed]",
      "text/plain": [
       "<Figure size 1200x600 with 1 Axes>"
      ]
     },
     "metadata": {},
     "output_type": "display_data"
    }
   ],
   "source": [
    "# Plot the injuries by year\n",
    "injuries_by_year = combined_data.groupby('season')['injury'].sum()\n",
    "\n",
    "plt.figure(figsize=(12, 6))\n",
    "sns.barplot(x=injuries_by_year.index, y=injuries_by_year.values, palette='viridis')\n",
    "plt.title('Number of Injuries by Year (2010-2023) in Run and Pass Plays')\n",
    "plt.xlabel('Year')\n",
    "plt.ylabel('Number of Injuries')\n",
    "plt.savefig('../visualizations/injuries_by_year.png')\n",
    "plt.show()"
   ]
  },
  {
   "cell_type": "code",
   "execution_count": 610,
   "metadata": {},
   "outputs": [
    {
     "name": "stderr",
     "output_type": "stream",
     "text": [
      "/var/folders/fv/6ssdmf5n3cs0c8kp8swwnx280000gn/T/ipykernel_39999/3365138899.py:4: FutureWarning: \n",
      "\n",
      "Passing `palette` without assigning `hue` is deprecated and will be removed in v0.14.0. Assign the `x` variable to `hue` and set `legend=False` for the same effect.\n",
      "\n",
      "  sns.barplot(x=injuries_by_surface.index, y=injuries_by_surface.values, palette='viridis')\n"
     ]
    },
    {
     "data": {
      "image/png": "[encoded data removed]",
      "text/plain": [
       "<Figure size 1200x600 with 1 Axes>"
      ]
     },
     "metadata": {},
     "output_type": "display_data"
    }
   ],
   "source": [
    "# Plot injuries by field type\n",
    "injuries_by_surface = combined_data.groupby('surface')['injury'].sum()\n",
    "plt.figure(figsize=(12, 6))\n",
    "sns.barplot(x=injuries_by_surface.index, y=injuries_by_surface.values, palette='viridis')\n",
    "plt.title('Number of Injuries by Surface Type (2010-2023) in Pass and Run Plays')\n",
    "plt.xlabel('Surface Type')\n",
    "plt.ylabel('Number of Injuries')\n",
    "plt.savefig('../visualizations/injuries_by_surface.png')\n",
    "plt.show()"
   ]
  },
  {
   "cell_type": "code",
   "execution_count": 611,
   "metadata": {},
   "outputs": [
    {
     "name": "stderr",
     "output_type": "stream",
     "text": [
      "/var/folders/fv/6ssdmf5n3cs0c8kp8swwnx280000gn/T/ipykernel_39999/1124180181.py:8: FutureWarning: \n",
      "\n",
      "Passing `palette` without assigning `hue` is deprecated and will be removed in v0.14.0. Assign the `y` variable to `hue` and set `legend=False` for the same effect.\n",
      "\n",
      "  sns.barplot(x=injuries_by_body_part.values, y=injuries_by_body_part.index, palette='viridis', orient='horizontal')\n"
     ]
    },
    {
     "data": {
      "text/plain": [
       "Text(54.624999999999986, 0.5, 'Body Part')"
      ]
     },
     "execution_count": 611,
     "metadata": {},
     "output_type": "execute_result"
    },
    {
     "data": {
      "image/png": "[encoded data removed]",
      "text/plain": [
       "<Figure size 1200x600 with 1 Axes>"
      ]
     },
     "metadata": {},
     "output_type": "display_data"
    }
   ],
   "source": [
    "# Plot injuries by body part\n",
    "\n",
    "# Exclude 'No injury' from the data and calculate the number of injuries by body part\n",
    "injuries_by_body_part = combined_data[combined_data['final_injury_part'] != 'No injury'].groupby('final_injury_part')['injury'].sum()\n",
    "injuries_by_body_part = injuries_by_body_part.sort_values(ascending=False)\n",
    "\n",
    "plt.figure(figsize=(12, 6))\n",
    "sns.barplot(x=injuries_by_body_part.values, y=injuries_by_body_part.index, palette='viridis', orient='horizontal')\n",
    "plt.title('Number of Injuries by Body Part (2010-2023) in Pass and Run Plays')\n",
    "plt.xlabel('Number of Injuries')\n",
    "plt.savefig('../visualizations/injuries_by_body_part.png', dpi=300, bbox_inches='tight')\n",
    "plt.ylabel('Body Part')"
   ]
  },
  {
   "cell_type": "markdown",
   "metadata": {},
   "source": [
    "## Data Selection"
   ]
  },
  {
   "cell_type": "code",
   "execution_count": 639,
   "metadata": {},
   "outputs": [],
   "source": [
    "# This will be our target variable\n",
    "y = combined_data['injury']\n",
    "\n",
    "y.to_csv('../data/processed/y.csv', index=False)"
   ]
  },
  {
   "cell_type": "code",
   "execution_count": 640,
   "metadata": {},
   "outputs": [],
   "source": [
    "# Drop all the columns that we don't want to use for training, more will be discarded later\n",
    "training = combined_data.drop(columns=['play_id', 'game_id', 'week', 'season', 'away_team', 'home_team', 'injury_body_part_passer',\n",
    "       'injury_body_part_receiver', 'injury_body_part_rusher',\n",
    "       'stadium', 'passer_player_id', 'severity', 'final_injury_part',\n",
    "       'passer_player_name', 'receiver_player_id', 'receiver_player_name', 'rusher_player_id', 'rusher_player_name']).copy()"
   ]
  },
  {
   "cell_type": "code",
   "execution_count": 641,
   "metadata": {},
   "outputs": [
    {
     "name": "stdout",
     "output_type": "stream",
     "text": [
      "quarter_seconds_remaining    float64\n",
      "half_seconds_remaining       float64\n",
      "game_seconds_remaining       float64\n",
      "qtr                          float64\n",
      "down                         float64\n",
      "ydstogo                      float64\n",
      "yardline_100                 float64\n",
      "score_differential           float64\n",
      "play_type                     object\n",
      "rush_attempt                 float64\n",
      "pass_attempt                 float64\n",
      "sack                         float64\n",
      "incomplete_pass              float64\n",
      "qb_scramble                  float64\n",
      "shotgun                      float64\n",
      "no_huddle                    float64\n",
      "qb_dropback                  float64\n",
      "pass_length                   object\n",
      "pass_location                 object\n",
      "air_yards                    float64\n",
      "yards_after_catch            float64\n",
      "passing_yards                float64\n",
      "complete_pass                float64\n",
      "run_location                  object\n",
      "run_gap                       object\n",
      "rushing_yards                float64\n",
      "yards_gained                 float64\n",
      "epa                          float64\n",
      "air_epa                      float64\n",
      "yac_epa                      float64\n",
      "rush_touchdown               float64\n",
      "pass_touchdown               float64\n",
      "first_down_rush              float64\n",
      "first_down_pass              float64\n",
      "severity_passer               object\n",
      "severity_receiver             object\n",
      "severity_rusher               object\n",
      "injury                          bool\n",
      "weekday                       object\n",
      "surface                       object\n",
      "temp                         float64\n",
      "wind                         float64\n",
      "div_game                       int64\n",
      "roof                          object\n",
      "dtype: object\n"
     ]
    }
   ],
   "source": [
    "print(training.dtypes)"
   ]
  },
  {
   "cell_type": "code",
   "execution_count": 642,
   "metadata": {},
   "outputs": [
    {
     "name": "stdout",
     "output_type": "stream",
     "text": [
      "quarter_seconds_remaining    float64\n",
      "half_seconds_remaining       float64\n",
      "game_seconds_remaining       float64\n",
      "qtr                          float64\n",
      "down                         float64\n",
      "ydstogo                      float64\n",
      "yardline_100                 float64\n",
      "score_differential           float64\n",
      "play_type                     object\n",
      "rush_attempt                    bool\n",
      "pass_attempt                    bool\n",
      "sack                            bool\n",
      "incomplete_pass                 bool\n",
      "qb_scramble                     bool\n",
      "shotgun                         bool\n",
      "no_huddle                       bool\n",
      "qb_dropback                     bool\n",
      "pass_length                   object\n",
      "pass_location                 object\n",
      "air_yards                    float64\n",
      "yards_after_catch            float64\n",
      "passing_yards                float64\n",
      "complete_pass                   bool\n",
      "run_location                  object\n",
      "run_gap                       object\n",
      "rushing_yards                float64\n",
      "yards_gained                 float64\n",
      "epa                          float64\n",
      "air_epa                      float64\n",
      "yac_epa                      float64\n",
      "rush_touchdown                  bool\n",
      "pass_touchdown                  bool\n",
      "first_down_rush                 bool\n",
      "first_down_pass                 bool\n",
      "severity_passer               object\n",
      "severity_receiver             object\n",
      "severity_rusher               object\n",
      "injury                          bool\n",
      "weekday                       object\n",
      "surface                       object\n",
      "temp                         float64\n",
      "wind                         float64\n",
      "div_game                       int64\n",
      "roof                          object\n",
      "dtype: object\n"
     ]
    }
   ],
   "source": [
    "# if the columns are numeric but only contain 0 and 1, convert them to int\n",
    "for col in training.columns:\n",
    "    if training[col].dtype == 'float64' and training[col].nunique() == 2:\n",
    "        training[col] = training[col].astype(bool)\n",
    "\n",
    "print(training.dtypes)"
   ]
  },
  {
   "cell_type": "code",
   "execution_count": 643,
   "metadata": {},
   "outputs": [],
   "source": [
    "# quarter and down are still float64, convert them to int\n",
    "training['qtr'] = training['qtr'].astype(int)\n",
    "\n",
    "training['down'] = training.down.fillna(training.down.mode()[0])\n",
    "training['down'] = training['down'].astype(int)\n",
    "\n",
    "training.drop(columns=['injury'], inplace=True)"
   ]
  },
  {
   "cell_type": "code",
   "execution_count": 644,
   "metadata": {},
   "outputs": [],
   "source": [
    "# Classify the columns into numerical and categorical for encoding and scaling\n",
    "# Since injury is boolean, we don't need to drop it, it will not get selected\n",
    "\n",
    "training_float_cols = training.select_dtypes(include=['float64']).columns.tolist()\n",
    "training_float = training[training_float_cols]\n",
    "\n",
    "training_int_cols = training.select_dtypes(include=['int64']).columns.tolist()\n",
    "training_int = training[training_int_cols]\n",
    "\n",
    "training_bool_cols = training.select_dtypes(include=['bool']).columns.tolist()\n",
    "training_bool = training[training_bool_cols]\n",
    "\n",
    "training_categorical_cols = training.select_dtypes(include=['object']).columns.tolist()\n",
    "training_categorical = training[training_categorical_cols]\n",
    "\n",
    "data = pd.concat([training_float, training_int, training_categorical, training_bool, y], axis=1)\n",
    "data.to_csv('../data/processed/NFL_verse_training_data.csv', index=False)"
   ]
  },
  {
   "cell_type": "code",
   "execution_count": 645,
   "metadata": {},
   "outputs": [
    {
     "name": "stdout",
     "output_type": "stream",
     "text": [
      "Float columns: ['quarter_seconds_remaining', 'half_seconds_remaining', 'game_seconds_remaining', 'ydstogo', 'yardline_100', 'score_differential', 'air_yards', 'yards_after_catch', 'passing_yards', 'rushing_yards', 'yards_gained', 'epa', 'air_epa', 'yac_epa', 'temp', 'wind']\n",
      "Int columns: ['qtr', 'down', 'div_game']\n",
      "Categorical columns: ['play_type', 'pass_length', 'pass_location', 'run_location', 'run_gap', 'severity_passer', 'severity_receiver', 'severity_rusher', 'weekday', 'surface', 'roof']\n",
      "Bool columns: ['rush_attempt', 'pass_attempt', 'sack', 'incomplete_pass', 'qb_scramble', 'shotgun', 'no_huddle', 'qb_dropback', 'complete_pass', 'rush_touchdown', 'pass_touchdown', 'first_down_rush', 'first_down_pass']\n"
     ]
    }
   ],
   "source": [
    "print(f\"Float columns: {training_float_cols}\")\n",
    "print(f\"Int columns: {training_int_cols}\")\n",
    "print(f\"Categorical columns: {training_categorical_cols}\")\n",
    "print(f\"Bool columns: {training_bool_cols}\")"
   ]
  },
  {
   "cell_type": "markdown",
   "metadata": {},
   "source": [
    "## Model Training and Evaluation"
   ]
  },
  {
   "cell_type": "markdown",
   "metadata": {},
   "source": [
    "### Data encoding"
   ]
  },
  {
   "cell_type": "code",
   "execution_count": 646,
   "metadata": {},
   "outputs": [
    {
     "name": "stderr",
     "output_type": "stream",
     "text": [
      "/var/folders/fv/6ssdmf5n3cs0c8kp8swwnx280000gn/T/ipykernel_39999/3798038533.py:14: SettingWithCopyWarning: \n",
      "A value is trying to be set on a copy of a slice from a DataFrame.\n",
      "Try using .loc[row_indexer,col_indexer] = value instead\n",
      "\n",
      "See the caveats in the documentation: https://pandas.pydata.org/pandas-docs/stable/user_guide/indexing.html#returning-a-view-versus-a-copy\n",
      "  training_categorical[feat] = le.fit_transform(training_categorical[feat].astype(str))\n",
      "/var/folders/fv/6ssdmf5n3cs0c8kp8swwnx280000gn/T/ipykernel_39999/3798038533.py:14: SettingWithCopyWarning: \n",
      "A value is trying to be set on a copy of a slice from a DataFrame.\n",
      "Try using .loc[row_indexer,col_indexer] = value instead\n",
      "\n",
      "See the caveats in the documentation: https://pandas.pydata.org/pandas-docs/stable/user_guide/indexing.html#returning-a-view-versus-a-copy\n",
      "  training_categorical[feat] = le.fit_transform(training_categorical[feat].astype(str))\n",
      "/var/folders/fv/6ssdmf5n3cs0c8kp8swwnx280000gn/T/ipykernel_39999/3798038533.py:14: SettingWithCopyWarning: \n",
      "A value is trying to be set on a copy of a slice from a DataFrame.\n",
      "Try using .loc[row_indexer,col_indexer] = value instead\n",
      "\n",
      "See the caveats in the documentation: https://pandas.pydata.org/pandas-docs/stable/user_guide/indexing.html#returning-a-view-versus-a-copy\n",
      "  training_categorical[feat] = le.fit_transform(training_categorical[feat].astype(str))\n",
      "/var/folders/fv/6ssdmf5n3cs0c8kp8swwnx280000gn/T/ipykernel_39999/3798038533.py:14: SettingWithCopyWarning: \n",
      "A value is trying to be set on a copy of a slice from a DataFrame.\n",
      "Try using .loc[row_indexer,col_indexer] = value instead\n",
      "\n",
      "See the caveats in the documentation: https://pandas.pydata.org/pandas-docs/stable/user_guide/indexing.html#returning-a-view-versus-a-copy\n",
      "  training_categorical[feat] = le.fit_transform(training_categorical[feat].astype(str))\n",
      "/var/folders/fv/6ssdmf5n3cs0c8kp8swwnx280000gn/T/ipykernel_39999/3798038533.py:14: SettingWithCopyWarning: \n",
      "A value is trying to be set on a copy of a slice from a DataFrame.\n",
      "Try using .loc[row_indexer,col_indexer] = value instead\n",
      "\n",
      "See the caveats in the documentation: https://pandas.pydata.org/pandas-docs/stable/user_guide/indexing.html#returning-a-view-versus-a-copy\n",
      "  training_categorical[feat] = le.fit_transform(training_categorical[feat].astype(str))\n",
      "/var/folders/fv/6ssdmf5n3cs0c8kp8swwnx280000gn/T/ipykernel_39999/3798038533.py:14: SettingWithCopyWarning: \n",
      "A value is trying to be set on a copy of a slice from a DataFrame.\n",
      "Try using .loc[row_indexer,col_indexer] = value instead\n",
      "\n",
      "See the caveats in the documentation: https://pandas.pydata.org/pandas-docs/stable/user_guide/indexing.html#returning-a-view-versus-a-copy\n",
      "  training_categorical[feat] = le.fit_transform(training_categorical[feat].astype(str))\n",
      "/var/folders/fv/6ssdmf5n3cs0c8kp8swwnx280000gn/T/ipykernel_39999/3798038533.py:14: SettingWithCopyWarning: \n",
      "A value is trying to be set on a copy of a slice from a DataFrame.\n",
      "Try using .loc[row_indexer,col_indexer] = value instead\n",
      "\n",
      "See the caveats in the documentation: https://pandas.pydata.org/pandas-docs/stable/user_guide/indexing.html#returning-a-view-versus-a-copy\n",
      "  training_categorical[feat] = le.fit_transform(training_categorical[feat].astype(str))\n",
      "/var/folders/fv/6ssdmf5n3cs0c8kp8swwnx280000gn/T/ipykernel_39999/3798038533.py:14: SettingWithCopyWarning: \n",
      "A value is trying to be set on a copy of a slice from a DataFrame.\n",
      "Try using .loc[row_indexer,col_indexer] = value instead\n",
      "\n",
      "See the caveats in the documentation: https://pandas.pydata.org/pandas-docs/stable/user_guide/indexing.html#returning-a-view-versus-a-copy\n",
      "  training_categorical[feat] = le.fit_transform(training_categorical[feat].astype(str))\n",
      "/var/folders/fv/6ssdmf5n3cs0c8kp8swwnx280000gn/T/ipykernel_39999/3798038533.py:14: SettingWithCopyWarning: \n",
      "A value is trying to be set on a copy of a slice from a DataFrame.\n",
      "Try using .loc[row_indexer,col_indexer] = value instead\n",
      "\n",
      "See the caveats in the documentation: https://pandas.pydata.org/pandas-docs/stable/user_guide/indexing.html#returning-a-view-versus-a-copy\n",
      "  training_categorical[feat] = le.fit_transform(training_categorical[feat].astype(str))\n",
      "/var/folders/fv/6ssdmf5n3cs0c8kp8swwnx280000gn/T/ipykernel_39999/3798038533.py:14: SettingWithCopyWarning: \n",
      "A value is trying to be set on a copy of a slice from a DataFrame.\n",
      "Try using .loc[row_indexer,col_indexer] = value instead\n",
      "\n",
      "See the caveats in the documentation: https://pandas.pydata.org/pandas-docs/stable/user_guide/indexing.html#returning-a-view-versus-a-copy\n",
      "  training_categorical[feat] = le.fit_transform(training_categorical[feat].astype(str))\n",
      "/var/folders/fv/6ssdmf5n3cs0c8kp8swwnx280000gn/T/ipykernel_39999/3798038533.py:14: SettingWithCopyWarning: \n",
      "A value is trying to be set on a copy of a slice from a DataFrame.\n",
      "Try using .loc[row_indexer,col_indexer] = value instead\n",
      "\n",
      "See the caveats in the documentation: https://pandas.pydata.org/pandas-docs/stable/user_guide/indexing.html#returning-a-view-versus-a-copy\n",
      "  training_categorical[feat] = le.fit_transform(training_categorical[feat].astype(str))\n",
      "/var/folders/fv/6ssdmf5n3cs0c8kp8swwnx280000gn/T/ipykernel_39999/3798038533.py:17: FutureWarning: A value is trying to be set on a copy of a DataFrame or Series through chained assignment using an inplace method.\n",
      "The behavior will change in pandas 3.0. This inplace method will never work because the intermediate object on which we are setting values always behaves as a copy.\n",
      "\n",
      "For example, when doing 'df[col].method(value, inplace=True)', try using 'df.method({col: value}, inplace=True)' or df[col] = df[col].method(value) instead, to perform the operation inplace on the original object.\n",
      "\n",
      "\n",
      "  training_float[feat].fillna(training_float[feat].mean(), inplace=True)\n",
      "/var/folders/fv/6ssdmf5n3cs0c8kp8swwnx280000gn/T/ipykernel_39999/3798038533.py:17: SettingWithCopyWarning: \n",
      "A value is trying to be set on a copy of a slice from a DataFrame\n",
      "\n",
      "See the caveats in the documentation: https://pandas.pydata.org/pandas-docs/stable/user_guide/indexing.html#returning-a-view-versus-a-copy\n",
      "  training_float[feat].fillna(training_float[feat].mean(), inplace=True)\n",
      "/var/folders/fv/6ssdmf5n3cs0c8kp8swwnx280000gn/T/ipykernel_39999/3798038533.py:20: FutureWarning: A value is trying to be set on a copy of a DataFrame or Series through chained assignment using an inplace method.\n",
      "The behavior will change in pandas 3.0. This inplace method will never work because the intermediate object on which we are setting values always behaves as a copy.\n",
      "\n",
      "For example, when doing 'df[col].method(value, inplace=True)', try using 'df.method({col: value}, inplace=True)' or df[col] = df[col].method(value) instead, to perform the operation inplace on the original object.\n",
      "\n",
      "\n",
      "  training_int[feat].fillna(training_int[feat].mode()[0], inplace=True)\n",
      "/var/folders/fv/6ssdmf5n3cs0c8kp8swwnx280000gn/T/ipykernel_39999/3798038533.py:20: SettingWithCopyWarning: \n",
      "A value is trying to be set on a copy of a slice from a DataFrame\n",
      "\n",
      "See the caveats in the documentation: https://pandas.pydata.org/pandas-docs/stable/user_guide/indexing.html#returning-a-view-versus-a-copy\n",
      "  training_int[feat].fillna(training_int[feat].mode()[0], inplace=True)\n",
      "/var/folders/fv/6ssdmf5n3cs0c8kp8swwnx280000gn/T/ipykernel_39999/3798038533.py:20: FutureWarning: A value is trying to be set on a copy of a DataFrame or Series through chained assignment using an inplace method.\n",
      "The behavior will change in pandas 3.0. This inplace method will never work because the intermediate object on which we are setting values always behaves as a copy.\n",
      "\n",
      "For example, when doing 'df[col].method(value, inplace=True)', try using 'df.method({col: value}, inplace=True)' or df[col] = df[col].method(value) instead, to perform the operation inplace on the original object.\n",
      "\n",
      "\n",
      "  training_int[feat].fillna(training_int[feat].mode()[0], inplace=True)\n",
      "/var/folders/fv/6ssdmf5n3cs0c8kp8swwnx280000gn/T/ipykernel_39999/3798038533.py:20: SettingWithCopyWarning: \n",
      "A value is trying to be set on a copy of a slice from a DataFrame\n",
      "\n",
      "See the caveats in the documentation: https://pandas.pydata.org/pandas-docs/stable/user_guide/indexing.html#returning-a-view-versus-a-copy\n",
      "  training_int[feat].fillna(training_int[feat].mode()[0], inplace=True)\n",
      "/var/folders/fv/6ssdmf5n3cs0c8kp8swwnx280000gn/T/ipykernel_39999/3798038533.py:20: FutureWarning: A value is trying to be set on a copy of a DataFrame or Series through chained assignment using an inplace method.\n",
      "The behavior will change in pandas 3.0. This inplace method will never work because the intermediate object on which we are setting values always behaves as a copy.\n",
      "\n",
      "For example, when doing 'df[col].method(value, inplace=True)', try using 'df.method({col: value}, inplace=True)' or df[col] = df[col].method(value) instead, to perform the operation inplace on the original object.\n",
      "\n",
      "\n",
      "  training_int[feat].fillna(training_int[feat].mode()[0], inplace=True)\n",
      "/var/folders/fv/6ssdmf5n3cs0c8kp8swwnx280000gn/T/ipykernel_39999/3798038533.py:20: SettingWithCopyWarning: \n",
      "A value is trying to be set on a copy of a slice from a DataFrame\n",
      "\n",
      "See the caveats in the documentation: https://pandas.pydata.org/pandas-docs/stable/user_guide/indexing.html#returning-a-view-versus-a-copy\n",
      "  training_int[feat].fillna(training_int[feat].mode()[0], inplace=True)\n",
      "/var/folders/fv/6ssdmf5n3cs0c8kp8swwnx280000gn/T/ipykernel_39999/3798038533.py:23: FutureWarning: A value is trying to be set on a copy of a DataFrame or Series through chained assignment using an inplace method.\n",
      "The behavior will change in pandas 3.0. This inplace method will never work because the intermediate object on which we are setting values always behaves as a copy.\n",
      "\n",
      "For example, when doing 'df[col].method(value, inplace=True)', try using 'df.method({col: value}, inplace=True)' or df[col] = df[col].method(value) instead, to perform the operation inplace on the original object.\n",
      "\n",
      "\n",
      "  training_bool[feat].fillna(training_bool[feat].mode()[0], inplace=True)\n",
      "/var/folders/fv/6ssdmf5n3cs0c8kp8swwnx280000gn/T/ipykernel_39999/3798038533.py:23: SettingWithCopyWarning: \n",
      "A value is trying to be set on a copy of a slice from a DataFrame\n",
      "\n",
      "See the caveats in the documentation: https://pandas.pydata.org/pandas-docs/stable/user_guide/indexing.html#returning-a-view-versus-a-copy\n",
      "  training_bool[feat].fillna(training_bool[feat].mode()[0], inplace=True)\n"
     ]
    }
   ],
   "source": [
    "from sklearn.calibration import LabelEncoder\n",
    "from sklearn.preprocessing import StandardScaler\n",
    "from sklearn.pipeline import make_pipeline\n",
    "from sklearn.decomposition import PCA\n",
    "\n",
    "pca = PCA()\n",
    "le = LabelEncoder()\n",
    "scaler = StandardScaler()\n",
    "pipeline = make_pipeline(scaler, pca) \n",
    "\n",
    "data.drop(columns=['injury'], inplace=True)\n",
    "\n",
    "for feat in training_categorical_cols:\n",
    "    training_categorical[feat] = le.fit_transform(training_categorical[feat].astype(str))\n",
    "\n",
    "for feat in training_float_cols:\n",
    "    training_float[feat].fillna(training_float[feat].mean(), inplace=True)\n",
    "\n",
    "for feat in training_int_cols:\n",
    "    training_int[feat].fillna(training_int[feat].mode()[0], inplace=True)\n",
    "\n",
    "for feat in training_bool_cols:\n",
    "    training_bool[feat].fillna(training_bool[feat].mode()[0], inplace=True)"
   ]
  },
  {
   "cell_type": "code",
   "execution_count": 647,
   "metadata": {},
   "outputs": [],
   "source": [
    "final_training_data = pd.concat([training_float, training_int, training_categorical, training_bool], axis=1)"
   ]
  },
  {
   "cell_type": "code",
   "execution_count": 648,
   "metadata": {},
   "outputs": [],
   "source": [
    "X_enc = pipeline.fit_transform(final_training_data)"
   ]
  },
  {
   "cell_type": "code",
   "execution_count": 649,
   "metadata": {},
   "outputs": [],
   "source": [
    "final_training_data = pd.DataFrame(\n",
    "  data=X_enc,\n",
    "  columns=final_training_data.columns,\n",
    "  index=final_training_data.index\n",
    ")"
   ]
  },
  {
   "cell_type": "markdown",
   "metadata": {},
   "source": [
    "### Information gain"
   ]
  },
  {
   "cell_type": "markdown",
   "metadata": {},
   "source": [
    "Encode both categorical and numerical variables"
   ]
  },
  {
   "cell_type": "code",
   "execution_count": 650,
   "metadata": {},
   "outputs": [
    {
     "data": {
      "text/plain": [
       "array([1.44244560e-04, 0.00000000e+00, 0.00000000e+00, 4.77270420e-04,\n",
       "       3.67333703e-04, 1.40185451e-04, 5.21714036e-03, 0.00000000e+00,\n",
       "       1.06805646e-03, 1.09005429e-04, 1.48790912e-01, 5.07747891e-02,\n",
       "       4.17693309e-03, 8.38934879e-02, 3.61645697e-02, 1.09615174e-02,\n",
       "       4.32442947e-02, 3.23659863e-01, 1.76343419e-01, 8.35758747e-04,\n",
       "       5.24653956e-04, 2.43386119e-04, 2.47452189e-02, 0.00000000e+00,\n",
       "       7.67116536e-03, 2.71843471e-03, 2.78790946e-04, 8.21217212e-03,\n",
       "       1.02660270e-03, 3.26722663e-04, 1.10939875e-03, 0.00000000e+00,\n",
       "       0.00000000e+00, 1.78715725e-04, 3.39540531e-04, 1.41603652e-04,\n",
       "       4.59608074e-04, 3.27518482e-04, 0.00000000e+00, 1.54021055e-03,\n",
       "       5.21630745e-03, 1.04368640e-02, 7.44406811e-03])"
      ]
     },
     "execution_count": 650,
     "metadata": {},
     "output_type": "execute_result"
    }
   ],
   "source": [
    "from sklearn.feature_selection import mutual_info_classif\n",
    "\n",
    "ig = mutual_info_classif(final_training_data, y, random_state=42)\n",
    "ig"
   ]
  },
  {
   "cell_type": "code",
   "execution_count": 651,
   "metadata": {},
   "outputs": [],
   "source": [
    "# Create a dictionary to store the feature and its information gain\n",
    "ig_dict = {}\n",
    "for i in range(len(final_training_data.columns)):\n",
    "    ig_dict[final_training_data.columns[i]] = ig[i]"
   ]
  },
  {
   "cell_type": "code",
   "execution_count": 652,
   "metadata": {},
   "outputs": [
    {
     "name": "stdout",
     "output_type": "stream",
     "text": [
      "Selected Features:\n",
      "['down', 'div_game', 'yards_gained', 'yac_epa', 'epa', 'qtr', 'temp', 'run_location', 'wind', 'first_down_rush', 'weekday', 'severity_passer', 'first_down_pass', 'air_yards', 'pass_touchdown', 'air_epa', 'severity_receiver', 'rush_touchdown', 'rush_attempt', 'passing_yards']\n"
     ]
    }
   ],
   "source": [
    "ig_dict_sorted = dict(sorted(ig_dict.items(), key=lambda item: item[1], reverse=True))\n",
    "\n",
    "# Select the top n features with the highest information gain for training the model\n",
    "n = 20\n",
    "selected_features = list(ig_dict_sorted.keys())[:n]\n",
    "\n",
    "# Print the selected features\n",
    "print('Selected Features:')\n",
    "print(selected_features)"
   ]
  },
  {
   "cell_type": "code",
   "execution_count": 653,
   "metadata": {},
   "outputs": [
    {
     "data": {
      "image/png": "[encoded data removed]",
      "text/plain": [
       "<Figure size 1200x1200 with 1 Axes>"
      ]
     },
     "metadata": {},
     "output_type": "display_data"
    }
   ],
   "source": [
    "# Visualize the information gain of each feature\n",
    "sns.set(style=\"whitegrid\")\n",
    "sns.set(rc={'figure.figsize':(12,12)})\n",
    "sns.barplot(x=list(ig_dict_sorted.values()), y=list(ig_dict_sorted.keys()))\n",
    "plt.title('Information Gain of Features')\n",
    "plt.xlabel('Information Gain')\n",
    "plt.ylabel('Feature Name')\n",
    "plt.savefig('../visualizations/information_gain.png')\n",
    "plt.show()"
   ]
  },
  {
   "cell_type": "markdown",
   "metadata": {},
   "source": [
    "### Model training"
   ]
  },
  {
   "cell_type": "code",
   "execution_count": 654,
   "metadata": {},
   "outputs": [],
   "source": [
    "from sklearn.model_selection import train_test_split\n",
    "\n",
    "final_training_data = final_training_data[selected_features]\n",
    "final_training_data.drop(columns=['severity_receiver', 'severity_passer'], inplace=True)"
   ]
  },
  {
   "cell_type": "code",
   "execution_count": 655,
   "metadata": {},
   "outputs": [],
   "source": [
    "X_train, X_test, y_train, y_test = train_test_split(final_training_data, y, test_size=0.3, random_state=40)"
   ]
  },
  {
   "cell_type": "code",
   "execution_count": 656,
   "metadata": {},
   "outputs": [
    {
     "name": "stdout",
     "output_type": "stream",
     "text": [
      "{'down': 0, 'div_game': 0, 'yards_gained': 0, 'yac_epa': 0, 'epa': 0, 'qtr': 0, 'temp': 0, 'run_location': 0, 'wind': 0, 'first_down_rush': 0, 'weekday': 0, 'first_down_pass': 0, 'air_yards': 0, 'pass_touchdown': 0, 'air_epa': 0, 'rush_touchdown': 0, 'rush_attempt': 0, 'passing_yards': 0}\n"
     ]
    }
   ],
   "source": [
    "print(X_train.isnull().sum().to_dict())"
   ]
  },
  {
   "cell_type": "code",
   "execution_count": 657,
   "metadata": {},
   "outputs": [
    {
     "data": {
      "text/html": [
       "<style>#sk-container-id-19 {\n",
       "  /* Definition of color scheme common for light and dark mode */\n",
       "  --sklearn-color-text: #000;\n",
       "  --sklearn-color-text-muted: #666;\n",
       "  --sklearn-color-line: gray;\n",
       "  /* Definition of color scheme for unfitted estimators */\n",
       "  --sklearn-color-unfitted-level-0: #fff5e6;\n",
       "  --sklearn-color-unfitted-level-1: #f6e4d2;\n",
       "  --sklearn-color-unfitted-level-2: #ffe0b3;\n",
       "  --sklearn-color-unfitted-level-3: chocolate;\n",
       "  /* Definition of color scheme for fitted estimators */\n",
       "  --sklearn-color-fitted-level-0: #f0f8ff;\n",
       "  --sklearn-color-fitted-level-1: #d4ebff;\n",
       "  --sklearn-color-fitted-level-2: #b3dbfd;\n",
       "  --sklearn-color-fitted-level-3: cornflowerblue;\n",
       "\n",
       "  /* Specific color for light theme */\n",
       "  --sklearn-color-text-on-default-background: var(--sg-text-color, var(--theme-code-foreground, var(--jp-content-font-color1, black)));\n",
       "  --sklearn-color-background: var(--sg-background-color, var(--theme-background, var(--jp-layout-color0, white)));\n",
       "  --sklearn-color-border-box: var(--sg-text-color, var(--theme-code-foreground, var(--jp-content-font-color1, black)));\n",
       "  --sklearn-color-icon: #696969;\n",
       "\n",
       "  @media (prefers-color-scheme: dark) {\n",
       "    /* Redefinition of color scheme for dark theme */\n",
       "    --sklearn-color-text-on-default-background: var(--sg-text-color, var(--theme-code-foreground, var(--jp-content-font-color1, white)));\n",
       "    --sklearn-color-background: var(--sg-background-color, var(--theme-background, var(--jp-layout-color0, #111)));\n",
       "    --sklearn-color-border-box: var(--sg-text-color, var(--theme-code-foreground, var(--jp-content-font-color1, white)));\n",
       "    --sklearn-color-icon: #878787;\n",
       "  }\n",
       "}\n",
       "\n",
       "#sk-container-id-19 {\n",
       "  color: var(--sklearn-color-text);\n",
       "}\n",
       "\n",
       "#sk-container-id-19 pre {\n",
       "  padding: 0;\n",
       "}\n",
       "\n",
       "#sk-container-id-19 input.sk-hidden--visually {\n",
       "  border: 0;\n",
       "  clip: rect(1px 1px 1px 1px);\n",
       "  clip: rect(1px, 1px, 1px, 1px);\n",
       "  height: 1px;\n",
       "  margin: -1px;\n",
       "  overflow: hidden;\n",
       "  padding: 0;\n",
       "  position: absolute;\n",
       "  width: 1px;\n",
       "}\n",
       "\n",
       "#sk-container-id-19 div.sk-dashed-wrapped {\n",
       "  border: 1px dashed var(--sklearn-color-line);\n",
       "  margin: 0 0.4em 0.5em 0.4em;\n",
       "  box-sizing: border-box;\n",
       "  padding-bottom: 0.4em;\n",
       "  background-color: var(--sklearn-color-background);\n",
       "}\n",
       "\n",
       "#sk-container-id-19 div.sk-container {\n",
       "  /* jupyter's `normalize.less` sets `[hidden] { display: none; }`\n",
       "     but bootstrap.min.css set `[hidden] { display: none !important; }`\n",
       "     so we also need the `!important` here to be able to override the\n",
       "     default hidden behavior on the sphinx rendered scikit-learn.org.\n",
       "     See: https://github.com/scikit-learn/scikit-learn/issues/21755 */\n",
       "  display: inline-block !important;\n",
       "  position: relative;\n",
       "}\n",
       "\n",
       "#sk-container-id-19 div.sk-text-repr-fallback {\n",
       "  display: none;\n",
       "}\n",
       "\n",
       "div.sk-parallel-item,\n",
       "div.sk-serial,\n",
       "div.sk-item {\n",
       "  /* draw centered vertical line to link estimators */\n",
       "  background-image: linear-gradient(var(--sklearn-color-text-on-default-background), var(--sklearn-color-text-on-default-background));\n",
       "  background-size: 2px 100%;\n",
       "  background-repeat: no-repeat;\n",
       "  background-position: center center;\n",
       "}\n",
       "\n",
       "/* Parallel-specific style estimator block */\n",
       "\n",
       "#sk-container-id-19 div.sk-parallel-item::after {\n",
       "  content: \"\";\n",
       "  width: 100%;\n",
       "  border-bottom: 2px solid var(--sklearn-color-text-on-default-background);\n",
       "  flex-grow: 1;\n",
       "}\n",
       "\n",
       "#sk-container-id-19 div.sk-parallel {\n",
       "  display: flex;\n",
       "  align-items: stretch;\n",
       "  justify-content: center;\n",
       "  background-color: var(--sklearn-color-background);\n",
       "  position: relative;\n",
       "}\n",
       "\n",
       "#sk-container-id-19 div.sk-parallel-item {\n",
       "  display: flex;\n",
       "  flex-direction: column;\n",
       "}\n",
       "\n",
       "#sk-container-id-19 div.sk-parallel-item:first-child::after {\n",
       "  align-self: flex-end;\n",
       "  width: 50%;\n",
       "}\n",
       "\n",
       "#sk-container-id-19 div.sk-parallel-item:last-child::after {\n",
       "  align-self: flex-start;\n",
       "  width: 50%;\n",
       "}\n",
       "\n",
       "#sk-container-id-19 div.sk-parallel-item:only-child::after {\n",
       "  width: 0;\n",
       "}\n",
       "\n",
       "/* Serial-specific style estimator block */\n",
       "\n",
       "#sk-container-id-19 div.sk-serial {\n",
       "  display: flex;\n",
       "  flex-direction: column;\n",
       "  align-items: center;\n",
       "  background-color: var(--sklearn-color-background);\n",
       "  padding-right: 1em;\n",
       "  padding-left: 1em;\n",
       "}\n",
       "\n",
       "\n",
       "/* Toggleable style: style used for estimator/Pipeline/ColumnTransformer box that is\n",
       "clickable and can be expanded/collapsed.\n",
       "- Pipeline and ColumnTransformer use this feature and define the default style\n",
       "- Estimators will overwrite some part of the style using the `sk-estimator` class\n",
       "*/\n",
       "\n",
       "/* Pipeline and ColumnTransformer style (default) */\n",
       "\n",
       "#sk-container-id-19 div.sk-toggleable {\n",
       "  /* Default theme specific background. It is overwritten whether we have a\n",
       "  specific estimator or a Pipeline/ColumnTransformer */\n",
       "  background-color: var(--sklearn-color-background);\n",
       "}\n",
       "\n",
       "/* Toggleable label */\n",
       "#sk-container-id-19 label.sk-toggleable__label {\n",
       "  cursor: pointer;\n",
       "  display: flex;\n",
       "  width: 100%;\n",
       "  margin-bottom: 0;\n",
       "  padding: 0.5em;\n",
       "  box-sizing: border-box;\n",
       "  text-align: center;\n",
       "  align-items: start;\n",
       "  justify-content: space-between;\n",
       "  gap: 0.5em;\n",
       "}\n",
       "\n",
       "#sk-container-id-19 label.sk-toggleable__label .caption {\n",
       "  font-size: 0.6rem;\n",
       "  font-weight: lighter;\n",
       "  color: var(--sklearn-color-text-muted);\n",
       "}\n",
       "\n",
       "#sk-container-id-19 label.sk-toggleable__label-arrow:before {\n",
       "  /* Arrow on the left of the label */\n",
       "  content: \"▸\";\n",
       "  float: left;\n",
       "  margin-right: 0.25em;\n",
       "  color: var(--sklearn-color-icon);\n",
       "}\n",
       "\n",
       "#sk-container-id-19 label.sk-toggleable__label-arrow:hover:before {\n",
       "  color: var(--sklearn-color-text);\n",
       "}\n",
       "\n",
       "/* Toggleable content - dropdown */\n",
       "\n",
       "#sk-container-id-19 div.sk-toggleable__content {\n",
       "  max-height: 0;\n",
       "  max-width: 0;\n",
       "  overflow: hidden;\n",
       "  text-align: left;\n",
       "  /* unfitted */\n",
       "  background-color: var(--sklearn-color-unfitted-level-0);\n",
       "}\n",
       "\n",
       "#sk-container-id-19 div.sk-toggleable__content.fitted {\n",
       "  /* fitted */\n",
       "  background-color: var(--sklearn-color-fitted-level-0);\n",
       "}\n",
       "\n",
       "#sk-container-id-19 div.sk-toggleable__content pre {\n",
       "  margin: 0.2em;\n",
       "  border-radius: 0.25em;\n",
       "  color: var(--sklearn-color-text);\n",
       "  /* unfitted */\n",
       "  background-color: var(--sklearn-color-unfitted-level-0);\n",
       "}\n",
       "\n",
       "#sk-container-id-19 div.sk-toggleable__content.fitted pre {\n",
       "  /* unfitted */\n",
       "  background-color: var(--sklearn-color-fitted-level-0);\n",
       "}\n",
       "\n",
       "#sk-container-id-19 input.sk-toggleable__control:checked~div.sk-toggleable__content {\n",
       "  /* Expand drop-down */\n",
       "  max-height: 200px;\n",
       "  max-width: 100%;\n",
       "  overflow: auto;\n",
       "}\n",
       "\n",
       "#sk-container-id-19 input.sk-toggleable__control:checked~label.sk-toggleable__label-arrow:before {\n",
       "  content: \"▾\";\n",
       "}\n",
       "\n",
       "/* Pipeline/ColumnTransformer-specific style */\n",
       "\n",
       "#sk-container-id-19 div.sk-label input.sk-toggleable__control:checked~label.sk-toggleable__label {\n",
       "  color: var(--sklearn-color-text);\n",
       "  background-color: var(--sklearn-color-unfitted-level-2);\n",
       "}\n",
       "\n",
       "#sk-container-id-19 div.sk-label.fitted input.sk-toggleable__control:checked~label.sk-toggleable__label {\n",
       "  background-color: var(--sklearn-color-fitted-level-2);\n",
       "}\n",
       "\n",
       "/* Estimator-specific style */\n",
       "\n",
       "/* Colorize estimator box */\n",
       "#sk-container-id-19 div.sk-estimator input.sk-toggleable__control:checked~label.sk-toggleable__label {\n",
       "  /* unfitted */\n",
       "  background-color: var(--sklearn-color-unfitted-level-2);\n",
       "}\n",
       "\n",
       "#sk-container-id-19 div.sk-estimator.fitted input.sk-toggleable__control:checked~label.sk-toggleable__label {\n",
       "  /* fitted */\n",
       "  background-color: var(--sklearn-color-fitted-level-2);\n",
       "}\n",
       "\n",
       "#sk-container-id-19 div.sk-label label.sk-toggleable__label,\n",
       "#sk-container-id-19 div.sk-label label {\n",
       "  /* The background is the default theme color */\n",
       "  color: var(--sklearn-color-text-on-default-background);\n",
       "}\n",
       "\n",
       "/* On hover, darken the color of the background */\n",
       "#sk-container-id-19 div.sk-label:hover label.sk-toggleable__label {\n",
       "  color: var(--sklearn-color-text);\n",
       "  background-color: var(--sklearn-color-unfitted-level-2);\n",
       "}\n",
       "\n",
       "/* Label box, darken color on hover, fitted */\n",
       "#sk-container-id-19 div.sk-label.fitted:hover label.sk-toggleable__label.fitted {\n",
       "  color: var(--sklearn-color-text);\n",
       "  background-color: var(--sklearn-color-fitted-level-2);\n",
       "}\n",
       "\n",
       "/* Estimator label */\n",
       "\n",
       "#sk-container-id-19 div.sk-label label {\n",
       "  font-family: monospace;\n",
       "  font-weight: bold;\n",
       "  display: inline-block;\n",
       "  line-height: 1.2em;\n",
       "}\n",
       "\n",
       "#sk-container-id-19 div.sk-label-container {\n",
       "  text-align: center;\n",
       "}\n",
       "\n",
       "/* Estimator-specific */\n",
       "#sk-container-id-19 div.sk-estimator {\n",
       "  font-family: monospace;\n",
       "  border: 1px dotted var(--sklearn-color-border-box);\n",
       "  border-radius: 0.25em;\n",
       "  box-sizing: border-box;\n",
       "  margin-bottom: 0.5em;\n",
       "  /* unfitted */\n",
       "  background-color: var(--sklearn-color-unfitted-level-0);\n",
       "}\n",
       "\n",
       "#sk-container-id-19 div.sk-estimator.fitted {\n",
       "  /* fitted */\n",
       "  background-color: var(--sklearn-color-fitted-level-0);\n",
       "}\n",
       "\n",
       "/* on hover */\n",
       "#sk-container-id-19 div.sk-estimator:hover {\n",
       "  /* unfitted */\n",
       "  background-color: var(--sklearn-color-unfitted-level-2);\n",
       "}\n",
       "\n",
       "#sk-container-id-19 div.sk-estimator.fitted:hover {\n",
       "  /* fitted */\n",
       "  background-color: var(--sklearn-color-fitted-level-2);\n",
       "}\n",
       "\n",
       "/* Specification for estimator info (e.g. \"i\" and \"?\") */\n",
       "\n",
       "/* Common style for \"i\" and \"?\" */\n",
       "\n",
       ".sk-estimator-doc-link,\n",
       "a:link.sk-estimator-doc-link,\n",
       "a:visited.sk-estimator-doc-link {\n",
       "  float: right;\n",
       "  font-size: smaller;\n",
       "  line-height: 1em;\n",
       "  font-family: monospace;\n",
       "  background-color: var(--sklearn-color-background);\n",
       "  border-radius: 1em;\n",
       "  height: 1em;\n",
       "  width: 1em;\n",
       "  text-decoration: none !important;\n",
       "  margin-left: 0.5em;\n",
       "  text-align: center;\n",
       "  /* unfitted */\n",
       "  border: var(--sklearn-color-unfitted-level-1) 1pt solid;\n",
       "  color: var(--sklearn-color-unfitted-level-1);\n",
       "}\n",
       "\n",
       ".sk-estimator-doc-link.fitted,\n",
       "a:link.sk-estimator-doc-link.fitted,\n",
       "a:visited.sk-estimator-doc-link.fitted {\n",
       "  /* fitted */\n",
       "  border: var(--sklearn-color-fitted-level-1) 1pt solid;\n",
       "  color: var(--sklearn-color-fitted-level-1);\n",
       "}\n",
       "\n",
       "/* On hover */\n",
       "div.sk-estimator:hover .sk-estimator-doc-link:hover,\n",
       ".sk-estimator-doc-link:hover,\n",
       "div.sk-label-container:hover .sk-estimator-doc-link:hover,\n",
       ".sk-estimator-doc-link:hover {\n",
       "  /* unfitted */\n",
       "  background-color: var(--sklearn-color-unfitted-level-3);\n",
       "  color: var(--sklearn-color-background);\n",
       "  text-decoration: none;\n",
       "}\n",
       "\n",
       "div.sk-estimator.fitted:hover .sk-estimator-doc-link.fitted:hover,\n",
       ".sk-estimator-doc-link.fitted:hover,\n",
       "div.sk-label-container:hover .sk-estimator-doc-link.fitted:hover,\n",
       ".sk-estimator-doc-link.fitted:hover {\n",
       "  /* fitted */\n",
       "  background-color: var(--sklearn-color-fitted-level-3);\n",
       "  color: var(--sklearn-color-background);\n",
       "  text-decoration: none;\n",
       "}\n",
       "\n",
       "/* Span, style for the box shown on hovering the info icon */\n",
       ".sk-estimator-doc-link span {\n",
       "  display: none;\n",
       "  z-index: 9999;\n",
       "  position: relative;\n",
       "  font-weight: normal;\n",
       "  right: .2ex;\n",
       "  padding: .5ex;\n",
       "  margin: .5ex;\n",
       "  width: min-content;\n",
       "  min-width: 20ex;\n",
       "  max-width: 50ex;\n",
       "  color: var(--sklearn-color-text);\n",
       "  box-shadow: 2pt 2pt 4pt #999;\n",
       "  /* unfitted */\n",
       "  background: var(--sklearn-color-unfitted-level-0);\n",
       "  border: .5pt solid var(--sklearn-color-unfitted-level-3);\n",
       "}\n",
       "\n",
       ".sk-estimator-doc-link.fitted span {\n",
       "  /* fitted */\n",
       "  background: var(--sklearn-color-fitted-level-0);\n",
       "  border: var(--sklearn-color-fitted-level-3);\n",
       "}\n",
       "\n",
       ".sk-estimator-doc-link:hover span {\n",
       "  display: block;\n",
       "}\n",
       "\n",
       "/* \"?\"-specific style due to the `<a>` HTML tag */\n",
       "\n",
       "#sk-container-id-19 a.estimator_doc_link {\n",
       "  float: right;\n",
       "  font-size: 1rem;\n",
       "  line-height: 1em;\n",
       "  font-family: monospace;\n",
       "  background-color: var(--sklearn-color-background);\n",
       "  border-radius: 1rem;\n",
       "  height: 1rem;\n",
       "  width: 1rem;\n",
       "  text-decoration: none;\n",
       "  /* unfitted */\n",
       "  color: var(--sklearn-color-unfitted-level-1);\n",
       "  border: var(--sklearn-color-unfitted-level-1) 1pt solid;\n",
       "}\n",
       "\n",
       "#sk-container-id-19 a.estimator_doc_link.fitted {\n",
       "  /* fitted */\n",
       "  border: var(--sklearn-color-fitted-level-1) 1pt solid;\n",
       "  color: var(--sklearn-color-fitted-level-1);\n",
       "}\n",
       "\n",
       "/* On hover */\n",
       "#sk-container-id-19 a.estimator_doc_link:hover {\n",
       "  /* unfitted */\n",
       "  background-color: var(--sklearn-color-unfitted-level-3);\n",
       "  color: var(--sklearn-color-background);\n",
       "  text-decoration: none;\n",
       "}\n",
       "\n",
       "#sk-container-id-19 a.estimator_doc_link.fitted:hover {\n",
       "  /* fitted */\n",
       "  background-color: var(--sklearn-color-fitted-level-3);\n",
       "}\n",
       "</style><div id=\"sk-container-id-19\" class=\"sk-top-container\"><div class=\"sk-text-repr-fallback\"><pre>LinearRegression()</pre><b>In a Jupyter environment, please rerun this cell to show the HTML representation or trust the notebook. <br />On GitHub, the HTML representation is unable to render, please try loading this page with nbviewer.org.</b></div><div class=\"sk-container\" hidden><div class=\"sk-item\"><div class=\"sk-estimator fitted sk-toggleable\"><input class=\"sk-toggleable__control sk-hidden--visually\" id=\"sk-estimator-id-19\" type=\"checkbox\" checked><label for=\"sk-estimator-id-19\" class=\"sk-toggleable__label fitted sk-toggleable__label-arrow\"><div><div>LinearRegression</div></div><div><a class=\"sk-estimator-doc-link fitted\" rel=\"noreferrer\" target=\"_blank\" href=\"https://scikit-learn.org/1.6/modules/generated/sklearn.linear_model.LinearRegression.html\">?<span>Documentation for LinearRegression</span></a><span class=\"sk-estimator-doc-link fitted\">i<span>Fitted</span></span></div></label><div class=\"sk-toggleable__content fitted\"><pre>LinearRegression()</pre></div> </div></div></div></div>"
      ],
      "text/plain": [
       "LinearRegression()"
      ]
     },
     "execution_count": 657,
     "metadata": {},
     "output_type": "execute_result"
    }
   ],
   "source": [
    "from sklearn.linear_model import LinearRegression\n",
    "\n",
    "linr = LinearRegression()\n",
    "linr.fit(X_train, y_train)"
   ]
  },
  {
   "cell_type": "markdown",
   "metadata": {},
   "source": [
    "### Model testing and evaluation"
   ]
  },
  {
   "cell_type": "code",
   "execution_count": 658,
   "metadata": {},
   "outputs": [
    {
     "name": "stdout",
     "output_type": "stream",
     "text": [
      "Training Set: 0.8711852695618005\n",
      "Test Set: 0.8703945498827784\n"
     ]
    },
    {
     "data": {
      "image/png": "[encoded data removed]",
      "text/plain": [
       "<Figure size 1000x700 with 2 Axes>"
      ]
     },
     "metadata": {},
     "output_type": "display_data"
    }
   ],
   "source": [
    "from sklearn.metrics import confusion_matrix\n",
    "\n",
    "#Now test the model\n",
    "y_pred = linr.predict(X_test)\n",
    "print('Training Set:', linr.score(X_train,y_train))\n",
    "print('Test Set:', linr.score(X_test,y_test))\n",
    "\n",
    "# Convert continuous predictions to binary predictions using a threshold, otherwise the we would get a 3x3 matrix\n",
    "# We are using 0.5 as the threshold, but it can be higher or lower\n",
    "y_pred_binary = (y_pred > 0.5).astype(int)\n",
    "\n",
    "# Calculate confusion matrix to evaluate the model performance and see how many injuries were predicted\n",
    "cm = confusion_matrix(y_test, y_pred_binary)\n",
    "\n",
    "plt.figure(figsize=(10, 7))\n",
    "sns.heatmap(cm, annot=True, fmt='d', cmap='Blues', xticklabels=['No Injury', 'Injury'], yticklabels=['No Injury', 'Injury'])\n",
    "plt.xlabel('Predicted')\n",
    "plt.ylabel('True')\n",
    "plt.title('Confusion Matrix')\n",
    "plt.savefig('../visualizations/confusion_matrix.png')\n",
    "plt.show()\n"
   ]
  },
  {
   "cell_type": "code",
   "execution_count": 659,
   "metadata": {},
   "outputs": [
    {
     "name": "stdout",
     "output_type": "stream",
     "text": [
      "Accuracy: 0.9999442263851028\n",
      "Precision: 1.0\n",
      "Recall: 0.9996156433169981\n",
      "F1 Score: 0.9998077847188852\n"
     ]
    }
   ],
   "source": [
    "# now that we have the binary predictions we can calculate the accuracy, precision, recall and f1 score\n",
    "from sklearn.metrics import accuracy_score, precision_score, recall_score, f1_score\n",
    "accuracy = accuracy_score(y_test, y_pred_binary)\n",
    "precision = precision_score(y_test, y_pred_binary)\n",
    "recall = recall_score(y_test, y_pred_binary)\n",
    "f1 = f1_score(y_test, y_pred_binary)\n",
    "\n",
    "print(f'Accuracy: {accuracy}')\n",
    "print(f'Precision: {precision}')\n",
    "print(f'Recall: {recall}')\n",
    "print(f'F1 Score: {f1}')"
   ]
  },
  {
   "cell_type": "code",
   "execution_count": 660,
   "metadata": {},
   "outputs": [
    {
     "name": "stdout",
     "output_type": "stream",
     "text": [
      "Coefficients:\n",
      "down: 0.2820\n",
      "div_game: 0.0634\n",
      "yards_gained: 0.0475\n",
      "yac_epa: -0.0425\n",
      "epa: -0.0209\n",
      "qtr: 0.0999\n",
      "temp: 0.0886\n",
      "run_location: 0.0570\n",
      "wind: 0.0360\n",
      "first_down_rush: 0.0000\n",
      "weekday: 0.0076\n",
      "first_down_pass: -0.0000\n",
      "air_yards: -0.0140\n",
      "pass_touchdown: 0.0121\n",
      "air_epa: -0.0247\n",
      "rush_touchdown: -0.0063\n",
      "rush_attempt: 0.0007\n",
      "passing_yards: 0.0155\n",
      "\n",
      "Intercept: 0.1448\n"
     ]
    }
   ],
   "source": [
    "# Access the coefficients\n",
    "coefficients = linr.coef_\n",
    "\n",
    "# Access the intercept\n",
    "intercept = linr.intercept_\n",
    "\n",
    "# Print the coefficients along with their corresponding feature names\n",
    "print(\"Coefficients:\")\n",
    "for feature, coef in zip(X_train.columns, coefficients):\n",
    "    print(f\"{feature}: {coef:.4f}\")\n",
    "\n",
    "# Print the intercept\n",
    "print(f\"\\nIntercept: {intercept:.4f}\")"
   ]
  }
 ],
 "metadata": {
  "kernelspec": {
   "display_name": ".venv",
   "language": "python",
   "name": "python3"
  },
  "language_info": {
   "codemirror_mode": {
    "name": "ipython",
    "version": 3
   },
   "file_extension": ".py",
   "mimetype": "text/x-python",
   "name": "python",
   "nbconvert_exporter": "python",
   "pygments_lexer": "ipython3",
   "version": "3.13.1"
  }
 },
 "nbformat": 4,
 "nbformat_minor": 2
}
