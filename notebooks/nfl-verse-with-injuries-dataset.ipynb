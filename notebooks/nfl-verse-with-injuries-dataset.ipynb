{
 "cells": [
  {
   "cell_type": "markdown",
   "metadata": {},
   "source": [
    "# NFL Verse Analysis\n",
    "This notebook was created to analyze injuries on the NFL Verse datasets. Multiple datasets were used to analyze the injuries of players in the NFL. The datasets include:\n",
    "- injuries data\n",
    "- play-by-play data\n",
    "- schedule data"
   ]
  },
  {
   "cell_type": "markdown",
   "metadata": {},
   "source": [
    "This first section is amied to load the datasets for the first time from the NFL Verse API. We used the nflverse python package to load the datasets."
   ]
  },
  {
   "cell_type": "code",
   "execution_count": 196,
   "metadata": {},
   "outputs": [],
   "source": [
    "import pandas as pd\n",
    "import numpy as np\n",
    "import matplotlib.pyplot as plt\n",
    "import nfl_data_py as nfl\n",
    "import seaborn as sns"
   ]
  },
  {
   "cell_type": "code",
   "execution_count": 197,
   "metadata": {},
   "outputs": [],
   "source": [
    "# # Run only once to download the data then commment out.\n",
    "# years = range(2010, 2024)\n",
    "\n",
    "# # Get the injury data\n",
    "# injuries = nfl.import_injuries(years)"
   ]
  },
  {
   "cell_type": "code",
   "execution_count": 198,
   "metadata": {},
   "outputs": [],
   "source": [
    "# injuries.head()"
   ]
  },
  {
   "cell_type": "markdown",
   "metadata": {},
   "source": [
    "Get more datatets to combine with injuries."
   ]
  },
  {
   "cell_type": "code",
   "execution_count": 199,
   "metadata": {},
   "outputs": [],
   "source": [
    "# # Get the play-by-play data\n",
    "# pbp = nfl.import_pbp_data(years, downcast=True, cache=False, alt_path=None)\n",
    "\n",
    "# # Schedule\n",
    "# s = nfl.import_schedules(years)"
   ]
  },
  {
   "cell_type": "markdown",
   "metadata": {},
   "source": [
    "Store the data for future reference, and not have to re-download it."
   ]
  },
  {
   "cell_type": "code",
   "execution_count": 200,
   "metadata": {},
   "outputs": [],
   "source": [
    "# injuries.to_csv('../data/raw/NFL_verse_injuries.csv', index=False)\n",
    "# pbp.to_csv('../data/raw/NFL_verse_pbp.csv', index=False)\n",
    "# s.to_csv('../data/raw/NFL_verse_schedule.csv', index=False)"
   ]
  },
  {
   "cell_type": "markdown",
   "metadata": {},
   "source": [
    "RUN ONLY IF DATA ALREADY EXISTS"
   ]
  },
  {
   "cell_type": "code",
   "execution_count": 201,
   "metadata": {},
   "outputs": [
    {
     "name": "stderr",
     "output_type": "stream",
     "text": [
      "/var/folders/fv/6ssdmf5n3cs0c8kp8swwnx280000gn/T/ipykernel_55120/1951509686.py:2: DtypeWarning: Columns (45,179,180,182,183,189,190,193,194,195,196,197,198,203,204,205,206,209,210,213,214,218,219,220,222,224,226,233,234,235,236,237,238,243,244,245,248,249,253,254,255,260,262,263,266,267,268,269,277,283,284,302,332,372,373,374,375,377,379,380,381,386,387,388,389) have mixed types. Specify dtype option on import or set low_memory=False.\n",
      "  pbp = pd.read_csv('../data/raw/NFL_verse_pbp_data.csv')\n"
     ]
    }
   ],
   "source": [
    "injuries = pd.read_csv('../data/raw/NFL_verse_injuries.csv')\n",
    "pbp = pd.read_csv('../data/raw/NFL_verse_pbp_data.csv')\n",
    "s = pd.read_csv('../data/raw/NFL_verse_schedules.csv')"
   ]
  },
  {
   "cell_type": "code",
   "execution_count": 202,
   "metadata": {},
   "outputs": [
    {
     "name": "stdout",
     "output_type": "stream",
     "text": [
      "Injuries has 79863 rows and 16 columns\n",
      "PBP has 672072 rows and 390 columns\n",
      "Schedule has 3793 rows and 46 columns\n"
     ]
    }
   ],
   "source": [
    "print(f\"Injuries has {injuries.shape[0]} rows and {injuries.shape[1]} columns\")\n",
    "print(f\"PBP has {pbp.shape[0]} rows and {pbp.shape[1]} columns\")\n",
    "print(f\"Schedule has {s.shape[0]} rows and {s.shape[1]} columns\")"
   ]
  },
  {
   "cell_type": "markdown",
   "metadata": {},
   "source": [
    "Create a dict of schedule to create the game_id in the injuries data."
   ]
  },
  {
   "cell_type": "code",
   "execution_count": 203,
   "metadata": {},
   "outputs": [
    {
     "data": {
      "text/html": [
       "<div>\n",
       "<style scoped>\n",
       "    .dataframe tbody tr th:only-of-type {\n",
       "        vertical-align: middle;\n",
       "    }\n",
       "\n",
       "    .dataframe tbody tr th {\n",
       "        vertical-align: top;\n",
       "    }\n",
       "\n",
       "    .dataframe thead th {\n",
       "        text-align: right;\n",
       "    }\n",
       "</style>\n",
       "<table border=\"1\" class=\"dataframe\">\n",
       "  <thead>\n",
       "    <tr style=\"text-align: right;\">\n",
       "      <th></th>\n",
       "      <th>season</th>\n",
       "      <th>week</th>\n",
       "      <th>home_team</th>\n",
       "      <th>away_team</th>\n",
       "      <th>game_id</th>\n",
       "    </tr>\n",
       "  </thead>\n",
       "  <tbody>\n",
       "    <tr>\n",
       "      <th>0</th>\n",
       "      <td>2010</td>\n",
       "      <td>1</td>\n",
       "      <td>NO</td>\n",
       "      <td>MIN</td>\n",
       "      <td>2010_01_MIN_NO</td>\n",
       "    </tr>\n",
       "    <tr>\n",
       "      <th>1</th>\n",
       "      <td>2010</td>\n",
       "      <td>1</td>\n",
       "      <td>BUF</td>\n",
       "      <td>MIA</td>\n",
       "      <td>2010_01_MIA_BUF</td>\n",
       "    </tr>\n",
       "    <tr>\n",
       "      <th>2</th>\n",
       "      <td>2010</td>\n",
       "      <td>1</td>\n",
       "      <td>CHI</td>\n",
       "      <td>DET</td>\n",
       "      <td>2010_01_DET_CHI</td>\n",
       "    </tr>\n",
       "    <tr>\n",
       "      <th>3</th>\n",
       "      <td>2010</td>\n",
       "      <td>1</td>\n",
       "      <td>HOU</td>\n",
       "      <td>IND</td>\n",
       "      <td>2010_01_IND_HOU</td>\n",
       "    </tr>\n",
       "    <tr>\n",
       "      <th>4</th>\n",
       "      <td>2010</td>\n",
       "      <td>1</td>\n",
       "      <td>JAX</td>\n",
       "      <td>DEN</td>\n",
       "      <td>2010_01_DEN_JAX</td>\n",
       "    </tr>\n",
       "  </tbody>\n",
       "</table>\n",
       "</div>"
      ],
      "text/plain": [
       "   season  week home_team away_team          game_id\n",
       "0    2010     1        NO       MIN   2010_01_MIN_NO\n",
       "1    2010     1       BUF       MIA  2010_01_MIA_BUF\n",
       "2    2010     1       CHI       DET  2010_01_DET_CHI\n",
       "3    2010     1       HOU       IND  2010_01_IND_HOU\n",
       "4    2010     1       JAX       DEN  2010_01_DEN_JAX"
      ]
     },
     "execution_count": 203,
     "metadata": {},
     "output_type": "execute_result"
    }
   ],
   "source": [
    "s[['season', 'week', 'home_team', 'away_team', 'game_id']].head()"
   ]
  },
  {
   "cell_type": "markdown",
   "metadata": {},
   "source": [
    "Run only once to get the game_id for each injury"
   ]
  },
  {
   "cell_type": "code",
   "execution_count": 204,
   "metadata": {},
   "outputs": [],
   "source": [
    "# # Create a dict of schedule to create the game_id in the injuries data, get the year, week, home and away team\n",
    "# schedule_dict = {}\n",
    "\n",
    "# for index, row in s.iterrows():\n",
    "#   schedule_dict[row['game_id']] = {\n",
    "#     'season': row['season'],\n",
    "#     'week': row['week'],\n",
    "#     'home_team': row['home_team'],\n",
    "#     'away_team': row['away_team']\n",
    "#   }\n",
    "\n",
    "# # The injury data does not have game_id, so we need to create it using the schedule data\n",
    "# # It only has season, week, and the team that the player played for\n",
    "# injuries['game_id'] = 'unknown'  # Initialize game_id column\n",
    "\n",
    "# for index, row in injuries.iterrows():\n",
    "#   for game_id, game_info in schedule_dict.items():\n",
    "#     if (game_info['season'] == row['season'] and\n",
    "#       game_info['week'] == row['week'] and\n",
    "#       (game_info['home_team'] == row['team'] or game_info['away_team'] == row['team'])):\n",
    "#       row['game_id'] = game_id\n",
    "#       break  # Stop searching once a match is found\n",
    "#   injuries.loc[index, 'game_id'] = row['game_id']\n"
   ]
  },
  {
   "cell_type": "code",
   "execution_count": 205,
   "metadata": {},
   "outputs": [],
   "source": [
    "# injuries.to_csv('../data/processed/NFL_verse_injuries_with_game_id.csv', index=False)"
   ]
  },
  {
   "cell_type": "markdown",
   "metadata": {},
   "source": [
    "ONLY AFTER RUNNING THE ABOVE CODE ONCE"
   ]
  },
  {
   "cell_type": "code",
   "execution_count": 206,
   "metadata": {},
   "outputs": [],
   "source": [
    "injuries = pd.read_csv('../data/processed/NFL_verse_injuries_with_game_id.csv', low_memory=False)"
   ]
  },
  {
   "cell_type": "markdown",
   "metadata": {},
   "source": [
    "## Cleaning the data"
   ]
  },
  {
   "cell_type": "markdown",
   "metadata": {},
   "source": [
    "### Clean the injuries data"
   ]
  },
  {
   "cell_type": "markdown",
   "metadata": {},
   "source": [
    "Rename columns and select only the columns we need."
   ]
  },
  {
   "cell_type": "code",
   "execution_count": 207,
   "metadata": {},
   "outputs": [
    {
     "data": {
      "text/plain": [
       "79863"
      ]
     },
     "execution_count": 207,
     "metadata": {},
     "output_type": "execute_result"
    }
   ],
   "source": [
    "injuries_renamed = injuries.rename(columns={\n",
    "    'gsis_id': 'player_id',\n",
    "    'report_primary_injury': 'injury_body_part',\n",
    "    'report_status': 'severity'\n",
    "})[['game_id', 'player_id', 'injury_body_part', 'severity', 'position']]\n",
    "\n",
    "injuries_renamed['injury_body_part'] = injuries_renamed['injury_body_part'].str.lower()\n",
    "len(injuries_renamed)"
   ]
  },
  {
   "cell_type": "code",
   "execution_count": 208,
   "metadata": {},
   "outputs": [
    {
     "data": {
      "text/html": [
       "<div>\n",
       "<style scoped>\n",
       "    .dataframe tbody tr th:only-of-type {\n",
       "        vertical-align: middle;\n",
       "    }\n",
       "\n",
       "    .dataframe tbody tr th {\n",
       "        vertical-align: top;\n",
       "    }\n",
       "\n",
       "    .dataframe thead th {\n",
       "        text-align: right;\n",
       "    }\n",
       "</style>\n",
       "<table border=\"1\" class=\"dataframe\">\n",
       "  <thead>\n",
       "    <tr style=\"text-align: right;\">\n",
       "      <th></th>\n",
       "      <th>game_id</th>\n",
       "      <th>player_id</th>\n",
       "      <th>injury_body_part</th>\n",
       "      <th>severity</th>\n",
       "      <th>position</th>\n",
       "    </tr>\n",
       "  </thead>\n",
       "  <tbody>\n",
       "    <tr>\n",
       "      <th>0</th>\n",
       "      <td>2010_01_ARI_STL</td>\n",
       "      <td>00-0013126</td>\n",
       "      <td>back</td>\n",
       "      <td>Probable</td>\n",
       "      <td>LB</td>\n",
       "    </tr>\n",
       "    <tr>\n",
       "      <th>1</th>\n",
       "      <td>2010_01_ARI_STL</td>\n",
       "      <td>00-0022288</td>\n",
       "      <td>toe</td>\n",
       "      <td>Questionable</td>\n",
       "      <td>RB</td>\n",
       "    </tr>\n",
       "    <tr>\n",
       "      <th>2</th>\n",
       "      <td>2010_01_ARI_STL</td>\n",
       "      <td>00-0022921</td>\n",
       "      <td>knee</td>\n",
       "      <td>Probable</td>\n",
       "      <td>WR</td>\n",
       "    </tr>\n",
       "    <tr>\n",
       "      <th>3</th>\n",
       "      <td>2010_01_ARI_STL</td>\n",
       "      <td>00-0023053</td>\n",
       "      <td>knee</td>\n",
       "      <td>Probable</td>\n",
       "      <td>S</td>\n",
       "    </tr>\n",
       "    <tr>\n",
       "      <th>4</th>\n",
       "      <td>2010_01_ARI_STL</td>\n",
       "      <td>00-0025602</td>\n",
       "      <td>knee</td>\n",
       "      <td>Probable</td>\n",
       "      <td>TE</td>\n",
       "    </tr>\n",
       "  </tbody>\n",
       "</table>\n",
       "</div>"
      ],
      "text/plain": [
       "           game_id   player_id injury_body_part      severity position\n",
       "0  2010_01_ARI_STL  00-0013126             back      Probable       LB\n",
       "1  2010_01_ARI_STL  00-0022288              toe  Questionable       RB\n",
       "2  2010_01_ARI_STL  00-0022921             knee      Probable       WR\n",
       "3  2010_01_ARI_STL  00-0023053             knee      Probable        S\n",
       "4  2010_01_ARI_STL  00-0025602             knee      Probable       TE"
      ]
     },
     "execution_count": 208,
     "metadata": {},
     "output_type": "execute_result"
    }
   ],
   "source": [
    "# If there are more than 2 injuries for the same player in the same game, we will keep the first one\n",
    "injuries_renamed_no_dups = injuries_renamed.groupby(['game_id', 'player_id']).first().reset_index()\n",
    "injuries_renamed_no_dups.head()"
   ]
  },
  {
   "cell_type": "code",
   "execution_count": 209,
   "metadata": {},
   "outputs": [
    {
     "name": "stdout",
     "output_type": "stream",
     "text": [
      "injury_body_part\n",
      "knee          9214\n",
      "ankle         7400\n",
      "hamstring     5462\n",
      "shoulder      3768\n",
      "concussion    2606\n",
      "foot          2549\n",
      "groin         2297\n",
      "back          2100\n",
      "calf          1635\n",
      "illness       1544\n",
      "Name: count, dtype: int64\n",
      "injury_body_part\n",
      "knee          9556\n",
      "ankle         7673\n",
      "hamstring     5665\n",
      "shoulder      3864\n",
      "concussion    2693\n",
      "foot          2622\n",
      "groin         2390\n",
      "back          2147\n",
      "calf          1703\n",
      "hip           1426\n",
      "Name: count, dtype: int64\n"
     ]
    }
   ],
   "source": [
    "injuries_value_count = injuries_renamed_no_dups['injury_body_part'].value_counts()\n",
    "print(injuries_value_count.head(10))\n",
    "\n",
    "# Drop where injuries is illness or contains illness\n",
    "injuries_renamed_no_illness = injuries_renamed[~injuries_renamed['injury_body_part'].str.contains('illness', na=False)]\n",
    "injuries_value_count_no_illness = injuries_renamed_no_illness['injury_body_part'].value_counts()\n",
    "print(injuries_value_count_no_illness.head(10))"
   ]
  },
  {
   "cell_type": "code",
   "execution_count": 210,
   "metadata": {},
   "outputs": [
    {
     "data": {
      "text/plain": [
       "array(['knee', 'toe', 'shoulder', 'back', 'hip', 'foot', 'head',\n",
       "       'hamstring', 'chest', 'groin', 'ankle', nan, 'forearm', 'finger',\n",
       "       'abdomen', 'calf', 'eye', 'thumb', 'neck', 'thigh',\n",
       "       'right shoulder', 'kidney', 'not injury related', 'elbow',\n",
       "       'achilles', 'lacerated kidney', 'fibula', 'concussion',\n",
       "       'right thumb', 'hand', 'rib', 'biceps', 'wrist', 'oblique',\n",
       "       'left hamstring', 'quadricep', 'stinger', '(migraines)', 'heel',\n",
       "       'ribs', 'arch', 'right elbow', 'shin', 'migraines', 'pelvis',\n",
       "       'collarbone', 'right hip', 'glute', 'right calf', 'tibia',\n",
       "       'left calf', 'nose', 'left ankle', 'right hamstring',\n",
       "       'right groin', 'right finger', 'left shoulder', 'left forearm',\n",
       "       'triceps', 'qblique', 'quad', 'right ankle', 'pectoral',\n",
       "       'right knee', 'arm', 'left wrist', 'lower leg', 'lf. calf',\n",
       "       'infection', 'knees', 'l. arm', 'tricep', 'flu', 'right foot',\n",
       "       'right wrist', 'feet', 'left foot', 'right hand', 'left finger',\n",
       "       'low back', 'left thumb', 'right thigh', 'leg', 'hips',\n",
       "       'left thigh', 'right quadricep', 'left knee', 'stomach',\n",
       "       'left hand', 'shoulders', 'heat cramps', 'left groin', 'rt. thumb',\n",
       "       'jaw', 'right biceps', 'facial lacerations', 'ear', 'cardiac',\n",
       "       'chest/finger', 'teeth', 'chest/rib/finger', 'tailbone', 'throat',\n",
       "       'abdominal', 'lung contusion', 'other', 'arrhythmia', 'lung',\n",
       "       'chin', 'toes', 'upper arm', 'foot/toe/back', 'ribs/ankle/toe',\n",
       "       'left hip', 'quadriceps', 'tooth', 'hernia', 'rib cage', 'spleen',\n",
       "       'right upper arm', 'buttocks', 'shortness of breath',\n",
       "       'shoulder, finger', 'facial laceration', 'right shin', 'migraine',\n",
       "       'solar plexus', 'knee, hamstring', 'other-stinger', 'both knees',\n",
       "       'left shoulder, left elbow', 'groin, knee, ankle',\n",
       "       'non football injury', 'bicep', 'core muscle', 'lumbar',\n",
       "       'core muscle injury', 'mouth', 'right collarbone', 'trapezius',\n",
       "       'sternoclavicular', 'ankles', 'core', 'hip flexor', 'liver',\n",
       "       'hamstrings', 'not injury related - personal matter', 'adductor',\n",
       "       'hands', 'not injury related - discipline',\n",
       "       'not injury related - resting player', 'covid protocol',\n",
       "       'covid protocols', 'reserve/covid activation', 'covid/reserve',\n",
       "       'covid ramp up', 'knee/shoulder/toe', 'appendicitis', 'appendix',\n",
       "       'ankle, knee, elbow', 'not injury related - did not travel',\n",
       "       'oblique ', 'toe, pec, knee, hip', 'not injury related - other',\n",
       "       'back, ankle, knee', 'face', 'not injury related - team decision',\n",
       "       'not injury related - returning from suspension', 'foot/wrist/hip',\n",
       "       'inactive', 'not injury related - travel',\n",
       "       'returning from suspension', 'left quadricep', 'coaching',\n",
       "       \"coach's decision\", 'gameday concussion protocol evaluation',\n",
       "       'player was ill this morning. fully expected to play. no game status. ',\n",
       "       'trent sherfield sr. did not travel with the team today for personal reasons. he is traveling separately and is expected to be available for sunday’s game.',\n",
       "       'personal matter',\n",
       "       'raym, andrew has cleared concussion protocol and does not have a game status. ',\n",
       "       '-- ', 'ankle [not injury related - personal, thursday only]',\n",
       "       'right forearm', 'coaching decision ',\n",
       "       \"not injury related - coach's decision\"], dtype=object)"
      ]
     },
     "execution_count": 210,
     "metadata": {},
     "output_type": "execute_result"
    }
   ],
   "source": [
    "# Get a dict of injury body parts\n",
    "injuries_renamed_no_illness['injury_body_part'].unique()"
   ]
  },
  {
   "cell_type": "code",
   "execution_count": 211,
   "metadata": {},
   "outputs": [
    {
     "data": {
      "text/plain": [
       "array(['knee', 'toe', 'shoulder', 'back', 'hip', 'foot', 'head',\n",
       "       'hamstring', 'chest', 'groin', 'ankle', nan, 'forearm', 'finger',\n",
       "       'abdomen', 'calf', 'eye', 'thumb', 'neck', 'thigh',\n",
       "       'right shoulder', 'kidney', 'elbow', 'lacerated kidney', 'fibula',\n",
       "       'concussion', 'right thumb', 'hand', 'rib', 'biceps', 'wrist',\n",
       "       'oblique', 'left hamstring', 'quadricep', 'heel', 'ribs', 'arch',\n",
       "       'right elbow', 'shin', 'pelvis', 'collarbone', 'right hip',\n",
       "       'glute', 'right calf', 'tibia', 'left calf', 'nose', 'left ankle',\n",
       "       'right hamstring', 'right groin', 'right finger', 'left shoulder',\n",
       "       'left forearm', 'triceps', 'qblique', 'quad', 'right ankle',\n",
       "       'pectoral', 'right knee', 'arm', 'left wrist', 'lower leg',\n",
       "       'lf. calf', 'knees', 'l. arm', 'tricep', 'right foot',\n",
       "       'right wrist', 'feet', 'left foot', 'right hand', 'left finger',\n",
       "       'low back', 'left thumb', 'right thigh', 'leg', 'hips',\n",
       "       'left thigh', 'right quadricep', 'left knee', 'stomach',\n",
       "       'left hand', 'shoulders', 'heat cramps', 'left groin', 'rt. thumb',\n",
       "       'jaw', 'right biceps', 'facial lacerations', 'ear', 'cardiac',\n",
       "       'teeth', 'tailbone', 'throat', 'abdominal', 'lung contusion',\n",
       "       'arrhythmia', 'lung', 'chin', 'toes', 'upper arm', 'left hip',\n",
       "       'quadriceps', 'tooth', 'rib cage', 'right upper arm', 'buttocks',\n",
       "       'facial laceration', 'right shin', 'solar plexus', 'both knees',\n",
       "       'bicep', 'core muscle', 'lumbar', 'core muscle injury', 'mouth',\n",
       "       'right collarbone', 'trapezius', 'sternoclavicular', 'ankles',\n",
       "       'core', 'hip flexor', 'hamstrings', 'adductor', 'hands',\n",
       "       'oblique ', 'face', 'left quadricep', 'right forearm'],\n",
       "      dtype=object)"
      ]
     },
     "execution_count": 211,
     "metadata": {},
     "output_type": "execute_result"
    }
   ],
   "source": [
    "contains_to_drop = ['not injur', 'returning', 'protocol', 'personal', 'coach', '-', '/', 'ill', ',', 'inactive', 'football', 'covid', 'migraine', 'infection', 'breath', 'append', 'other', 'liver', 'flu', 'stinger', 'spleen', 'hernia']\n",
    "\n",
    "# Drop the values that are in the list\n",
    "for value in contains_to_drop:\n",
    "    injuries_renamed_no_illness = injuries_renamed_no_illness[~injuries_renamed_no_illness['injury_body_part'].str.contains(value, na=False)]\n",
    "\n",
    "injuries_renamed_no_illness['injury_body_part'].unique()"
   ]
  },
  {
   "cell_type": "code",
   "execution_count": 212,
   "metadata": {},
   "outputs": [
    {
     "data": {
      "text/plain": [
       "array(['knee', 'toe', 'shoulder', 'back', 'hip', 'foot', 'head',\n",
       "       'hamstring', 'chest', 'groin', 'ankle', 'unknown', 'forearm',\n",
       "       'finger', 'abdomen', 'calf', 'eye', 'thumb', 'neck', 'thigh',\n",
       "       'kidney', 'elbow', 'fibula', 'concussion', 'hand', 'ribs',\n",
       "       'biceps', 'wrist', 'oblique', 'quadricep', 'heel', 'arch', 'shin',\n",
       "       'pelvis', 'collarbone', 'glute', 'tibia', 'nose', 'triceps',\n",
       "       'quad', 'arm', 'lower leg', 'lower back', 'leg', 'stomach', 'jaw',\n",
       "       'face', 'ear', 'cardiac', 'tooth', 'throat', 'lung', 'chin',\n",
       "       'toes', 'rib', 'core', 'mouth', 'adductor'], dtype=object)"
      ]
     },
     "execution_count": 212,
     "metadata": {},
     "output_type": "execute_result"
    }
   ],
   "source": [
    "# Create a mapping dict for the injury body parts\n",
    "injury_mapping = {\n",
    "    'right shoulder': 'shoulder', 'left shoulder': 'shoulder', 'shoulders': 'shoulder',\n",
    "    'right thumb': 'thumb', 'left thumb': 'thumb',\n",
    "    'right hamstring': 'hamstring', 'left hamstring': 'hamstring', 'hamstrings': 'hamstring',\n",
    "    'right groin': 'groin', 'left groin': 'groin',\n",
    "    'right knee': 'knee', 'left knee': 'knee', 'knees': 'knee', 'both knees': 'knee',\n",
    "    'right ankle': 'ankle', 'left ankle': 'ankle', 'ankles': 'ankle',\n",
    "    'right foot': 'foot', 'left foot': 'foot', 'feet': 'foot',\n",
    "    'right wrist': 'wrist', 'left wrist': 'wrist',\n",
    "    'right hand': 'hand', 'left hand': 'hand', 'hands': 'hand',\n",
    "    'right finger': 'finger', 'left finger': 'finger',\n",
    "    'right elbow': 'elbow', 'left elbow': 'elbow',\n",
    "    'right forearm': 'forearm', 'left forearm': 'forearm',\n",
    "    'right calf': 'calf', 'left calf': 'calf', 'lf. calf': 'calf',\n",
    "    'right quadricep': 'quadricep', 'left quadricep': 'quadricep', 'quadriceps': 'quadricep',\n",
    "    'right thigh': 'thigh', 'left thigh': 'thigh',\n",
    "    'right shin': 'shin',\n",
    "    'right collarbone': 'collarbone',\n",
    "    'right biceps': 'biceps', 'bicep': 'biceps',\n",
    "    'tricep': 'triceps',\n",
    "    'oblique ': 'oblique', 'qblique': 'oblique',\n",
    "    'pectoral': 'chest',\n",
    "    'abdominal': 'abdomen',\n",
    "    'core muscle': 'core', 'core muscle injury': 'core',\n",
    "    'rib cage': 'rib',\n",
    "    'rib': 'ribs',\n",
    "    'lumbar': 'lower back', 'low back': 'lower back',\n",
    "    'heat cramps': 'unknown',\n",
    "    'facial laceration': 'face', 'facial lacerations': 'face',\n",
    "    'teeth': 'tooth',\n",
    "    'lung contusion': 'lung',\n",
    "    'arrhythmia': 'cardiac',\n",
    "    'sternoclavicular': 'collarbone',\n",
    "    'hip flexor': 'hip', 'left hip': 'hip', 'right hip':'hip', 'hips': 'hip', 'buttocks': 'hip',\n",
    "    'solar plexus': 'abdomen',\n",
    "    'tailbone': 'lower back',\n",
    "    'trapezius': 'shoulder',\n",
    "    'lacerated kidney': 'kidney',\n",
    "    'rt. thumb': 'thumb',\n",
    "    'l. arm': 'arm',\n",
    "    'lacerated kidney': 'kidney',\n",
    "    'lower back': 'back',\n",
    "    'right upper arm': 'arm', 'upper arm': 'arm'\n",
    "}\n",
    "\n",
    "# Apply cleaning function\n",
    "def clean_injury(value):\n",
    "    if pd.isna(value):\n",
    "        return \"unknown\"\n",
    "    value = value.strip().lower()  # Remove extra spaces and lowercase\n",
    "    return injury_mapping.get(value, value)  # Replace if in mapping, otherwise keep as is\n",
    "\n",
    "# Apply cleaning\n",
    "injuries_renamed_cleaned = injuries_renamed_no_illness.copy()\n",
    "injuries_renamed_cleaned['injury_body_part'] = injuries_renamed_no_illness['injury_body_part'].apply(clean_injury)\n",
    "injuries_renamed_cleaned['injury_body_part'].unique()"
   ]
  },
  {
   "cell_type": "code",
   "execution_count": 213,
   "metadata": {},
   "outputs": [],
   "source": [
    "# drop where injury body part is unknown\n",
    "injuries_cleaned = injuries_renamed_cleaned[injuries_renamed_cleaned['injury_body_part'] != 'unknown']"
   ]
  },
  {
   "cell_type": "markdown",
   "metadata": {},
   "source": [
    "Relevant columns for pass or rush plays"
   ]
  },
  {
   "cell_type": "code",
   "execution_count": 214,
   "metadata": {},
   "outputs": [],
   "source": [
    "relevant_columns = [\n",
    "    # Play Identification & Context\n",
    "    \"play_id\", \"game_id\", \"week\", \"season\", \"away_team\", \"home_team\",\n",
    "    \"quarter_seconds_remaining\", \"half_seconds_remaining\", \"game_seconds_remaining\",\n",
    "    \"qtr\", \"down\", \"ydstogo\", \"yardline_100\", \"score_differential\",\n",
    "\n",
    "    # Play Type & Execution\n",
    "    \"play_type\", \"rush_attempt\", \"pass_attempt\", \"sack\", \n",
    "    \"incomplete_pass\", \"qb_scramble\", \"shotgun\", \"no_huddle\",\n",
    "\n",
    "    # Passing Attributes\n",
    "    \"qb_dropback\", \"pass_length\", \"pass_location\", \"air_yards\", \n",
    "    \"yards_after_catch\", \"passing_yards\", \"passer_player_id\", \"passer_player_name\",\n",
    "    \"receiver_player_id\", \"receiver_player_name\", \"complete_pass\",\n",
    "\n",
    "    # Rushing Attributes\n",
    "    \"run_location\", \"run_gap\", \"rushing_yards\", \"rusher_player_id\", \"rusher_player_name\",\n",
    "\n",
    "    # Outcome Metrics\n",
    "    \"yards_gained\", \"epa\", \"air_epa\", \"yac_epa\",\n",
    "    \"rush_touchdown\", \"pass_touchdown\", \"first_down_rush\", \"first_down_pass\"\n",
    "]\n",
    "\n",
    "pbp_relevant = pbp[relevant_columns]\n"
   ]
  },
  {
   "cell_type": "code",
   "execution_count": 215,
   "metadata": {},
   "outputs": [],
   "source": [
    "pbp_relevant = pbp_relevant[(pbp_relevant['play_type'].isin(['run','pass']))]"
   ]
  },
  {
   "cell_type": "code",
   "execution_count": 216,
   "metadata": {},
   "outputs": [],
   "source": [
    "# # Iterate through the pbp data and see if the injured player is in the play, if so, add the injury\n",
    "# # boolean, the body part and the injury type to the play data\n",
    "# pbp_relevant['injury'] = False\n",
    "# pbp_relevant['injury_body_part'] = 'No injury'\n",
    "# pbp_relevant['severity'] = 'No injury'\n",
    "\n",
    "# for inj_index, inj_row in injuries.iterrows():\n",
    "#   for pbp_index, pbp_row in pbp_relevant.iterrows():\n",
    "#     if (pbp_row['game_id'] == inj_row['game_id']):\n",
    "#       if (pbp_row['passer_player_id'] == inj_row['gsis_id']):\n",
    "#         pbp_relevant.loc[pbp_index, 'injury'] = True\n",
    "#         pbp_relevant.loc[pbp_index, 'injury_body_part'] = inj_row['report_primary_injury']\n",
    "#         pbp_relevant.loc[pbp_index, 'severity'] = inj_row['report_status']\n",
    "#         break\n",
    "#       elif (pbp_row['receiver_player_id'] == inj_row['gsis_id']):\n",
    "#         pbp_relevant.loc[pbp_index, 'injury'] = True\n",
    "#         pbp_relevant.loc[pbp_index, 'injury_body_part'] = inj_row['report_primary_injury']\n",
    "#         pbp_relevant.loc[pbp_index, 'severity'] = inj_row['report_status']\n",
    "#         break\n",
    "#       elif (pbp_row['rusher_player_id'] == inj_row['gsis_id']):\n",
    "#         pbp_relevant.loc[pbp_index, 'injury'] = True\n",
    "#         pbp_relevant.loc[pbp_index, 'injury_body_part'] = inj_row['report_primary_injury']\n",
    "#         pbp_relevant.loc[pbp_index, 'severity'] = inj_row['report_status']\n",
    "#         break"
   ]
  },
  {
   "cell_type": "markdown",
   "metadata": {},
   "source": [
    "Now we need to merge the dataframes to get the stats for each game such as weather and field type"
   ]
  },
  {
   "cell_type": "code",
   "execution_count": 217,
   "metadata": {},
   "outputs": [],
   "source": [
    "# Step 2: Reshape `pbp` to match `injuries` structure\n",
    "pbp_long = pbp_relevant.melt(\n",
    "    id_vars=['game_id'], \n",
    "    value_vars=['passer_player_id', 'receiver_player_id', 'rusher_player_id'], \n",
    "    var_name='role', \n",
    "    value_name='player_id'\n",
    ")\n",
    "\n",
    "# Step 3: Merge injuries with play-by-play data\n",
    "pbp_long = pbp_long.merge(injuries_cleaned, on=['game_id', 'player_id'], how='left')\n",
    "\n",
    "# Step 4: Fill missing injury data\n",
    "pbp_long['injury'] = pbp_long['injury_body_part'].notna()\n",
    "pbp_long.fillna({'injury_body_part': 'No injury', 'severity': 'No injury'}, inplace=True)\n",
    "\n",
    "# Step 5: Pivot back to wide format\n",
    "pbp_pivot = pbp_long.pivot_table(\n",
    "    index=['game_id'], \n",
    "    columns='role', \n",
    "    values=['injury_body_part', 'severity'], \n",
    "    aggfunc='first'  # Take the first non-null injury entry\n",
    ")\n",
    "pbp_pivot.columns = ['_'.join(col).replace('_player_id', '') for col in pbp_pivot.columns]  # Flatten column names\n",
    "pbp_pivot.reset_index(inplace=True)\n",
    "\n",
    "# Step 6: Merge back into `pbp`\n",
    "pbp_relevant = pbp_relevant.merge(pbp_pivot, on='game_id', how='left')\n",
    "\n",
    "# Step 7: Create a final injury flag\n",
    "pbp_relevant['injury'] = pbp_relevant[['injury_body_part_passer', 'injury_body_part_receiver', 'injury_body_part_rusher']].apply(\n",
    "    lambda row: any(x != 'No injury' for x in row), axis=1\n",
    ")\n",
    "\n",
    "# Step 8: Leave only one injury part for each play\n",
    "pbp_relevant['final_injury_part'] = pbp_relevant[['injury_body_part_passer', 'injury_body_part_receiver', 'injury_body_part_rusher']].bfill(axis=1).iloc[:, 0]\n",
    "pbp_relevant['severity'] = pbp_relevant[['severity_passer', 'severity_receiver', 'severity_rusher']].bfill(axis=1).iloc[:, 0]"
   ]
  },
  {
   "cell_type": "code",
   "execution_count": 218,
   "metadata": {},
   "outputs": [
    {
     "name": "stdout",
     "output_type": "stream",
     "text": [
      "final_injury_part\n",
      "No injury     462300\n",
      "shoulder        3175\n",
      "knee            1630\n",
      "ankle           1470\n",
      "foot            1178\n",
      "elbow           1038\n",
      "finger          1009\n",
      "back             766\n",
      "quadricep        736\n",
      "hand             644\n",
      "thumb            636\n",
      "hamstring        523\n",
      "chest            490\n",
      "ribs             484\n",
      "calf             389\n",
      "wrist            271\n",
      "abdomen          263\n",
      "groin            257\n",
      "concussion       247\n",
      "thigh            244\n",
      "head             129\n",
      "toe              124\n",
      "hip              118\n",
      "Name: count, dtype: int64 \n",
      "\n",
      "injury\n",
      "False    408875\n",
      "True      69246\n",
      "Name: count, dtype: int64\n"
     ]
    }
   ],
   "source": [
    "print(pbp_relevant['final_injury_part'].value_counts(), '\\n')\n",
    "print(pbp_relevant['injury'].value_counts())"
   ]
  },
  {
   "cell_type": "markdown",
   "metadata": {},
   "source": [
    "### Clean the schedule data before merging"
   ]
  },
  {
   "cell_type": "code",
   "execution_count": 219,
   "metadata": {},
   "outputs": [
    {
     "data": {
      "text/plain": [
       "surface\n",
       "grass         2043\n",
       "fieldturf      964\n",
       "sportturf      236\n",
       "matrixturf     169\n",
       "astroturf      100\n",
       "grass           93\n",
       "a_turf          91\n",
       "astroplay       56\n",
       "Name: count, dtype: int64"
      ]
     },
     "execution_count": 219,
     "metadata": {},
     "output_type": "execute_result"
    }
   ],
   "source": [
    "s['surface'].value_counts()"
   ]
  },
  {
   "cell_type": "code",
   "execution_count": 220,
   "metadata": {},
   "outputs": [
    {
     "name": "stderr",
     "output_type": "stream",
     "text": [
      "/var/folders/fv/6ssdmf5n3cs0c8kp8swwnx280000gn/T/ipykernel_55120/535587010.py:2: FutureWarning: A value is trying to be set on a copy of a DataFrame or Series through chained assignment using an inplace method.\n",
      "The behavior will change in pandas 3.0. This inplace method will never work because the intermediate object on which we are setting values always behaves as a copy.\n",
      "\n",
      "For example, when doing 'df[col].method(value, inplace=True)', try using 'df.method({col: value}, inplace=True)' or df[col] = df[col].method(value) instead, to perform the operation inplace on the original object.\n",
      "\n",
      "\n",
      "  s['surface'].replace('a_turf','fieldturf',inplace=True)\n",
      "/var/folders/fv/6ssdmf5n3cs0c8kp8swwnx280000gn/T/ipykernel_55120/535587010.py:3: FutureWarning: A value is trying to be set on a copy of a DataFrame or Series through chained assignment using an inplace method.\n",
      "The behavior will change in pandas 3.0. This inplace method will never work because the intermediate object on which we are setting values always behaves as a copy.\n",
      "\n",
      "For example, when doing 'df[col].method(value, inplace=True)', try using 'df.method({col: value}, inplace=True)' or df[col] = df[col].method(value) instead, to perform the operation inplace on the original object.\n",
      "\n",
      "\n",
      "  s['surface'].replace('astroplay','fieldturf',inplace=True)\n",
      "/var/folders/fv/6ssdmf5n3cs0c8kp8swwnx280000gn/T/ipykernel_55120/535587010.py:4: FutureWarning: A value is trying to be set on a copy of a DataFrame or Series through chained assignment using an inplace method.\n",
      "The behavior will change in pandas 3.0. This inplace method will never work because the intermediate object on which we are setting values always behaves as a copy.\n",
      "\n",
      "For example, when doing 'df[col].method(value, inplace=True)', try using 'df.method({col: value}, inplace=True)' or df[col] = df[col].method(value) instead, to perform the operation inplace on the original object.\n",
      "\n",
      "\n",
      "  s['surface'].replace('sportturf','fieldturf',inplace=True)\n",
      "/var/folders/fv/6ssdmf5n3cs0c8kp8swwnx280000gn/T/ipykernel_55120/535587010.py:5: FutureWarning: A value is trying to be set on a copy of a DataFrame or Series through chained assignment using an inplace method.\n",
      "The behavior will change in pandas 3.0. This inplace method will never work because the intermediate object on which we are setting values always behaves as a copy.\n",
      "\n",
      "For example, when doing 'df[col].method(value, inplace=True)', try using 'df.method({col: value}, inplace=True)' or df[col] = df[col].method(value) instead, to perform the operation inplace on the original object.\n",
      "\n",
      "\n",
      "  s['surface'].replace('matrixturf','fieldturf',inplace=True)\n",
      "/var/folders/fv/6ssdmf5n3cs0c8kp8swwnx280000gn/T/ipykernel_55120/535587010.py:6: FutureWarning: A value is trying to be set on a copy of a DataFrame or Series through chained assignment using an inplace method.\n",
      "The behavior will change in pandas 3.0. This inplace method will never work because the intermediate object on which we are setting values always behaves as a copy.\n",
      "\n",
      "For example, when doing 'df[col].method(value, inplace=True)', try using 'df.method({col: value}, inplace=True)' or df[col] = df[col].method(value) instead, to perform the operation inplace on the original object.\n",
      "\n",
      "\n",
      "  s['surface'].replace('astroturf','fieldturf',inplace=True)\n",
      "/var/folders/fv/6ssdmf5n3cs0c8kp8swwnx280000gn/T/ipykernel_55120/535587010.py:7: FutureWarning: A value is trying to be set on a copy of a DataFrame or Series through chained assignment using an inplace method.\n",
      "The behavior will change in pandas 3.0. This inplace method will never work because the intermediate object on which we are setting values always behaves as a copy.\n",
      "\n",
      "For example, when doing 'df[col].method(value, inplace=True)', try using 'df.method({col: value}, inplace=True)' or df[col] = df[col].method(value) instead, to perform the operation inplace on the original object.\n",
      "\n",
      "\n",
      "  s['surface'].replace('grass ','grass',inplace=True)\n"
     ]
    },
    {
     "data": {
      "text/plain": [
       "surface\n",
       "grass        2136\n",
       "fieldturf    1616\n",
       "Name: count, dtype: int64"
      ]
     },
     "execution_count": 220,
     "metadata": {},
     "output_type": "execute_result"
    }
   ],
   "source": [
    "# There are too many surfaces, we will combine them into 2 categories either grass or turf\n",
    "s['surface'].replace('a_turf','fieldturf',inplace=True)\n",
    "s['surface'].replace('astroplay','fieldturf',inplace=True)\n",
    "s['surface'].replace('sportturf','fieldturf',inplace=True)\n",
    "s['surface'].replace('matrixturf','fieldturf',inplace=True)\n",
    "s['surface'].replace('astroturf','fieldturf',inplace=True)\n",
    "s['surface'].replace('grass ','grass',inplace=True)\n",
    "s['surface'].value_counts()"
   ]
  },
  {
   "cell_type": "code",
   "execution_count": 221,
   "metadata": {},
   "outputs": [
    {
     "name": "stdout",
     "output_type": "stream",
     "text": [
      "41\n"
     ]
    }
   ],
   "source": [
    "print(s['surface'].isnull().sum())"
   ]
  },
  {
   "cell_type": "code",
   "execution_count": 222,
   "metadata": {},
   "outputs": [
    {
     "name": "stdout",
     "output_type": "stream",
     "text": [
      "Stadium-Surface Mapping: {'Louisiana Superdome': 'fieldturf', 'Ralph Wilson Stadium': 'fieldturf', 'Soldier Field': 'grass', 'Reliant Stadium': 'grass', 'EverBank Field': 'grass', 'Gillette Stadium': 'grass', 'New Meadowlands Stadium': 'fieldturf', 'Heinz Field': 'grass', 'Raymond James Stadium': 'grass', 'LP Field': 'grass', 'Lincoln Financial Field': 'grass', 'Qwest Field': 'fieldturf', 'Edward Jones Dome': 'fieldturf', 'FedExField': 'grass', 'Arrowhead Stadium': 'fieldturf', 'Georgia Dome': 'fieldturf', 'Bank of America Stadium': 'grass', 'Paul Brown Stadium': 'grass', 'Cleveland Browns Stadium': 'grass', 'Cowboys Stadium': 'grass', 'Ford Field': 'fieldturf', 'Lambeau Field': 'grass', 'Mall of America Field': 'fieldturf', 'Invesco Field at Mile High': 'grass', 'Oakland-Alameda County Coliseum': 'grass', 'Qualcomm Stadium': 'grass', 'Lucas Oil Stadium': 'fieldturf', 'Candlestick Park': 'grass', 'M&T Bank Stadium': 'grass', 'University of Phoenix Stadium': 'grass', 'Sun Life Stadium': 'grass', 'Wembley Stadium': 'fieldturf', 'Rogers Centre': 'fieldturf', 'TCF Bank Stadium': 'fieldturf', 'MetLife Stadium': 'fieldturf', 'Sports Authority Field at Mile High': 'grass', 'Mercedes-Benz Superdome': 'fieldturf', 'O.co Coliseum': 'grass', 'CenturyLink Field': 'fieldturf', 'FirstEnergy Stadium': 'grass', 'AT&T Stadium': 'fieldturf', 'NRG Stadium': 'fieldturf', \"Levi's Stadium\": 'grass', 'Nissan Stadium': 'grass', 'New Era Field': 'fieldturf', 'Los Angeles Memorial Coliseum': 'grass', 'U.S. Bank Stadium': 'fieldturf', 'Hard Rock Stadium': 'grass', 'Twickenham Stadium': 'grass', 'Azteca Stadium': 'grass', 'StubHub Center': 'grass', 'Mercedes-Benz Stadium': 'fieldturf', 'State Farm Stadium': 'grass', 'TIAA Bank Stadium': 'grass', 'Ring Central Coliseum': 'grass', 'Empower Field at Mile High': 'grass', 'Tottenham Stadium': 'grass', 'SoFi Stadium': 'fieldturf', 'Allegiant Stadium': 'grass', 'Lumen Field': 'fieldturf', 'GEHA Field at Arrowhead Stadium': 'grass', 'Paycor Stadium': 'fieldturf', 'Acrisure Stadium': 'grass', 'Deutsche Bank Park': 'grass'}\n"
     ]
    }
   ],
   "source": [
    "# There are quite some values, we will cretate a map for the stadiums and their surfaces\n",
    "\n",
    "# Create a dict for the stadiums and their surfaces with the values in the dataset\n",
    "# Get the values from the dataset\n",
    "stadium_surface = s[['stadium', 'surface']].drop_duplicates()\n",
    "stadium_surface = stadium_surface[stadium_surface['surface'].notnull()]\n",
    "stadium_surface = stadium_surface.set_index('stadium')['surface'].to_dict()\n",
    "print(\"Stadium-Surface Mapping:\", stadium_surface)"
   ]
  },
  {
   "cell_type": "code",
   "execution_count": 223,
   "metadata": {},
   "outputs": [
    {
     "name": "stdout",
     "output_type": "stream",
     "text": [
      "1\n"
     ]
    },
    {
     "name": "stderr",
     "output_type": "stream",
     "text": [
      "/var/folders/fv/6ssdmf5n3cs0c8kp8swwnx280000gn/T/ipykernel_55120/983890332.py:2: FutureWarning: A value is trying to be set on a copy of a DataFrame or Series through chained assignment using an inplace method.\n",
      "The behavior will change in pandas 3.0. This inplace method will never work because the intermediate object on which we are setting values always behaves as a copy.\n",
      "\n",
      "For example, when doing 'df[col].method(value, inplace=True)', try using 'df.method({col: value}, inplace=True)' or df[col] = df[col].method(value) instead, to perform the operation inplace on the original object.\n",
      "\n",
      "\n",
      "  s['surface'].fillna(s['stadium'].map(stadium_surface), inplace=True)\n"
     ]
    }
   ],
   "source": [
    "# Now we can use this dict to fill the missing values in the dataset\n",
    "s['surface'].fillna(s['stadium'].map(stadium_surface), inplace=True)\n",
    "# Check if there are any missing values\n",
    "print(s['surface'].isnull().sum())"
   ]
  },
  {
   "cell_type": "code",
   "execution_count": 224,
   "metadata": {},
   "outputs": [],
   "source": [
    "combined_data = pd.merge(pbp_relevant,s,on=['game_id','week','home_team','away_team'],how='left')"
   ]
  },
  {
   "cell_type": "code",
   "execution_count": 225,
   "metadata": {},
   "outputs": [
    {
     "name": "stdout",
     "output_type": "stream",
     "text": [
      "Index(['play_id', 'game_id', 'week', 'season_x', 'away_team', 'home_team',\n",
      "       'quarter_seconds_remaining', 'half_seconds_remaining',\n",
      "       'game_seconds_remaining', 'qtr', 'down', 'ydstogo', 'yardline_100',\n",
      "       'score_differential', 'play_type', 'rush_attempt', 'pass_attempt',\n",
      "       'sack', 'incomplete_pass', 'qb_scramble', 'shotgun', 'no_huddle',\n",
      "       'qb_dropback', 'pass_length', 'pass_location', 'air_yards',\n",
      "       'yards_after_catch', 'passing_yards', 'passer_player_id',\n",
      "       'passer_player_name', 'receiver_player_id', 'receiver_player_name',\n",
      "       'complete_pass', 'run_location', 'run_gap', 'rushing_yards',\n",
      "       'rusher_player_id', 'rusher_player_name', 'yards_gained', 'epa',\n",
      "       'air_epa', 'yac_epa', 'rush_touchdown', 'pass_touchdown',\n",
      "       'first_down_rush', 'first_down_pass', 'injury_body_part_passer',\n",
      "       'injury_body_part_receiver', 'injury_body_part_rusher',\n",
      "       'severity_passer', 'severity_receiver', 'severity_rusher', 'injury',\n",
      "       'final_injury_part', 'severity', 'season_y', 'game_type', 'gameday',\n",
      "       'weekday', 'gametime', 'away_score', 'home_score', 'location', 'result',\n",
      "       'total', 'overtime', 'old_game_id', 'gsis', 'nfl_detail_id', 'pfr',\n",
      "       'pff', 'espn', 'ftn', 'away_rest', 'home_rest', 'away_moneyline',\n",
      "       'home_moneyline', 'spread_line', 'away_spread_odds', 'home_spread_odds',\n",
      "       'total_line', 'under_odds', 'over_odds', 'div_game', 'roof', 'surface',\n",
      "       'temp', 'wind', 'away_qb_id', 'home_qb_id', 'away_qb_name',\n",
      "       'home_qb_name', 'away_coach', 'home_coach', 'referee', 'stadium_id',\n",
      "       'stadium'],\n",
      "      dtype='object')\n"
     ]
    }
   ],
   "source": [
    "# Print the columns to decide which ones to keep\n",
    "print(combined_data.columns)"
   ]
  },
  {
   "cell_type": "markdown",
   "metadata": {},
   "source": [
    "## Plotting the data"
   ]
  },
  {
   "cell_type": "code",
   "execution_count": 227,
   "metadata": {},
   "outputs": [
    {
     "name": "stderr",
     "output_type": "stream",
     "text": [
      "/var/folders/fv/6ssdmf5n3cs0c8kp8swwnx280000gn/T/ipykernel_55120/672084391.py:4: FutureWarning: \n",
      "\n",
      "Passing `palette` without assigning `hue` is deprecated and will be removed in v0.14.0. Assign the `x` variable to `hue` and set `legend=False` for the same effect.\n",
      "\n",
      "  sns.barplot(x=injuries_total.index, y=injuries_total.values, palette='viridis')\n"
     ]
    },
    {
     "data": {
      "image/png": "[encoded data removed]",
      "text/plain": [
       "<Figure size 1200x800 with 1 Axes>"
      ]
     },
     "metadata": {},
     "output_type": "display_data"
    }
   ],
   "source": [
    "# Injuries vs no injuries\n",
    "injuries_total = combined_data['injury'].value_counts()\n",
    "plt.figure(figsize=(12, 8))\n",
    "sns.barplot(x=injuries_total.index, y=injuries_total.values, palette='viridis')\n",
    "plt.title('Number of Injuries (2010-2023) in Pass and Run Plays')\n",
    "plt.xlabel('Injury')\n",
    "plt.ylabel('Total Injuries')\n",
    "plt.savefig('../visualizations/injuries_total.png')\n",
    "plt.show()"
   ]
  },
  {
   "cell_type": "code",
   "execution_count": 228,
   "metadata": {},
   "outputs": [
    {
     "name": "stderr",
     "output_type": "stream",
     "text": [
      "/var/folders/fv/6ssdmf5n3cs0c8kp8swwnx280000gn/T/ipykernel_55120/2783811897.py:5: FutureWarning: \n",
      "\n",
      "Passing `palette` without assigning `hue` is deprecated and will be removed in v0.14.0. Assign the `x` variable to `hue` and set `legend=False` for the same effect.\n",
      "\n",
      "  sns.barplot(x=injuries_by_year.index, y=injuries_by_year.values, palette='viridis')\n"
     ]
    },
    {
     "data": {
      "image/png": "[encoded data removed]",
      "text/plain": [
       "<Figure size 1200x600 with 1 Axes>"
      ]
     },
     "metadata": {},
     "output_type": "display_data"
    }
   ],
   "source": [
    "# Plot the injuries by year\n",
    "injuries_by_year = combined_data.groupby('season_x')['injury'].sum()\n",
    "\n",
    "plt.figure(figsize=(12, 6))\n",
    "sns.barplot(x=injuries_by_year.index, y=injuries_by_year.values, palette='viridis')\n",
    "plt.title('Number of Injuries by Year (2010-2023) in Run and Pass Plays')\n",
    "plt.xlabel('Year')\n",
    "plt.ylabel('Number of Injuries')\n",
    "plt.savefig('../visualizations/injuries_by_year.png')\n",
    "plt.show()"
   ]
  },
  {
   "cell_type": "code",
   "execution_count": 229,
   "metadata": {},
   "outputs": [
    {
     "name": "stderr",
     "output_type": "stream",
     "text": [
      "/var/folders/fv/6ssdmf5n3cs0c8kp8swwnx280000gn/T/ipykernel_55120/3365138899.py:4: FutureWarning: \n",
      "\n",
      "Passing `palette` without assigning `hue` is deprecated and will be removed in v0.14.0. Assign the `x` variable to `hue` and set `legend=False` for the same effect.\n",
      "\n",
      "  sns.barplot(x=injuries_by_surface.index, y=injuries_by_surface.values, palette='viridis')\n"
     ]
    },
    {
     "data": {
      "image/png": "[encoded data removed]",
      "text/plain": [
       "<Figure size 1200x600 with 1 Axes>"
      ]
     },
     "metadata": {},
     "output_type": "display_data"
    }
   ],
   "source": [
    "# Plot injuries by field type\n",
    "injuries_by_surface = combined_data.groupby('surface')['injury'].sum()\n",
    "plt.figure(figsize=(12, 6))\n",
    "sns.barplot(x=injuries_by_surface.index, y=injuries_by_surface.values, palette='viridis')\n",
    "plt.title('Number of Injuries by Surface Type (2010-2023) in Pass and Run Plays')\n",
    "plt.xlabel('Surface Type')\n",
    "plt.ylabel('Number of Injuries')\n",
    "plt.savefig('../visualizations/injuries_by_surface.png')\n",
    "plt.show()"
   ]
  },
  {
   "cell_type": "code",
   "execution_count": 230,
   "metadata": {},
   "outputs": [
    {
     "name": "stderr",
     "output_type": "stream",
     "text": [
      "/var/folders/fv/6ssdmf5n3cs0c8kp8swwnx280000gn/T/ipykernel_55120/1124180181.py:8: FutureWarning: \n",
      "\n",
      "Passing `palette` without assigning `hue` is deprecated and will be removed in v0.14.0. Assign the `y` variable to `hue` and set `legend=False` for the same effect.\n",
      "\n",
      "  sns.barplot(x=injuries_by_body_part.values, y=injuries_by_body_part.index, palette='viridis', orient='horizontal')\n"
     ]
    },
    {
     "data": {
      "text/plain": [
       "Text(54.624999999999986, 0.5, 'Body Part')"
      ]
     },
     "execution_count": 230,
     "metadata": {},
     "output_type": "execute_result"
    },
    {
     "data": {
      "image/png": "[encoded data removed]",
      "text/plain": [
       "<Figure size 1200x600 with 1 Axes>"
      ]
     },
     "metadata": {},
     "output_type": "display_data"
    }
   ],
   "source": [
    "# Plot injuries by body part\n",
    "\n",
    "# Exclude 'No injury' from the data and calculate the number of injuries by body part\n",
    "injuries_by_body_part = combined_data[combined_data['final_injury_part'] != 'No injury'].groupby('final_injury_part')['injury'].sum()\n",
    "injuries_by_body_part = injuries_by_body_part.sort_values(ascending=False)\n",
    "\n",
    "plt.figure(figsize=(12, 6))\n",
    "sns.barplot(x=injuries_by_body_part.values, y=injuries_by_body_part.index, palette='viridis', orient='horizontal')\n",
    "plt.title('Number of Injuries by Body Part (2010-2023) in Pass and Run Plays')\n",
    "plt.xlabel('Number of Injuries')\n",
    "plt.savefig('../visualizations/injuries_by_body_part.png', dpi=300, bbox_inches='tight')\n",
    "plt.ylabel('Body Part')"
   ]
  },
  {
   "cell_type": "markdown",
   "metadata": {},
   "source": [
    "## Data Selection"
   ]
  },
  {
   "cell_type": "code",
   "execution_count": 231,
   "metadata": {},
   "outputs": [],
   "source": [
    "# This will be our target variable\n",
    "y = combined_data['injury']"
   ]
  },
  {
   "cell_type": "code",
   "execution_count": 232,
   "metadata": {},
   "outputs": [],
   "source": [
    "# Drop all the columns that we don't want to use for training, more will be discarded later\n",
    "training = combined_data.drop(columns=['play_id', 'game_id', 'week', 'season_x', 'away_team', 'home_team', 'injury_body_part_passer',\n",
    "       'injury_body_part_receiver', 'injury_body_part_rusher', 'old_game_id', 'gsis', 'nfl_detail_id', 'pfr', 'pff',\n",
    "       'espn', 'ftn', 'away_moneyline',\n",
    "       'home_moneyline', 'spread_line', 'away_spread_odds', 'home_spread_odds',\n",
    "       'total_line', 'under_odds', 'over_odds', 'away_qb_id', 'home_qb_id', 'away_qb_name',\n",
    "       'home_qb_name', 'away_coach', 'home_coach', 'referee', 'stadium_id', 'stadium', 'passer_player_id',\n",
    "       'passer_player_name', 'receiver_player_id', 'receiver_player_name', 'rusher_player_id', 'rusher_player_name']).copy()"
   ]
  },
  {
   "cell_type": "code",
   "execution_count": 233,
   "metadata": {},
   "outputs": [],
   "source": [
    "# Classify the columns into numerical and categorical for encoding and scaling\n",
    "\n",
    "training_numeric_cols = training.select_dtypes(include=[np.number]).columns.tolist()\n",
    "training_numeric = training[training_numeric_cols]\n",
    "training_categorical_cols = training.select_dtypes(include=['object']).columns.tolist()\n",
    "training_categorical = training[training_categorical_cols]"
   ]
  },
  {
   "cell_type": "code",
   "execution_count": 234,
   "metadata": {},
   "outputs": [
    {
     "name": "stdout",
     "output_type": "stream",
     "text": [
      "Numeric columns: ['quarter_seconds_remaining', 'half_seconds_remaining', 'game_seconds_remaining', 'qtr', 'down', 'ydstogo', 'yardline_100', 'score_differential', 'rush_attempt', 'pass_attempt', 'sack', 'incomplete_pass', 'qb_scramble', 'shotgun', 'no_huddle', 'qb_dropback', 'air_yards', 'yards_after_catch', 'passing_yards', 'complete_pass', 'rushing_yards', 'yards_gained', 'epa', 'air_epa', 'yac_epa', 'rush_touchdown', 'pass_touchdown', 'first_down_rush', 'first_down_pass', 'season_y', 'away_score', 'home_score', 'result', 'total', 'overtime', 'away_rest', 'home_rest', 'div_game', 'temp', 'wind']\n",
      "Categorical columns: ['play_type', 'pass_length', 'pass_location', 'run_location', 'run_gap', 'severity_passer', 'severity_receiver', 'severity_rusher', 'final_injury_part', 'severity', 'game_type', 'gameday', 'weekday', 'gametime', 'location', 'roof', 'surface']\n"
     ]
    }
   ],
   "source": [
    "print(f\"Numeric columns: {training_numeric_cols}\")\n",
    "print(f\"Categorical columns: {training_categorical_cols}\")"
   ]
  },
  {
   "cell_type": "markdown",
   "metadata": {},
   "source": [
    "## Model Training and Evaluation"
   ]
  },
  {
   "cell_type": "markdown",
   "metadata": {},
   "source": [
    "### Data encoding"
   ]
  },
  {
   "cell_type": "code",
   "execution_count": 235,
   "metadata": {},
   "outputs": [
    {
     "name": "stderr",
     "output_type": "stream",
     "text": [
      "/var/folders/fv/6ssdmf5n3cs0c8kp8swwnx280000gn/T/ipykernel_55120/1271475230.py:12: SettingWithCopyWarning: \n",
      "A value is trying to be set on a copy of a slice from a DataFrame.\n",
      "Try using .loc[row_indexer,col_indexer] = value instead\n",
      "\n",
      "See the caveats in the documentation: https://pandas.pydata.org/pandas-docs/stable/user_guide/indexing.html#returning-a-view-versus-a-copy\n",
      "  training_categorical[feat] = le.fit_transform(training_categorical[feat].astype(str))\n",
      "/var/folders/fv/6ssdmf5n3cs0c8kp8swwnx280000gn/T/ipykernel_55120/1271475230.py:12: SettingWithCopyWarning: \n",
      "A value is trying to be set on a copy of a slice from a DataFrame.\n",
      "Try using .loc[row_indexer,col_indexer] = value instead\n",
      "\n",
      "See the caveats in the documentation: https://pandas.pydata.org/pandas-docs/stable/user_guide/indexing.html#returning-a-view-versus-a-copy\n",
      "  training_categorical[feat] = le.fit_transform(training_categorical[feat].astype(str))\n",
      "/var/folders/fv/6ssdmf5n3cs0c8kp8swwnx280000gn/T/ipykernel_55120/1271475230.py:12: SettingWithCopyWarning: \n",
      "A value is trying to be set on a copy of a slice from a DataFrame.\n",
      "Try using .loc[row_indexer,col_indexer] = value instead\n",
      "\n",
      "See the caveats in the documentation: https://pandas.pydata.org/pandas-docs/stable/user_guide/indexing.html#returning-a-view-versus-a-copy\n",
      "  training_categorical[feat] = le.fit_transform(training_categorical[feat].astype(str))\n",
      "/var/folders/fv/6ssdmf5n3cs0c8kp8swwnx280000gn/T/ipykernel_55120/1271475230.py:12: SettingWithCopyWarning: \n",
      "A value is trying to be set on a copy of a slice from a DataFrame.\n",
      "Try using .loc[row_indexer,col_indexer] = value instead\n",
      "\n",
      "See the caveats in the documentation: https://pandas.pydata.org/pandas-docs/stable/user_guide/indexing.html#returning-a-view-versus-a-copy\n",
      "  training_categorical[feat] = le.fit_transform(training_categorical[feat].astype(str))\n",
      "/var/folders/fv/6ssdmf5n3cs0c8kp8swwnx280000gn/T/ipykernel_55120/1271475230.py:12: SettingWithCopyWarning: \n",
      "A value is trying to be set on a copy of a slice from a DataFrame.\n",
      "Try using .loc[row_indexer,col_indexer] = value instead\n",
      "\n",
      "See the caveats in the documentation: https://pandas.pydata.org/pandas-docs/stable/user_guide/indexing.html#returning-a-view-versus-a-copy\n",
      "  training_categorical[feat] = le.fit_transform(training_categorical[feat].astype(str))\n",
      "/var/folders/fv/6ssdmf5n3cs0c8kp8swwnx280000gn/T/ipykernel_55120/1271475230.py:12: SettingWithCopyWarning: \n",
      "A value is trying to be set on a copy of a slice from a DataFrame.\n",
      "Try using .loc[row_indexer,col_indexer] = value instead\n",
      "\n",
      "See the caveats in the documentation: https://pandas.pydata.org/pandas-docs/stable/user_guide/indexing.html#returning-a-view-versus-a-copy\n",
      "  training_categorical[feat] = le.fit_transform(training_categorical[feat].astype(str))\n",
      "/var/folders/fv/6ssdmf5n3cs0c8kp8swwnx280000gn/T/ipykernel_55120/1271475230.py:12: SettingWithCopyWarning: \n",
      "A value is trying to be set on a copy of a slice from a DataFrame.\n",
      "Try using .loc[row_indexer,col_indexer] = value instead\n",
      "\n",
      "See the caveats in the documentation: https://pandas.pydata.org/pandas-docs/stable/user_guide/indexing.html#returning-a-view-versus-a-copy\n",
      "  training_categorical[feat] = le.fit_transform(training_categorical[feat].astype(str))\n",
      "/var/folders/fv/6ssdmf5n3cs0c8kp8swwnx280000gn/T/ipykernel_55120/1271475230.py:12: SettingWithCopyWarning: \n",
      "A value is trying to be set on a copy of a slice from a DataFrame.\n",
      "Try using .loc[row_indexer,col_indexer] = value instead\n",
      "\n",
      "See the caveats in the documentation: https://pandas.pydata.org/pandas-docs/stable/user_guide/indexing.html#returning-a-view-versus-a-copy\n",
      "  training_categorical[feat] = le.fit_transform(training_categorical[feat].astype(str))\n",
      "/var/folders/fv/6ssdmf5n3cs0c8kp8swwnx280000gn/T/ipykernel_55120/1271475230.py:12: SettingWithCopyWarning: \n",
      "A value is trying to be set on a copy of a slice from a DataFrame.\n",
      "Try using .loc[row_indexer,col_indexer] = value instead\n",
      "\n",
      "See the caveats in the documentation: https://pandas.pydata.org/pandas-docs/stable/user_guide/indexing.html#returning-a-view-versus-a-copy\n",
      "  training_categorical[feat] = le.fit_transform(training_categorical[feat].astype(str))\n",
      "/var/folders/fv/6ssdmf5n3cs0c8kp8swwnx280000gn/T/ipykernel_55120/1271475230.py:12: SettingWithCopyWarning: \n",
      "A value is trying to be set on a copy of a slice from a DataFrame.\n",
      "Try using .loc[row_indexer,col_indexer] = value instead\n",
      "\n",
      "See the caveats in the documentation: https://pandas.pydata.org/pandas-docs/stable/user_guide/indexing.html#returning-a-view-versus-a-copy\n",
      "  training_categorical[feat] = le.fit_transform(training_categorical[feat].astype(str))\n",
      "/var/folders/fv/6ssdmf5n3cs0c8kp8swwnx280000gn/T/ipykernel_55120/1271475230.py:12: SettingWithCopyWarning: \n",
      "A value is trying to be set on a copy of a slice from a DataFrame.\n",
      "Try using .loc[row_indexer,col_indexer] = value instead\n",
      "\n",
      "See the caveats in the documentation: https://pandas.pydata.org/pandas-docs/stable/user_guide/indexing.html#returning-a-view-versus-a-copy\n",
      "  training_categorical[feat] = le.fit_transform(training_categorical[feat].astype(str))\n",
      "/var/folders/fv/6ssdmf5n3cs0c8kp8swwnx280000gn/T/ipykernel_55120/1271475230.py:12: SettingWithCopyWarning: \n",
      "A value is trying to be set on a copy of a slice from a DataFrame.\n",
      "Try using .loc[row_indexer,col_indexer] = value instead\n",
      "\n",
      "See the caveats in the documentation: https://pandas.pydata.org/pandas-docs/stable/user_guide/indexing.html#returning-a-view-versus-a-copy\n",
      "  training_categorical[feat] = le.fit_transform(training_categorical[feat].astype(str))\n",
      "/var/folders/fv/6ssdmf5n3cs0c8kp8swwnx280000gn/T/ipykernel_55120/1271475230.py:12: SettingWithCopyWarning: \n",
      "A value is trying to be set on a copy of a slice from a DataFrame.\n",
      "Try using .loc[row_indexer,col_indexer] = value instead\n",
      "\n",
      "See the caveats in the documentation: https://pandas.pydata.org/pandas-docs/stable/user_guide/indexing.html#returning-a-view-versus-a-copy\n",
      "  training_categorical[feat] = le.fit_transform(training_categorical[feat].astype(str))\n",
      "/var/folders/fv/6ssdmf5n3cs0c8kp8swwnx280000gn/T/ipykernel_55120/1271475230.py:12: SettingWithCopyWarning: \n",
      "A value is trying to be set on a copy of a slice from a DataFrame.\n",
      "Try using .loc[row_indexer,col_indexer] = value instead\n",
      "\n",
      "See the caveats in the documentation: https://pandas.pydata.org/pandas-docs/stable/user_guide/indexing.html#returning-a-view-versus-a-copy\n",
      "  training_categorical[feat] = le.fit_transform(training_categorical[feat].astype(str))\n",
      "/var/folders/fv/6ssdmf5n3cs0c8kp8swwnx280000gn/T/ipykernel_55120/1271475230.py:12: SettingWithCopyWarning: \n",
      "A value is trying to be set on a copy of a slice from a DataFrame.\n",
      "Try using .loc[row_indexer,col_indexer] = value instead\n",
      "\n",
      "See the caveats in the documentation: https://pandas.pydata.org/pandas-docs/stable/user_guide/indexing.html#returning-a-view-versus-a-copy\n",
      "  training_categorical[feat] = le.fit_transform(training_categorical[feat].astype(str))\n",
      "/var/folders/fv/6ssdmf5n3cs0c8kp8swwnx280000gn/T/ipykernel_55120/1271475230.py:12: SettingWithCopyWarning: \n",
      "A value is trying to be set on a copy of a slice from a DataFrame.\n",
      "Try using .loc[row_indexer,col_indexer] = value instead\n",
      "\n",
      "See the caveats in the documentation: https://pandas.pydata.org/pandas-docs/stable/user_guide/indexing.html#returning-a-view-versus-a-copy\n",
      "  training_categorical[feat] = le.fit_transform(training_categorical[feat].astype(str))\n",
      "/var/folders/fv/6ssdmf5n3cs0c8kp8swwnx280000gn/T/ipykernel_55120/1271475230.py:12: SettingWithCopyWarning: \n",
      "A value is trying to be set on a copy of a slice from a DataFrame.\n",
      "Try using .loc[row_indexer,col_indexer] = value instead\n",
      "\n",
      "See the caveats in the documentation: https://pandas.pydata.org/pandas-docs/stable/user_guide/indexing.html#returning-a-view-versus-a-copy\n",
      "  training_categorical[feat] = le.fit_transform(training_categorical[feat].astype(str))\n",
      "/var/folders/fv/6ssdmf5n3cs0c8kp8swwnx280000gn/T/ipykernel_55120/1271475230.py:15: FutureWarning: A value is trying to be set on a copy of a DataFrame or Series through chained assignment using an inplace method.\n",
      "The behavior will change in pandas 3.0. This inplace method will never work because the intermediate object on which we are setting values always behaves as a copy.\n",
      "\n",
      "For example, when doing 'df[col].method(value, inplace=True)', try using 'df.method({col: value}, inplace=True)' or df[col] = df[col].method(value) instead, to perform the operation inplace on the original object.\n",
      "\n",
      "\n",
      "  training_numeric[feat].fillna(training_numeric[feat].mean(), inplace=True)\n",
      "/var/folders/fv/6ssdmf5n3cs0c8kp8swwnx280000gn/T/ipykernel_55120/1271475230.py:15: SettingWithCopyWarning: \n",
      "A value is trying to be set on a copy of a slice from a DataFrame\n",
      "\n",
      "See the caveats in the documentation: https://pandas.pydata.org/pandas-docs/stable/user_guide/indexing.html#returning-a-view-versus-a-copy\n",
      "  training_numeric[feat].fillna(training_numeric[feat].mean(), inplace=True)\n"
     ]
    }
   ],
   "source": [
    "from sklearn.calibration import LabelEncoder\n",
    "from sklearn.preprocessing import StandardScaler\n",
    "from sklearn.pipeline import make_pipeline\n",
    "from sklearn.decomposition import PCA\n",
    "\n",
    "pca = PCA()\n",
    "le = LabelEncoder()\n",
    "scaler = StandardScaler()\n",
    "pipeline = make_pipeline(scaler, pca) \n",
    "\n",
    "for feat in training_categorical_cols:\n",
    "    training_categorical[feat] = le.fit_transform(training_categorical[feat].astype(str))\n",
    "\n",
    "for feat in training_numeric_cols:\n",
    "    training_numeric[feat].fillna(training_numeric[feat].mean(), inplace=True)"
   ]
  },
  {
   "cell_type": "markdown",
   "metadata": {},
   "source": [
    "Encode both categorical and numerical variables"
   ]
  },
  {
   "cell_type": "code",
   "execution_count": 236,
   "metadata": {},
   "outputs": [],
   "source": [
    "training_data = pd.concat([training_numeric, training_categorical], axis=1)"
   ]
  },
  {
   "cell_type": "code",
   "execution_count": 237,
   "metadata": {},
   "outputs": [],
   "source": [
    "X_enc = pipeline.fit_transform(training_data)"
   ]
  },
  {
   "cell_type": "markdown",
   "metadata": {},
   "source": [
    "### Information gain"
   ]
  },
  {
   "cell_type": "code",
   "execution_count": 238,
   "metadata": {},
   "outputs": [
    {
     "data": {
      "text/plain": [
       "array([3.82796724e-04, 2.00428165e-02, 0.00000000e+00, 1.82130806e-03,\n",
       "       9.43813006e-02, 4.71928413e-05, 1.52688233e-03, 1.30849751e-03,\n",
       "       2.97785506e-03, 2.24715726e-02, 1.93189308e-04, 6.47837917e-03,\n",
       "       7.41833619e-04, 0.00000000e+00, 6.46596646e-04, 2.34680406e-02,\n",
       "       8.58945556e-03, 6.12634923e-03, 2.39067602e-02, 5.82414619e-02,\n",
       "       2.26003870e-02, 5.43507281e-02, 5.42935506e-02, 1.45791889e-01,\n",
       "       9.84051308e-03, 2.08116290e-02, 8.28230456e-02, 2.69259682e-04,\n",
       "       0.00000000e+00, 2.91521641e-03, 2.21962875e-04, 1.90132715e-02,\n",
       "       1.77472776e-04, 4.82945190e-03, 9.29271517e-04, 6.01583042e-05,\n",
       "       6.60434707e-04, 2.82677166e-04, 5.03866685e-03, 1.11965147e-04,\n",
       "       2.22864780e-05, 0.00000000e+00, 9.38946028e-02, 4.20912926e-02,\n",
       "       0.00000000e+00, 2.29873420e-02, 0.00000000e+00, 1.89540749e-04,\n",
       "       1.23177509e-02, 4.50813553e-05, 1.71128624e-04, 3.89418508e-03,\n",
       "       2.85530165e-03, 3.62175819e-03, 3.73000858e-03, 9.20188194e-03,\n",
       "       3.05668459e-03])"
      ]
     },
     "execution_count": 238,
     "metadata": {},
     "output_type": "execute_result"
    }
   ],
   "source": [
    "from sklearn.feature_selection import mutual_info_classif\n",
    "\n",
    "ig = mutual_info_classif(X_enc, y, random_state=42)\n",
    "ig"
   ]
  },
  {
   "cell_type": "code",
   "execution_count": 239,
   "metadata": {},
   "outputs": [],
   "source": [
    "# Create a dictionary to store the feature and its information gain\n",
    "ig_dict = {}\n",
    "for i in range(len(training_data.columns)):\n",
    "    ig_dict[training_data.columns[i]] = ig[i]"
   ]
  },
  {
   "cell_type": "code",
   "execution_count": 240,
   "metadata": {},
   "outputs": [
    {
     "name": "stdout",
     "output_type": "stream",
     "text": [
      "Selected Features:\n",
      "['air_epa', 'down', 'pass_location', 'pass_touchdown', 'complete_pass', 'yards_gained', 'epa', 'run_location', 'passing_yards', 'qb_dropback', 'severity_passer', 'rushing_yards', 'pass_attempt', 'rush_touchdown', 'half_seconds_remaining', 'home_score', 'final_injury_part', 'yac_epa', 'roof', 'air_yards']\n"
     ]
    }
   ],
   "source": [
    "ig_dict_sorted = dict(sorted(ig_dict.items(), key=lambda item: item[1], reverse=True))\n",
    "\n",
    "# Select the top n features with the highest information gain for training the model\n",
    "n = 20\n",
    "selected_features = list(ig_dict_sorted.keys())[:n]\n",
    "\n",
    "# Print the selected features\n",
    "print('Selected Features:')\n",
    "print(selected_features)"
   ]
  },
  {
   "cell_type": "code",
   "execution_count": 241,
   "metadata": {},
   "outputs": [
    {
     "data": {
      "image/png": "[encoded data removed]",
      "text/plain": [
       "<Figure size 1200x1200 with 1 Axes>"
      ]
     },
     "metadata": {},
     "output_type": "display_data"
    }
   ],
   "source": [
    "# Visualize the information gain of each feature\n",
    "sns.set(style=\"whitegrid\")\n",
    "sns.set(rc={'figure.figsize':(12,12)})\n",
    "sns.barplot(x=list(ig_dict_sorted.values()), y=list(ig_dict_sorted.keys()))\n",
    "plt.title('Information Gain of Features')\n",
    "plt.xlabel('Information Gain')\n",
    "plt.ylabel('Feature Name')\n",
    "plt.savefig('../visualizations/information_gain.png')\n",
    "plt.show()"
   ]
  },
  {
   "cell_type": "markdown",
   "metadata": {},
   "source": [
    "### Model training"
   ]
  },
  {
   "cell_type": "code",
   "execution_count": 242,
   "metadata": {},
   "outputs": [],
   "source": [
    "final_training = pd.DataFrame(\n",
    "    data=X_enc, \n",
    "    index=training_data.index, \n",
    "    columns=training_data.columns\n",
    ")"
   ]
  },
  {
   "cell_type": "code",
   "execution_count": 243,
   "metadata": {},
   "outputs": [],
   "source": [
    "# Use only the selected features by the information gain\n",
    "final_training = final_training[selected_features]"
   ]
  },
  {
   "cell_type": "code",
   "execution_count": 244,
   "metadata": {},
   "outputs": [],
   "source": [
    "from sklearn.model_selection import train_test_split\n",
    "\n",
    "X_train, X_test, y_train, y_test = train_test_split(final_training, y, test_size=0.2, random_state=41)"
   ]
  },
  {
   "cell_type": "code",
   "execution_count": 245,
   "metadata": {},
   "outputs": [
    {
     "data": {
      "text/html": [
       "<style>#sk-container-id-2 {\n",
       "  /* Definition of color scheme common for light and dark mode */\n",
       "  --sklearn-color-text: #000;\n",
       "  --sklearn-color-text-muted: #666;\n",
       "  --sklearn-color-line: gray;\n",
       "  /* Definition of color scheme for unfitted estimators */\n",
       "  --sklearn-color-unfitted-level-0: #fff5e6;\n",
       "  --sklearn-color-unfitted-level-1: #f6e4d2;\n",
       "  --sklearn-color-unfitted-level-2: #ffe0b3;\n",
       "  --sklearn-color-unfitted-level-3: chocolate;\n",
       "  /* Definition of color scheme for fitted estimators */\n",
       "  --sklearn-color-fitted-level-0: #f0f8ff;\n",
       "  --sklearn-color-fitted-level-1: #d4ebff;\n",
       "  --sklearn-color-fitted-level-2: #b3dbfd;\n",
       "  --sklearn-color-fitted-level-3: cornflowerblue;\n",
       "\n",
       "  /* Specific color for light theme */\n",
       "  --sklearn-color-text-on-default-background: var(--sg-text-color, var(--theme-code-foreground, var(--jp-content-font-color1, black)));\n",
       "  --sklearn-color-background: var(--sg-background-color, var(--theme-background, var(--jp-layout-color0, white)));\n",
       "  --sklearn-color-border-box: var(--sg-text-color, var(--theme-code-foreground, var(--jp-content-font-color1, black)));\n",
       "  --sklearn-color-icon: #696969;\n",
       "\n",
       "  @media (prefers-color-scheme: dark) {\n",
       "    /* Redefinition of color scheme for dark theme */\n",
       "    --sklearn-color-text-on-default-background: var(--sg-text-color, var(--theme-code-foreground, var(--jp-content-font-color1, white)));\n",
       "    --sklearn-color-background: var(--sg-background-color, var(--theme-background, var(--jp-layout-color0, #111)));\n",
       "    --sklearn-color-border-box: var(--sg-text-color, var(--theme-code-foreground, var(--jp-content-font-color1, white)));\n",
       "    --sklearn-color-icon: #878787;\n",
       "  }\n",
       "}\n",
       "\n",
       "#sk-container-id-2 {\n",
       "  color: var(--sklearn-color-text);\n",
       "}\n",
       "\n",
       "#sk-container-id-2 pre {\n",
       "  padding: 0;\n",
       "}\n",
       "\n",
       "#sk-container-id-2 input.sk-hidden--visually {\n",
       "  border: 0;\n",
       "  clip: rect(1px 1px 1px 1px);\n",
       "  clip: rect(1px, 1px, 1px, 1px);\n",
       "  height: 1px;\n",
       "  margin: -1px;\n",
       "  overflow: hidden;\n",
       "  padding: 0;\n",
       "  position: absolute;\n",
       "  width: 1px;\n",
       "}\n",
       "\n",
       "#sk-container-id-2 div.sk-dashed-wrapped {\n",
       "  border: 1px dashed var(--sklearn-color-line);\n",
       "  margin: 0 0.4em 0.5em 0.4em;\n",
       "  box-sizing: border-box;\n",
       "  padding-bottom: 0.4em;\n",
       "  background-color: var(--sklearn-color-background);\n",
       "}\n",
       "\n",
       "#sk-container-id-2 div.sk-container {\n",
       "  /* jupyter's `normalize.less` sets `[hidden] { display: none; }`\n",
       "     but bootstrap.min.css set `[hidden] { display: none !important; }`\n",
       "     so we also need the `!important` here to be able to override the\n",
       "     default hidden behavior on the sphinx rendered scikit-learn.org.\n",
       "     See: https://github.com/scikit-learn/scikit-learn/issues/21755 */\n",
       "  display: inline-block !important;\n",
       "  position: relative;\n",
       "}\n",
       "\n",
       "#sk-container-id-2 div.sk-text-repr-fallback {\n",
       "  display: none;\n",
       "}\n",
       "\n",
       "div.sk-parallel-item,\n",
       "div.sk-serial,\n",
       "div.sk-item {\n",
       "  /* draw centered vertical line to link estimators */\n",
       "  background-image: linear-gradient(var(--sklearn-color-text-on-default-background), var(--sklearn-color-text-on-default-background));\n",
       "  background-size: 2px 100%;\n",
       "  background-repeat: no-repeat;\n",
       "  background-position: center center;\n",
       "}\n",
       "\n",
       "/* Parallel-specific style estimator block */\n",
       "\n",
       "#sk-container-id-2 div.sk-parallel-item::after {\n",
       "  content: \"\";\n",
       "  width: 100%;\n",
       "  border-bottom: 2px solid var(--sklearn-color-text-on-default-background);\n",
       "  flex-grow: 1;\n",
       "}\n",
       "\n",
       "#sk-container-id-2 div.sk-parallel {\n",
       "  display: flex;\n",
       "  align-items: stretch;\n",
       "  justify-content: center;\n",
       "  background-color: var(--sklearn-color-background);\n",
       "  position: relative;\n",
       "}\n",
       "\n",
       "#sk-container-id-2 div.sk-parallel-item {\n",
       "  display: flex;\n",
       "  flex-direction: column;\n",
       "}\n",
       "\n",
       "#sk-container-id-2 div.sk-parallel-item:first-child::after {\n",
       "  align-self: flex-end;\n",
       "  width: 50%;\n",
       "}\n",
       "\n",
       "#sk-container-id-2 div.sk-parallel-item:last-child::after {\n",
       "  align-self: flex-start;\n",
       "  width: 50%;\n",
       "}\n",
       "\n",
       "#sk-container-id-2 div.sk-parallel-item:only-child::after {\n",
       "  width: 0;\n",
       "}\n",
       "\n",
       "/* Serial-specific style estimator block */\n",
       "\n",
       "#sk-container-id-2 div.sk-serial {\n",
       "  display: flex;\n",
       "  flex-direction: column;\n",
       "  align-items: center;\n",
       "  background-color: var(--sklearn-color-background);\n",
       "  padding-right: 1em;\n",
       "  padding-left: 1em;\n",
       "}\n",
       "\n",
       "\n",
       "/* Toggleable style: style used for estimator/Pipeline/ColumnTransformer box that is\n",
       "clickable and can be expanded/collapsed.\n",
       "- Pipeline and ColumnTransformer use this feature and define the default style\n",
       "- Estimators will overwrite some part of the style using the `sk-estimator` class\n",
       "*/\n",
       "\n",
       "/* Pipeline and ColumnTransformer style (default) */\n",
       "\n",
       "#sk-container-id-2 div.sk-toggleable {\n",
       "  /* Default theme specific background. It is overwritten whether we have a\n",
       "  specific estimator or a Pipeline/ColumnTransformer */\n",
       "  background-color: var(--sklearn-color-background);\n",
       "}\n",
       "\n",
       "/* Toggleable label */\n",
       "#sk-container-id-2 label.sk-toggleable__label {\n",
       "  cursor: pointer;\n",
       "  display: flex;\n",
       "  width: 100%;\n",
       "  margin-bottom: 0;\n",
       "  padding: 0.5em;\n",
       "  box-sizing: border-box;\n",
       "  text-align: center;\n",
       "  align-items: start;\n",
       "  justify-content: space-between;\n",
       "  gap: 0.5em;\n",
       "}\n",
       "\n",
       "#sk-container-id-2 label.sk-toggleable__label .caption {\n",
       "  font-size: 0.6rem;\n",
       "  font-weight: lighter;\n",
       "  color: var(--sklearn-color-text-muted);\n",
       "}\n",
       "\n",
       "#sk-container-id-2 label.sk-toggleable__label-arrow:before {\n",
       "  /* Arrow on the left of the label */\n",
       "  content: \"▸\";\n",
       "  float: left;\n",
       "  margin-right: 0.25em;\n",
       "  color: var(--sklearn-color-icon);\n",
       "}\n",
       "\n",
       "#sk-container-id-2 label.sk-toggleable__label-arrow:hover:before {\n",
       "  color: var(--sklearn-color-text);\n",
       "}\n",
       "\n",
       "/* Toggleable content - dropdown */\n",
       "\n",
       "#sk-container-id-2 div.sk-toggleable__content {\n",
       "  max-height: 0;\n",
       "  max-width: 0;\n",
       "  overflow: hidden;\n",
       "  text-align: left;\n",
       "  /* unfitted */\n",
       "  background-color: var(--sklearn-color-unfitted-level-0);\n",
       "}\n",
       "\n",
       "#sk-container-id-2 div.sk-toggleable__content.fitted {\n",
       "  /* fitted */\n",
       "  background-color: var(--sklearn-color-fitted-level-0);\n",
       "}\n",
       "\n",
       "#sk-container-id-2 div.sk-toggleable__content pre {\n",
       "  margin: 0.2em;\n",
       "  border-radius: 0.25em;\n",
       "  color: var(--sklearn-color-text);\n",
       "  /* unfitted */\n",
       "  background-color: var(--sklearn-color-unfitted-level-0);\n",
       "}\n",
       "\n",
       "#sk-container-id-2 div.sk-toggleable__content.fitted pre {\n",
       "  /* unfitted */\n",
       "  background-color: var(--sklearn-color-fitted-level-0);\n",
       "}\n",
       "\n",
       "#sk-container-id-2 input.sk-toggleable__control:checked~div.sk-toggleable__content {\n",
       "  /* Expand drop-down */\n",
       "  max-height: 200px;\n",
       "  max-width: 100%;\n",
       "  overflow: auto;\n",
       "}\n",
       "\n",
       "#sk-container-id-2 input.sk-toggleable__control:checked~label.sk-toggleable__label-arrow:before {\n",
       "  content: \"▾\";\n",
       "}\n",
       "\n",
       "/* Pipeline/ColumnTransformer-specific style */\n",
       "\n",
       "#sk-container-id-2 div.sk-label input.sk-toggleable__control:checked~label.sk-toggleable__label {\n",
       "  color: var(--sklearn-color-text);\n",
       "  background-color: var(--sklearn-color-unfitted-level-2);\n",
       "}\n",
       "\n",
       "#sk-container-id-2 div.sk-label.fitted input.sk-toggleable__control:checked~label.sk-toggleable__label {\n",
       "  background-color: var(--sklearn-color-fitted-level-2);\n",
       "}\n",
       "\n",
       "/* Estimator-specific style */\n",
       "\n",
       "/* Colorize estimator box */\n",
       "#sk-container-id-2 div.sk-estimator input.sk-toggleable__control:checked~label.sk-toggleable__label {\n",
       "  /* unfitted */\n",
       "  background-color: var(--sklearn-color-unfitted-level-2);\n",
       "}\n",
       "\n",
       "#sk-container-id-2 div.sk-estimator.fitted input.sk-toggleable__control:checked~label.sk-toggleable__label {\n",
       "  /* fitted */\n",
       "  background-color: var(--sklearn-color-fitted-level-2);\n",
       "}\n",
       "\n",
       "#sk-container-id-2 div.sk-label label.sk-toggleable__label,\n",
       "#sk-container-id-2 div.sk-label label {\n",
       "  /* The background is the default theme color */\n",
       "  color: var(--sklearn-color-text-on-default-background);\n",
       "}\n",
       "\n",
       "/* On hover, darken the color of the background */\n",
       "#sk-container-id-2 div.sk-label:hover label.sk-toggleable__label {\n",
       "  color: var(--sklearn-color-text);\n",
       "  background-color: var(--sklearn-color-unfitted-level-2);\n",
       "}\n",
       "\n",
       "/* Label box, darken color on hover, fitted */\n",
       "#sk-container-id-2 div.sk-label.fitted:hover label.sk-toggleable__label.fitted {\n",
       "  color: var(--sklearn-color-text);\n",
       "  background-color: var(--sklearn-color-fitted-level-2);\n",
       "}\n",
       "\n",
       "/* Estimator label */\n",
       "\n",
       "#sk-container-id-2 div.sk-label label {\n",
       "  font-family: monospace;\n",
       "  font-weight: bold;\n",
       "  display: inline-block;\n",
       "  line-height: 1.2em;\n",
       "}\n",
       "\n",
       "#sk-container-id-2 div.sk-label-container {\n",
       "  text-align: center;\n",
       "}\n",
       "\n",
       "/* Estimator-specific */\n",
       "#sk-container-id-2 div.sk-estimator {\n",
       "  font-family: monospace;\n",
       "  border: 1px dotted var(--sklearn-color-border-box);\n",
       "  border-radius: 0.25em;\n",
       "  box-sizing: border-box;\n",
       "  margin-bottom: 0.5em;\n",
       "  /* unfitted */\n",
       "  background-color: var(--sklearn-color-unfitted-level-0);\n",
       "}\n",
       "\n",
       "#sk-container-id-2 div.sk-estimator.fitted {\n",
       "  /* fitted */\n",
       "  background-color: var(--sklearn-color-fitted-level-0);\n",
       "}\n",
       "\n",
       "/* on hover */\n",
       "#sk-container-id-2 div.sk-estimator:hover {\n",
       "  /* unfitted */\n",
       "  background-color: var(--sklearn-color-unfitted-level-2);\n",
       "}\n",
       "\n",
       "#sk-container-id-2 div.sk-estimator.fitted:hover {\n",
       "  /* fitted */\n",
       "  background-color: var(--sklearn-color-fitted-level-2);\n",
       "}\n",
       "\n",
       "/* Specification for estimator info (e.g. \"i\" and \"?\") */\n",
       "\n",
       "/* Common style for \"i\" and \"?\" */\n",
       "\n",
       ".sk-estimator-doc-link,\n",
       "a:link.sk-estimator-doc-link,\n",
       "a:visited.sk-estimator-doc-link {\n",
       "  float: right;\n",
       "  font-size: smaller;\n",
       "  line-height: 1em;\n",
       "  font-family: monospace;\n",
       "  background-color: var(--sklearn-color-background);\n",
       "  border-radius: 1em;\n",
       "  height: 1em;\n",
       "  width: 1em;\n",
       "  text-decoration: none !important;\n",
       "  margin-left: 0.5em;\n",
       "  text-align: center;\n",
       "  /* unfitted */\n",
       "  border: var(--sklearn-color-unfitted-level-1) 1pt solid;\n",
       "  color: var(--sklearn-color-unfitted-level-1);\n",
       "}\n",
       "\n",
       ".sk-estimator-doc-link.fitted,\n",
       "a:link.sk-estimator-doc-link.fitted,\n",
       "a:visited.sk-estimator-doc-link.fitted {\n",
       "  /* fitted */\n",
       "  border: var(--sklearn-color-fitted-level-1) 1pt solid;\n",
       "  color: var(--sklearn-color-fitted-level-1);\n",
       "}\n",
       "\n",
       "/* On hover */\n",
       "div.sk-estimator:hover .sk-estimator-doc-link:hover,\n",
       ".sk-estimator-doc-link:hover,\n",
       "div.sk-label-container:hover .sk-estimator-doc-link:hover,\n",
       ".sk-estimator-doc-link:hover {\n",
       "  /* unfitted */\n",
       "  background-color: var(--sklearn-color-unfitted-level-3);\n",
       "  color: var(--sklearn-color-background);\n",
       "  text-decoration: none;\n",
       "}\n",
       "\n",
       "div.sk-estimator.fitted:hover .sk-estimator-doc-link.fitted:hover,\n",
       ".sk-estimator-doc-link.fitted:hover,\n",
       "div.sk-label-container:hover .sk-estimator-doc-link.fitted:hover,\n",
       ".sk-estimator-doc-link.fitted:hover {\n",
       "  /* fitted */\n",
       "  background-color: var(--sklearn-color-fitted-level-3);\n",
       "  color: var(--sklearn-color-background);\n",
       "  text-decoration: none;\n",
       "}\n",
       "\n",
       "/* Span, style for the box shown on hovering the info icon */\n",
       ".sk-estimator-doc-link span {\n",
       "  display: none;\n",
       "  z-index: 9999;\n",
       "  position: relative;\n",
       "  font-weight: normal;\n",
       "  right: .2ex;\n",
       "  padding: .5ex;\n",
       "  margin: .5ex;\n",
       "  width: min-content;\n",
       "  min-width: 20ex;\n",
       "  max-width: 50ex;\n",
       "  color: var(--sklearn-color-text);\n",
       "  box-shadow: 2pt 2pt 4pt #999;\n",
       "  /* unfitted */\n",
       "  background: var(--sklearn-color-unfitted-level-0);\n",
       "  border: .5pt solid var(--sklearn-color-unfitted-level-3);\n",
       "}\n",
       "\n",
       ".sk-estimator-doc-link.fitted span {\n",
       "  /* fitted */\n",
       "  background: var(--sklearn-color-fitted-level-0);\n",
       "  border: var(--sklearn-color-fitted-level-3);\n",
       "}\n",
       "\n",
       ".sk-estimator-doc-link:hover span {\n",
       "  display: block;\n",
       "}\n",
       "\n",
       "/* \"?\"-specific style due to the `<a>` HTML tag */\n",
       "\n",
       "#sk-container-id-2 a.estimator_doc_link {\n",
       "  float: right;\n",
       "  font-size: 1rem;\n",
       "  line-height: 1em;\n",
       "  font-family: monospace;\n",
       "  background-color: var(--sklearn-color-background);\n",
       "  border-radius: 1rem;\n",
       "  height: 1rem;\n",
       "  width: 1rem;\n",
       "  text-decoration: none;\n",
       "  /* unfitted */\n",
       "  color: var(--sklearn-color-unfitted-level-1);\n",
       "  border: var(--sklearn-color-unfitted-level-1) 1pt solid;\n",
       "}\n",
       "\n",
       "#sk-container-id-2 a.estimator_doc_link.fitted {\n",
       "  /* fitted */\n",
       "  border: var(--sklearn-color-fitted-level-1) 1pt solid;\n",
       "  color: var(--sklearn-color-fitted-level-1);\n",
       "}\n",
       "\n",
       "/* On hover */\n",
       "#sk-container-id-2 a.estimator_doc_link:hover {\n",
       "  /* unfitted */\n",
       "  background-color: var(--sklearn-color-unfitted-level-3);\n",
       "  color: var(--sklearn-color-background);\n",
       "  text-decoration: none;\n",
       "}\n",
       "\n",
       "#sk-container-id-2 a.estimator_doc_link.fitted:hover {\n",
       "  /* fitted */\n",
       "  background-color: var(--sklearn-color-fitted-level-3);\n",
       "}\n",
       "</style><div id=\"sk-container-id-2\" class=\"sk-top-container\"><div class=\"sk-text-repr-fallback\"><pre>LinearRegression()</pre><b>In a Jupyter environment, please rerun this cell to show the HTML representation or trust the notebook. <br />On GitHub, the HTML representation is unable to render, please try loading this page with nbviewer.org.</b></div><div class=\"sk-container\" hidden><div class=\"sk-item\"><div class=\"sk-estimator fitted sk-toggleable\"><input class=\"sk-toggleable__control sk-hidden--visually\" id=\"sk-estimator-id-2\" type=\"checkbox\" checked><label for=\"sk-estimator-id-2\" class=\"sk-toggleable__label fitted sk-toggleable__label-arrow\"><div><div>LinearRegression</div></div><div><a class=\"sk-estimator-doc-link fitted\" rel=\"noreferrer\" target=\"_blank\" href=\"https://scikit-learn.org/1.6/modules/generated/sklearn.linear_model.LinearRegression.html\">?<span>Documentation for LinearRegression</span></a><span class=\"sk-estimator-doc-link fitted\">i<span>Fitted</span></span></div></label><div class=\"sk-toggleable__content fitted\"><pre>LinearRegression()</pre></div> </div></div></div></div>"
      ],
      "text/plain": [
       "LinearRegression()"
      ]
     },
     "execution_count": 245,
     "metadata": {},
     "output_type": "execute_result"
    }
   ],
   "source": [
    "from sklearn.linear_model import LinearRegression\n",
    "\n",
    "linr = LinearRegression()\n",
    "linr.fit(X_train, y_train)"
   ]
  },
  {
   "cell_type": "markdown",
   "metadata": {},
   "source": [
    "### Model testing and evaluation"
   ]
  },
  {
   "cell_type": "code",
   "execution_count": 246,
   "metadata": {},
   "outputs": [
    {
     "name": "stdout",
     "output_type": "stream",
     "text": [
      "R-squared: 0.87\n",
      "Training Set: 0.8694782052874421\n",
      "Test Set: 0.8703807450381872\n"
     ]
    },
    {
     "data": {
      "image/png": "[encoded data removed]",
      "text/plain": [
       "<Figure size 1000x700 with 2 Axes>"
      ]
     },
     "metadata": {},
     "output_type": "display_data"
    }
   ],
   "source": [
    "from sklearn.metrics import confusion_matrix\n",
    "\n",
    "#See the R-Squared\n",
    "score = linr.score(X_test, y_test)\n",
    "print(\"R-squared: {:.2f}\".format(score))\n",
    "\n",
    "#Now test the model\n",
    "y_pred = linr.predict(X_test)\n",
    "print('Training Set:', linr.score(X_train,y_train))\n",
    "print('Test Set:', linr.score(X_test,y_test))\n",
    "\n",
    "# Convert continuous predictions to binary predictions using a threshold, otherwise the we would get a 3x3 matrix\n",
    "# We are using 0.5 as the threshold, but it can be higher or lower\n",
    "y_pred_binary = (y_pred > 0.5).astype(int)\n",
    "\n",
    "# Calculate confusion matrix to evaluate the model performance and see how many injuries were predicted\n",
    "cm = confusion_matrix(y_test, y_pred_binary)\n",
    "\n",
    "plt.figure(figsize=(10, 7))\n",
    "sns.heatmap(cm, annot=True, fmt='d', cmap='Blues', xticklabels=['No Injury', 'Injury'], yticklabels=['No Injury', 'Injury'])\n",
    "plt.xlabel('Predicted')\n",
    "plt.ylabel('True')\n",
    "plt.title('Confusion Matrix')\n",
    "plt.savefig('../visualizations/confusion_matrix.png')\n",
    "plt.show()\n"
   ]
  },
  {
   "cell_type": "code",
   "execution_count": null,
   "metadata": {},
   "outputs": [],
   "source": []
  }
 ],
 "metadata": {
  "kernelspec": {
   "display_name": ".venv",
   "language": "python",
   "name": "python3"
  },
  "language_info": {
   "codemirror_mode": {
    "name": "ipython",
    "version": 3
   },
   "file_extension": ".py",
   "mimetype": "text/x-python",
   "name": "python",
   "nbconvert_exporter": "python",
   "pygments_lexer": "ipython3",
   "version": "3.13.1"
  }
 },
 "nbformat": 4,
 "nbformat_minor": 2
}
